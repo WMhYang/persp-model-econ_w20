{
 "cells": [
  {
   "cell_type": "markdown",
   "metadata": {},
   "source": [
    "# Problem Set #8\n",
    "MACS 30150, Dr. Evans  \n",
    "Minghao Yang"
   ]
  },
  {
   "cell_type": "code",
   "execution_count": 1,
   "metadata": {},
   "outputs": [],
   "source": [
    "# Import the necessary libraries\n",
    "import pandas as pd\n",
    "import numpy as np\n",
    "import matplotlib.pyplot as plt\n",
    "import sklearn\n",
    "from sklearn.model_selection import train_test_split, LeaveOneOut, KFold, RandomizedSearchCV\n",
    "from sklearn.linear_model import LogisticRegression\n",
    "from sklearn.metrics import classification_report, mean_squared_error\n",
    "from sklearn.tree import DecisionTreeRegressor, DecisionTreeClassifier, export_graphviz\n",
    "from sklearn.ensemble import RandomForestRegressor, RandomForestClassifier\n",
    "from sklearn.svm import SVC\n",
    "import graphviz\n",
    "from scipy.stats import randint as sp_randint\n",
    "from scipy.stats import uniform as sp_uniform"
   ]
  },
  {
   "cell_type": "markdown",
   "metadata": {},
   "source": [
    "## 1. Decision Trees (5 points)\n",
    "### (a)"
   ]
  },
  {
   "cell_type": "code",
   "execution_count": 2,
   "metadata": {},
   "outputs": [
    {
     "data": {
      "text/html": [
       "<div>\n",
       "<style scoped>\n",
       "    .dataframe tbody tr th:only-of-type {\n",
       "        vertical-align: middle;\n",
       "    }\n",
       "\n",
       "    .dataframe tbody tr th {\n",
       "        vertical-align: top;\n",
       "    }\n",
       "\n",
       "    .dataframe thead th {\n",
       "        text-align: right;\n",
       "    }\n",
       "</style>\n",
       "<table border=\"1\" class=\"dataframe\">\n",
       "  <thead>\n",
       "    <tr style=\"text-align: right;\">\n",
       "      <th></th>\n",
       "      <th>biden</th>\n",
       "      <th>female</th>\n",
       "      <th>age</th>\n",
       "      <th>educ</th>\n",
       "      <th>dem</th>\n",
       "      <th>rep</th>\n",
       "    </tr>\n",
       "  </thead>\n",
       "  <tbody>\n",
       "    <tr>\n",
       "      <th>0</th>\n",
       "      <td>90</td>\n",
       "      <td>0</td>\n",
       "      <td>19</td>\n",
       "      <td>12</td>\n",
       "      <td>1</td>\n",
       "      <td>0</td>\n",
       "    </tr>\n",
       "    <tr>\n",
       "      <th>1</th>\n",
       "      <td>70</td>\n",
       "      <td>1</td>\n",
       "      <td>51</td>\n",
       "      <td>14</td>\n",
       "      <td>1</td>\n",
       "      <td>0</td>\n",
       "    </tr>\n",
       "    <tr>\n",
       "      <th>2</th>\n",
       "      <td>60</td>\n",
       "      <td>0</td>\n",
       "      <td>27</td>\n",
       "      <td>14</td>\n",
       "      <td>0</td>\n",
       "      <td>0</td>\n",
       "    </tr>\n",
       "    <tr>\n",
       "      <th>3</th>\n",
       "      <td>50</td>\n",
       "      <td>1</td>\n",
       "      <td>43</td>\n",
       "      <td>14</td>\n",
       "      <td>1</td>\n",
       "      <td>0</td>\n",
       "    </tr>\n",
       "    <tr>\n",
       "      <th>4</th>\n",
       "      <td>60</td>\n",
       "      <td>1</td>\n",
       "      <td>38</td>\n",
       "      <td>14</td>\n",
       "      <td>0</td>\n",
       "      <td>1</td>\n",
       "    </tr>\n",
       "  </tbody>\n",
       "</table>\n",
       "</div>"
      ],
      "text/plain": [
       "   biden  female  age  educ  dem  rep\n",
       "0     90       0   19    12    1    0\n",
       "1     70       1   51    14    1    0\n",
       "2     60       0   27    14    0    0\n",
       "3     50       1   43    14    1    0\n",
       "4     60       1   38    14    0    1"
      ]
     },
     "execution_count": 2,
     "metadata": {},
     "output_type": "execute_result"
    }
   ],
   "source": [
    "# Load the data as a dataframe\n",
    "df1 = pd.read_csv('biden.csv')\n",
    "df1.head()"
   ]
  },
  {
   "cell_type": "code",
   "execution_count": 3,
   "metadata": {},
   "outputs": [
    {
     "data": {
      "text/plain": [
       "biden     0\n",
       "female    0\n",
       "age       0\n",
       "educ      0\n",
       "dem       0\n",
       "rep       0\n",
       "dtype: int64"
      ]
     },
     "execution_count": 3,
     "metadata": {},
     "output_type": "execute_result"
    }
   ],
   "source": [
    "# Check if there are missing values\n",
    "df1.isnull().sum()"
   ]
  },
  {
   "cell_type": "code",
   "execution_count": 4,
   "metadata": {},
   "outputs": [],
   "source": [
    "# Sample splitting\n",
    "X_1a = df1[['female', 'age', 'educ', 'dem', 'rep']]\n",
    "y_1a = df1['biden']\n",
    "X_train_1a, X_test_1a, y_train_1a, y_test_1a = train_test_split(X_1a, y_1a, test_size=0.3, random_state=25)"
   ]
  },
  {
   "cell_type": "code",
   "execution_count": 5,
   "metadata": {},
   "outputs": [
    {
     "data": {
      "text/plain": [
       "DecisionTreeRegressor(ccp_alpha=0.0, criterion='mse', max_depth=3,\n",
       "                      max_features=None, max_leaf_nodes=None,\n",
       "                      min_impurity_decrease=0.0, min_impurity_split=None,\n",
       "                      min_samples_leaf=5, min_samples_split=2,\n",
       "                      min_weight_fraction_leaf=0.0, presort='deprecated',\n",
       "                      random_state=None, splitter='best')"
      ]
     },
     "execution_count": 5,
     "metadata": {},
     "output_type": "execute_result"
    }
   ],
   "source": [
    "# Tree-based methods\n",
    "biden_tree_1a = DecisionTreeRegressor(max_depth=3, min_samples_leaf=5)\n",
    "biden_tree_1a.fit(X_train_1a, y_train_1a)"
   ]
  },
  {
   "cell_type": "code",
   "execution_count": 6,
   "metadata": {
    "scrolled": false
   },
   "outputs": [
    {
     "data": {
      "image/svg+xml": [
       "<?xml version=\"1.0\" encoding=\"UTF-8\" standalone=\"no\"?>\r\n",
       "<!DOCTYPE svg PUBLIC \"-//W3C//DTD SVG 1.1//EN\"\r\n",
       " \"http://www.w3.org/Graphics/SVG/1.1/DTD/svg11.dtd\">\r\n",
       "<!-- Generated by graphviz version 2.38.0 (20140413.2041)\r\n",
       " -->\r\n",
       "<!-- Title: Tree Pages: 1 -->\r\n",
       "<svg width=\"1038pt\" height=\"373pt\"\r\n",
       " viewBox=\"0.00 0.00 1038.00 373.00\" xmlns=\"http://www.w3.org/2000/svg\" xmlns:xlink=\"http://www.w3.org/1999/xlink\">\r\n",
       "<g id=\"graph0\" class=\"graph\" transform=\"scale(1 1) rotate(0) translate(4 369)\">\r\n",
       "<title>Tree</title>\r\n",
       "<polygon fill=\"white\" stroke=\"none\" points=\"-4,4 -4,-369 1034,-369 1034,4 -4,4\"/>\r\n",
       "<!-- 0 -->\r\n",
       "<g id=\"node1\" class=\"node\"><title>0</title>\r\n",
       "<path fill=\"#f0b78f\" stroke=\"black\" d=\"M562,-365C562,-365 467,-365 467,-365 461,-365 455,-359 455,-353 455,-353 455,-309 455,-309 455,-303 461,-297 467,-297 467,-297 562,-297 562,-297 568,-297 574,-303 574,-309 574,-309 574,-353 574,-353 574,-359 568,-365 562,-365\"/>\r\n",
       "<text text-anchor=\"middle\" x=\"514.5\" y=\"-349.8\" font-family=\"Helvetica,sans-Serif\" font-size=\"14.00\">dem &lt;= 0.5</text>\r\n",
       "<text text-anchor=\"middle\" x=\"514.5\" y=\"-334.8\" font-family=\"Helvetica,sans-Serif\" font-size=\"14.00\">mse = 556.262</text>\r\n",
       "<text text-anchor=\"middle\" x=\"514.5\" y=\"-319.8\" font-family=\"Helvetica,sans-Serif\" font-size=\"14.00\">samples = 1264</text>\r\n",
       "<text text-anchor=\"middle\" x=\"514.5\" y=\"-304.8\" font-family=\"Helvetica,sans-Serif\" font-size=\"14.00\">value = 62.165</text>\r\n",
       "</g>\r\n",
       "<!-- 1 -->\r\n",
       "<g id=\"node2\" class=\"node\"><title>1</title>\r\n",
       "<path fill=\"#f6d4bb\" stroke=\"black\" d=\"M428,-261C428,-261 339,-261 339,-261 333,-261 327,-255 327,-249 327,-249 327,-205 327,-205 327,-199 333,-193 339,-193 339,-193 428,-193 428,-193 434,-193 440,-199 440,-205 440,-205 440,-249 440,-249 440,-255 434,-261 428,-261\"/>\r\n",
       "<text text-anchor=\"middle\" x=\"383.5\" y=\"-245.8\" font-family=\"Helvetica,sans-Serif\" font-size=\"14.00\">rep &lt;= 0.5</text>\r\n",
       "<text text-anchor=\"middle\" x=\"383.5\" y=\"-230.8\" font-family=\"Helvetica,sans-Serif\" font-size=\"14.00\">mse = 507.397</text>\r\n",
       "<text text-anchor=\"middle\" x=\"383.5\" y=\"-215.8\" font-family=\"Helvetica,sans-Serif\" font-size=\"14.00\">samples = 724</text>\r\n",
       "<text text-anchor=\"middle\" x=\"383.5\" y=\"-200.8\" font-family=\"Helvetica,sans-Serif\" font-size=\"14.00\">value = 52.811</text>\r\n",
       "</g>\r\n",
       "<!-- 0&#45;&gt;1 -->\r\n",
       "<g id=\"edge1\" class=\"edge\"><title>0&#45;&gt;1</title>\r\n",
       "<path fill=\"none\" stroke=\"black\" d=\"M471.968,-296.884C459.956,-287.531 446.764,-277.259 434.318,-267.568\"/>\r\n",
       "<polygon fill=\"black\" stroke=\"black\" points=\"436.307,-264.681 426.267,-261.299 432.007,-270.205 436.307,-264.681\"/>\r\n",
       "<text text-anchor=\"middle\" x=\"429.355\" y=\"-282.408\" font-family=\"Helvetica,sans-Serif\" font-size=\"14.00\">True</text>\r\n",
       "</g>\r\n",
       "<!-- 8 -->\r\n",
       "<g id=\"node9\" class=\"node\"><title>8</title>\r\n",
       "<path fill=\"#e89253\" stroke=\"black\" d=\"M690,-261C690,-261 601,-261 601,-261 595,-261 589,-255 589,-249 589,-249 589,-205 589,-205 589,-199 595,-193 601,-193 601,-193 690,-193 690,-193 696,-193 702,-199 702,-205 702,-205 702,-249 702,-249 702,-255 696,-261 690,-261\"/>\r\n",
       "<text text-anchor=\"middle\" x=\"645.5\" y=\"-245.8\" font-family=\"Helvetica,sans-Serif\" font-size=\"14.00\">age &lt;= 54.5</text>\r\n",
       "<text text-anchor=\"middle\" x=\"645.5\" y=\"-230.8\" font-family=\"Helvetica,sans-Serif\" font-size=\"14.00\">mse = 347.197</text>\r\n",
       "<text text-anchor=\"middle\" x=\"645.5\" y=\"-215.8\" font-family=\"Helvetica,sans-Serif\" font-size=\"14.00\">samples = 540</text>\r\n",
       "<text text-anchor=\"middle\" x=\"645.5\" y=\"-200.8\" font-family=\"Helvetica,sans-Serif\" font-size=\"14.00\">value = 74.706</text>\r\n",
       "</g>\r\n",
       "<!-- 0&#45;&gt;8 -->\r\n",
       "<g id=\"edge8\" class=\"edge\"><title>0&#45;&gt;8</title>\r\n",
       "<path fill=\"none\" stroke=\"black\" d=\"M557.032,-296.884C569.044,-287.531 582.236,-277.259 594.682,-267.568\"/>\r\n",
       "<polygon fill=\"black\" stroke=\"black\" points=\"596.993,-270.205 602.733,-261.299 592.693,-264.681 596.993,-270.205\"/>\r\n",
       "<text text-anchor=\"middle\" x=\"599.645\" y=\"-282.408\" font-family=\"Helvetica,sans-Serif\" font-size=\"14.00\">False</text>\r\n",
       "</g>\r\n",
       "<!-- 2 -->\r\n",
       "<g id=\"node3\" class=\"node\"><title>2</title>\r\n",
       "<path fill=\"#f2c19e\" stroke=\"black\" d=\"M232,-157C232,-157 143,-157 143,-157 137,-157 131,-151 131,-145 131,-145 131,-101 131,-101 131,-95 137,-89 143,-89 143,-89 232,-89 232,-89 238,-89 244,-95 244,-101 244,-101 244,-145 244,-145 244,-151 238,-157 232,-157\"/>\r\n",
       "<text text-anchor=\"middle\" x=\"187.5\" y=\"-141.8\" font-family=\"Helvetica,sans-Serif\" font-size=\"14.00\">female &lt;= 0.5</text>\r\n",
       "<text text-anchor=\"middle\" x=\"187.5\" y=\"-126.8\" font-family=\"Helvetica,sans-Serif\" font-size=\"14.00\">mse = 444.551</text>\r\n",
       "<text text-anchor=\"middle\" x=\"187.5\" y=\"-111.8\" font-family=\"Helvetica,sans-Serif\" font-size=\"14.00\">samples = 468</text>\r\n",
       "<text text-anchor=\"middle\" x=\"187.5\" y=\"-96.8\" font-family=\"Helvetica,sans-Serif\" font-size=\"14.00\">value = 58.868</text>\r\n",
       "</g>\r\n",
       "<!-- 1&#45;&gt;2 -->\r\n",
       "<g id=\"edge2\" class=\"edge\"><title>1&#45;&gt;2</title>\r\n",
       "<path fill=\"none\" stroke=\"black\" d=\"M326.809,-196.497C303.751,-184.498 276.959,-170.555 253.065,-158.121\"/>\r\n",
       "<polygon fill=\"black\" stroke=\"black\" points=\"254.55,-154.948 244.064,-153.436 251.319,-161.157 254.55,-154.948\"/>\r\n",
       "</g>\r\n",
       "<!-- 5 -->\r\n",
       "<g id=\"node6\" class=\"node\"><title>5</title>\r\n",
       "<path fill=\"#fdf5ef\" stroke=\"black\" d=\"M428,-157C428,-157 339,-157 339,-157 333,-157 327,-151 327,-145 327,-145 327,-101 327,-101 327,-95 333,-89 339,-89 339,-89 428,-89 428,-89 434,-89 440,-95 440,-101 440,-101 440,-145 440,-145 440,-151 434,-157 428,-157\"/>\r\n",
       "<text text-anchor=\"middle\" x=\"383.5\" y=\"-141.8\" font-family=\"Helvetica,sans-Serif\" font-size=\"14.00\">female &lt;= 0.5</text>\r\n",
       "<text text-anchor=\"middle\" x=\"383.5\" y=\"-126.8\" font-family=\"Helvetica,sans-Serif\" font-size=\"14.00\">mse = 432.623</text>\r\n",
       "<text text-anchor=\"middle\" x=\"383.5\" y=\"-111.8\" font-family=\"Helvetica,sans-Serif\" font-size=\"14.00\">samples = 256</text>\r\n",
       "<text text-anchor=\"middle\" x=\"383.5\" y=\"-96.8\" font-family=\"Helvetica,sans-Serif\" font-size=\"14.00\">value = 41.738</text>\r\n",
       "</g>\r\n",
       "<!-- 1&#45;&gt;5 -->\r\n",
       "<g id=\"edge5\" class=\"edge\"><title>1&#45;&gt;5</title>\r\n",
       "<path fill=\"none\" stroke=\"black\" d=\"M383.5,-192.884C383.5,-184.778 383.5,-175.982 383.5,-167.472\"/>\r\n",
       "<polygon fill=\"black\" stroke=\"black\" points=\"387,-167.299 383.5,-157.299 380,-167.299 387,-167.299\"/>\r\n",
       "</g>\r\n",
       "<!-- 3 -->\r\n",
       "<g id=\"node4\" class=\"node\"><title>3</title>\r\n",
       "<path fill=\"#f4c8a9\" stroke=\"black\" d=\"M101,-53C101,-53 12,-53 12,-53 6,-53 0,-47 0,-41 0,-41 0,-12 0,-12 0,-6 6,-0 12,-0 12,-0 101,-0 101,-0 107,-0 113,-6 113,-12 113,-12 113,-41 113,-41 113,-47 107,-53 101,-53\"/>\r\n",
       "<text text-anchor=\"middle\" x=\"56.5\" y=\"-37.8\" font-family=\"Helvetica,sans-Serif\" font-size=\"14.00\">mse = 470.335</text>\r\n",
       "<text text-anchor=\"middle\" x=\"56.5\" y=\"-22.8\" font-family=\"Helvetica,sans-Serif\" font-size=\"14.00\">samples = 235</text>\r\n",
       "<text text-anchor=\"middle\" x=\"56.5\" y=\"-7.8\" font-family=\"Helvetica,sans-Serif\" font-size=\"14.00\">value = 56.489</text>\r\n",
       "</g>\r\n",
       "<!-- 2&#45;&gt;3 -->\r\n",
       "<g id=\"edge3\" class=\"edge\"><title>2&#45;&gt;3</title>\r\n",
       "<path fill=\"none\" stroke=\"black\" d=\"M141.683,-88.9485C128.367,-79.3431 113.855,-68.8747 100.645,-59.345\"/>\r\n",
       "<polygon fill=\"black\" stroke=\"black\" points=\"102.335,-56.2486 92.1773,-53.2367 98.2398,-61.9257 102.335,-56.2486\"/>\r\n",
       "</g>\r\n",
       "<!-- 4 -->\r\n",
       "<g id=\"node5\" class=\"node\"><title>4</title>\r\n",
       "<path fill=\"#f1ba93\" stroke=\"black\" d=\"M232,-53C232,-53 143,-53 143,-53 137,-53 131,-47 131,-41 131,-41 131,-12 131,-12 131,-6 137,-0 143,-0 143,-0 232,-0 232,-0 238,-0 244,-6 244,-12 244,-12 244,-41 244,-41 244,-47 238,-53 232,-53\"/>\r\n",
       "<text text-anchor=\"middle\" x=\"187.5\" y=\"-37.8\" font-family=\"Helvetica,sans-Serif\" font-size=\"14.00\">mse = 407.088</text>\r\n",
       "<text text-anchor=\"middle\" x=\"187.5\" y=\"-22.8\" font-family=\"Helvetica,sans-Serif\" font-size=\"14.00\">samples = 233</text>\r\n",
       "<text text-anchor=\"middle\" x=\"187.5\" y=\"-7.8\" font-family=\"Helvetica,sans-Serif\" font-size=\"14.00\">value = 61.266</text>\r\n",
       "</g>\r\n",
       "<!-- 2&#45;&gt;4 -->\r\n",
       "<g id=\"edge4\" class=\"edge\"><title>2&#45;&gt;4</title>\r\n",
       "<path fill=\"none\" stroke=\"black\" d=\"M187.5,-88.9485C187.5,-80.7153 187.5,-71.848 187.5,-63.4814\"/>\r\n",
       "<polygon fill=\"black\" stroke=\"black\" points=\"191,-63.2367 187.5,-53.2367 184,-63.2367 191,-63.2367\"/>\r\n",
       "</g>\r\n",
       "<!-- 6 -->\r\n",
       "<g id=\"node7\" class=\"node\"><title>6</title>\r\n",
       "<path fill=\"#ffffff\" stroke=\"black\" d=\"M363,-53C363,-53 274,-53 274,-53 268,-53 262,-47 262,-41 262,-41 262,-12 262,-12 262,-6 268,-0 274,-0 274,-0 363,-0 363,-0 369,-0 375,-6 375,-12 375,-12 375,-41 375,-41 375,-47 369,-53 363,-53\"/>\r\n",
       "<text text-anchor=\"middle\" x=\"318.5\" y=\"-37.8\" font-family=\"Helvetica,sans-Serif\" font-size=\"14.00\">mse = 456.775</text>\r\n",
       "<text text-anchor=\"middle\" x=\"318.5\" y=\"-22.8\" font-family=\"Helvetica,sans-Serif\" font-size=\"14.00\">samples = 123</text>\r\n",
       "<text text-anchor=\"middle\" x=\"318.5\" y=\"-7.8\" font-family=\"Helvetica,sans-Serif\" font-size=\"14.00\">value = 38.333</text>\r\n",
       "</g>\r\n",
       "<!-- 5&#45;&gt;6 -->\r\n",
       "<g id=\"edge6\" class=\"edge\"><title>5&#45;&gt;6</title>\r\n",
       "<path fill=\"none\" stroke=\"black\" d=\"M360.766,-88.9485C354.663,-80.0749 348.053,-70.4648 341.913,-61.5388\"/>\r\n",
       "<polygon fill=\"black\" stroke=\"black\" points=\"344.753,-59.4924 336.202,-53.2367 338.986,-63.4594 344.753,-59.4924\"/>\r\n",
       "</g>\r\n",
       "<!-- 7 -->\r\n",
       "<g id=\"node8\" class=\"node\"><title>7</title>\r\n",
       "<path fill=\"#fbebe0\" stroke=\"black\" d=\"M494,-53C494,-53 405,-53 405,-53 399,-53 393,-47 393,-41 393,-41 393,-12 393,-12 393,-6 399,-0 405,-0 405,-0 494,-0 494,-0 500,-0 506,-6 506,-12 506,-12 506,-41 506,-41 506,-47 500,-53 494,-53\"/>\r\n",
       "<text text-anchor=\"middle\" x=\"449.5\" y=\"-37.8\" font-family=\"Helvetica,sans-Serif\" font-size=\"14.00\">mse = 389.649</text>\r\n",
       "<text text-anchor=\"middle\" x=\"449.5\" y=\"-22.8\" font-family=\"Helvetica,sans-Serif\" font-size=\"14.00\">samples = 133</text>\r\n",
       "<text text-anchor=\"middle\" x=\"449.5\" y=\"-7.8\" font-family=\"Helvetica,sans-Serif\" font-size=\"14.00\">value = 44.887</text>\r\n",
       "</g>\r\n",
       "<!-- 5&#45;&gt;7 -->\r\n",
       "<g id=\"edge7\" class=\"edge\"><title>5&#45;&gt;7</title>\r\n",
       "<path fill=\"none\" stroke=\"black\" d=\"M406.584,-88.9485C412.781,-80.0749 419.493,-70.4648 425.727,-61.5388\"/>\r\n",
       "<polygon fill=\"black\" stroke=\"black\" points=\"428.669,-63.4392 431.525,-53.2367 422.93,-59.4311 428.669,-63.4392\"/>\r\n",
       "</g>\r\n",
       "<!-- 9 -->\r\n",
       "<g id=\"node10\" class=\"node\"><title>9</title>\r\n",
       "<path fill=\"#ea985d\" stroke=\"black\" d=\"M690,-157C690,-157 601,-157 601,-157 595,-157 589,-151 589,-145 589,-145 589,-101 589,-101 589,-95 595,-89 601,-89 601,-89 690,-89 690,-89 696,-89 702,-95 702,-101 702,-101 702,-145 702,-145 702,-151 696,-157 690,-157\"/>\r\n",
       "<text text-anchor=\"middle\" x=\"645.5\" y=\"-141.8\" font-family=\"Helvetica,sans-Serif\" font-size=\"14.00\">educ &lt;= 15.5</text>\r\n",
       "<text text-anchor=\"middle\" x=\"645.5\" y=\"-126.8\" font-family=\"Helvetica,sans-Serif\" font-size=\"14.00\">mse = 345.027</text>\r\n",
       "<text text-anchor=\"middle\" x=\"645.5\" y=\"-111.8\" font-family=\"Helvetica,sans-Serif\" font-size=\"14.00\">samples = 340</text>\r\n",
       "<text text-anchor=\"middle\" x=\"645.5\" y=\"-96.8\" font-family=\"Helvetica,sans-Serif\" font-size=\"14.00\">value = 72.606</text>\r\n",
       "</g>\r\n",
       "<!-- 8&#45;&gt;9 -->\r\n",
       "<g id=\"edge9\" class=\"edge\"><title>8&#45;&gt;9</title>\r\n",
       "<path fill=\"none\" stroke=\"black\" d=\"M645.5,-192.884C645.5,-184.778 645.5,-175.982 645.5,-167.472\"/>\r\n",
       "<polygon fill=\"black\" stroke=\"black\" points=\"649,-167.299 645.5,-157.299 642,-167.299 649,-167.299\"/>\r\n",
       "</g>\r\n",
       "<!-- 12 -->\r\n",
       "<g id=\"node13\" class=\"node\"><title>12</title>\r\n",
       "<path fill=\"#e68743\" stroke=\"black\" d=\"M887,-157C887,-157 798,-157 798,-157 792,-157 786,-151 786,-145 786,-145 786,-101 786,-101 786,-95 792,-89 798,-89 798,-89 887,-89 887,-89 893,-89 899,-95 899,-101 899,-101 899,-145 899,-145 899,-151 893,-157 887,-157\"/>\r\n",
       "<text text-anchor=\"middle\" x=\"842.5\" y=\"-141.8\" font-family=\"Helvetica,sans-Serif\" font-size=\"14.00\">female &lt;= 0.5</text>\r\n",
       "<text text-anchor=\"middle\" x=\"842.5\" y=\"-126.8\" font-family=\"Helvetica,sans-Serif\" font-size=\"14.00\">mse = 330.649</text>\r\n",
       "<text text-anchor=\"middle\" x=\"842.5\" y=\"-111.8\" font-family=\"Helvetica,sans-Serif\" font-size=\"14.00\">samples = 200</text>\r\n",
       "<text text-anchor=\"middle\" x=\"842.5\" y=\"-96.8\" font-family=\"Helvetica,sans-Serif\" font-size=\"14.00\">value = 78.275</text>\r\n",
       "</g>\r\n",
       "<!-- 8&#45;&gt;12 -->\r\n",
       "<g id=\"edge12\" class=\"edge\"><title>8&#45;&gt;12</title>\r\n",
       "<path fill=\"none\" stroke=\"black\" d=\"M702.216,-196.634C725.499,-184.579 752.605,-170.545 776.749,-158.044\"/>\r\n",
       "<polygon fill=\"black\" stroke=\"black\" points=\"778.572,-161.041 785.843,-153.335 775.353,-154.825 778.572,-161.041\"/>\r\n",
       "</g>\r\n",
       "<!-- 10 -->\r\n",
       "<g id=\"node11\" class=\"node\"><title>10</title>\r\n",
       "<path fill=\"#eb9d64\" stroke=\"black\" d=\"M625,-53C625,-53 536,-53 536,-53 530,-53 524,-47 524,-41 524,-41 524,-12 524,-12 524,-6 530,-0 536,-0 536,-0 625,-0 625,-0 631,-0 637,-6 637,-12 637,-12 637,-41 637,-41 637,-47 631,-53 625,-53\"/>\r\n",
       "<text text-anchor=\"middle\" x=\"580.5\" y=\"-37.8\" font-family=\"Helvetica,sans-Serif\" font-size=\"14.00\">mse = 369.301</text>\r\n",
       "<text text-anchor=\"middle\" x=\"580.5\" y=\"-22.8\" font-family=\"Helvetica,sans-Serif\" font-size=\"14.00\">samples = 247</text>\r\n",
       "<text text-anchor=\"middle\" x=\"580.5\" y=\"-7.8\" font-family=\"Helvetica,sans-Serif\" font-size=\"14.00\">value = 71.105</text>\r\n",
       "</g>\r\n",
       "<!-- 9&#45;&gt;10 -->\r\n",
       "<g id=\"edge10\" class=\"edge\"><title>9&#45;&gt;10</title>\r\n",
       "<path fill=\"none\" stroke=\"black\" d=\"M622.766,-88.9485C616.663,-80.0749 610.053,-70.4648 603.913,-61.5388\"/>\r\n",
       "<polygon fill=\"black\" stroke=\"black\" points=\"606.753,-59.4924 598.202,-53.2367 600.986,-63.4594 606.753,-59.4924\"/>\r\n",
       "</g>\r\n",
       "<!-- 11 -->\r\n",
       "<g id=\"node12\" class=\"node\"><title>11</title>\r\n",
       "<path fill=\"#e78c4a\" stroke=\"black\" d=\"M756,-53C756,-53 667,-53 667,-53 661,-53 655,-47 655,-41 655,-41 655,-12 655,-12 655,-6 661,-0 667,-0 667,-0 756,-0 756,-0 762,-0 768,-6 768,-12 768,-12 768,-41 768,-41 768,-47 762,-53 756,-53\"/>\r\n",
       "<text text-anchor=\"middle\" x=\"711.5\" y=\"-37.8\" font-family=\"Helvetica,sans-Serif\" font-size=\"14.00\">mse = 258.693</text>\r\n",
       "<text text-anchor=\"middle\" x=\"711.5\" y=\"-22.8\" font-family=\"Helvetica,sans-Serif\" font-size=\"14.00\">samples = 93</text>\r\n",
       "<text text-anchor=\"middle\" x=\"711.5\" y=\"-7.8\" font-family=\"Helvetica,sans-Serif\" font-size=\"14.00\">value = 76.591</text>\r\n",
       "</g>\r\n",
       "<!-- 9&#45;&gt;11 -->\r\n",
       "<g id=\"edge11\" class=\"edge\"><title>9&#45;&gt;11</title>\r\n",
       "<path fill=\"none\" stroke=\"black\" d=\"M668.584,-88.9485C674.781,-80.0749 681.493,-70.4648 687.727,-61.5388\"/>\r\n",
       "<polygon fill=\"black\" stroke=\"black\" points=\"690.669,-63.4392 693.525,-53.2367 684.93,-59.4311 690.669,-63.4392\"/>\r\n",
       "</g>\r\n",
       "<!-- 13 -->\r\n",
       "<g id=\"node14\" class=\"node\"><title>13</title>\r\n",
       "<path fill=\"#e89051\" stroke=\"black\" d=\"M887,-53C887,-53 798,-53 798,-53 792,-53 786,-47 786,-41 786,-41 786,-12 786,-12 786,-6 792,-0 798,-0 798,-0 887,-0 887,-0 893,-0 899,-6 899,-12 899,-12 899,-41 899,-41 899,-47 893,-53 887,-53\"/>\r\n",
       "<text text-anchor=\"middle\" x=\"842.5\" y=\"-37.8\" font-family=\"Helvetica,sans-Serif\" font-size=\"14.00\">mse = 399.015</text>\r\n",
       "<text text-anchor=\"middle\" x=\"842.5\" y=\"-22.8\" font-family=\"Helvetica,sans-Serif\" font-size=\"14.00\">samples = 79</text>\r\n",
       "<text text-anchor=\"middle\" x=\"842.5\" y=\"-7.8\" font-family=\"Helvetica,sans-Serif\" font-size=\"14.00\">value = 75.19</text>\r\n",
       "</g>\r\n",
       "<!-- 12&#45;&gt;13 -->\r\n",
       "<g id=\"edge13\" class=\"edge\"><title>12&#45;&gt;13</title>\r\n",
       "<path fill=\"none\" stroke=\"black\" d=\"M842.5,-88.9485C842.5,-80.7153 842.5,-71.848 842.5,-63.4814\"/>\r\n",
       "<polygon fill=\"black\" stroke=\"black\" points=\"846,-63.2367 842.5,-53.2367 839,-63.2367 846,-63.2367\"/>\r\n",
       "</g>\r\n",
       "<!-- 14 -->\r\n",
       "<g id=\"node15\" class=\"node\"><title>14</title>\r\n",
       "<path fill=\"#e58139\" stroke=\"black\" d=\"M1018,-53C1018,-53 929,-53 929,-53 923,-53 917,-47 917,-41 917,-41 917,-12 917,-12 917,-6 923,-0 929,-0 929,-0 1018,-0 1018,-0 1024,-0 1030,-6 1030,-12 1030,-12 1030,-41 1030,-41 1030,-47 1024,-53 1018,-53\"/>\r\n",
       "<text text-anchor=\"middle\" x=\"973.5\" y=\"-37.8\" font-family=\"Helvetica,sans-Serif\" font-size=\"14.00\">mse = 275.743</text>\r\n",
       "<text text-anchor=\"middle\" x=\"973.5\" y=\"-22.8\" font-family=\"Helvetica,sans-Serif\" font-size=\"14.00\">samples = 121</text>\r\n",
       "<text text-anchor=\"middle\" x=\"973.5\" y=\"-7.8\" font-family=\"Helvetica,sans-Serif\" font-size=\"14.00\">value = 80.289</text>\r\n",
       "</g>\r\n",
       "<!-- 12&#45;&gt;14 -->\r\n",
       "<g id=\"edge14\" class=\"edge\"><title>12&#45;&gt;14</title>\r\n",
       "<path fill=\"none\" stroke=\"black\" d=\"M888.317,-88.9485C901.633,-79.3431 916.145,-68.8747 929.355,-59.345\"/>\r\n",
       "<polygon fill=\"black\" stroke=\"black\" points=\"931.76,-61.9257 937.823,-53.2367 927.665,-56.2486 931.76,-61.9257\"/>\r\n",
       "</g>\r\n",
       "</g>\r\n",
       "</svg>\r\n"
      ],
      "text/plain": [
       "<graphviz.files.Source at 0x1e07ce95648>"
      ]
     },
     "execution_count": 6,
     "metadata": {},
     "output_type": "execute_result"
    }
   ],
   "source": [
    "# Draw the tree\n",
    "biden_tree_viz_1a = export_graphviz(\n",
    "    biden_tree_1a,\n",
    "    out_file=None,\n",
    "    feature_names=['female', 'age', 'educ', 'dem', 'rep'],\n",
    "    class_names=['biden'],\n",
    "    rounded=True,\n",
    "    filled=True,\n",
    ")\n",
    "\n",
    "graph_1a = graphviz.Source(biden_tree_viz_1a)\n",
    "graph_1a"
   ]
  },
  {
   "cell_type": "markdown",
   "metadata": {},
   "source": [
    "The above tree shows the cutoffs that minimize the mean squared errors in each feature space when we predict `biden` with the training set. The first node splits the population based on whether they are Democratic or not, with left branch representing non-Democratics and right branch representing Democratics. The non-Democratic population is then splited based on whether they are Repulican or not, with left branch representing non-Republicans and right branch representing Republicans. The non-Republican population is then splited by gender, with left branch representing males and right branch representing females. The Republican population is also splited by gender, with left branch representing males and right branch representing females. The Democratic population is further splited by their age, with left branch representing individuals who are less than 55 years old (referred to as the younger population) and right branch representing representing individuals who are at least 55 years old (referred to as the older population). The younger population is then splited by their education level, with left branch representing individuals who receive less than 16 years of schooling and right branch representing individuals who receive at least 16 years of schooling. The older population is then splited by gender, with left branch representing males and right branch representing females. After the above splitting, we end up with eight different feature spaces. To predict `biden` of a specific individual, we need to first determine which space he or she is in and then use the average `biden` of that space as the predict value.  "
   ]
  },
  {
   "cell_type": "code",
   "execution_count": 7,
   "metadata": {},
   "outputs": [
    {
     "name": "stdout",
     "output_type": "stream",
     "text": [
      "The test MSE is 396.1937146321307\n"
     ]
    }
   ],
   "source": [
    "# Calculate the test MSE\n",
    "y_pred_1a = biden_tree_1a.predict(X_test_1a)\n",
    "MSE_1a = mean_squared_error(y_test_1a, y_pred_1a)\n",
    "print('The test MSE is', MSE_1a)"
   ]
  },
  {
   "cell_type": "markdown",
   "metadata": {},
   "source": [
    "### (b)"
   ]
  },
  {
   "cell_type": "code",
   "execution_count": 8,
   "metadata": {},
   "outputs": [
    {
     "name": "stdout",
     "output_type": "stream",
     "text": [
      "The optimal tuning parameter values from randomized hyperparameter search are\n",
      " {'max_depth': 3, 'min_samples_leaf': 17, 'min_samples_split': 14}\n",
      "The MSE of the optimal results is 401.713307249986\n"
     ]
    }
   ],
   "source": [
    "# Specify parameter distributions as suggested\n",
    "param_dist_1b = {'max_depth': [3, 10],\n",
    "                 'min_samples_split': sp_randint(2, 20),\n",
    "                 'min_samples_leaf': sp_randint(2, 20)}\n",
    "\n",
    "biden_tree_1b = DecisionTreeRegressor()\n",
    "\n",
    "# Run randomized hyperparameter search\n",
    "random_search_1b = RandomizedSearchCV(biden_tree_1b, param_distributions=param_dist_1b,\n",
    "                                      n_iter=100, n_jobs=-1, cv=5, random_state=25,\n",
    "                                      scoring='neg_mean_squared_error')\n",
    "\n",
    "random_search_1b.fit(X_1a, y_1a)\n",
    "print('The optimal tuning parameter values from randomized hyperparameter search are\\n',\n",
    "      random_search_1b.best_params_)\n",
    "print('The MSE of the optimal results is', -random_search_1b.best_score_)"
   ]
  },
  {
   "cell_type": "markdown",
   "metadata": {},
   "source": [
    "### (c)"
   ]
  },
  {
   "cell_type": "code",
   "execution_count": 9,
   "metadata": {},
   "outputs": [
    {
     "name": "stdout",
     "output_type": "stream",
     "text": [
      "The optimal tuning parameter values from randomized hyperparameter search are\n",
      " {'max_depth': 3, 'max_features': 2, 'min_samples_leaf': 17, 'min_samples_split': 13, 'n_estimators': 10}\n",
      "The MSE of the optimal results is 397.09673478564173\n"
     ]
    },
    {
     "name": "stderr",
     "output_type": "stream",
     "text": [
      "C:\\Users\\Thinkpad\\Anaconda3\\lib\\site-packages\\sklearn\\ensemble\\_forest.py:815: UserWarning: Some inputs do not have OOB scores. This probably means too few trees were used to compute any reliable oob estimates.\n",
      "  warn(\"Some inputs do not have OOB scores. \"\n"
     ]
    }
   ],
   "source": [
    "# Specify parameter distributions as suggested\n",
    "param_dist_1c = {'n_estimators': [10, 200],\n",
    "                 'max_depth': [3, 10],\n",
    "                 'min_samples_split': sp_randint(2, 20),\n",
    "                 'min_samples_leaf': sp_randint(2, 20),\n",
    "                 'max_features': sp_randint(1, 5)}\n",
    "\n",
    "biden_tree_1c = RandomForestRegressor(bootstrap=True, oob_score=True, random_state=25)\n",
    "\n",
    "# Run randomized hyperparameter search\n",
    "random_search_1c = RandomizedSearchCV(biden_tree_1c, param_distributions=param_dist_1c,\n",
    "                                      n_iter=100, n_jobs=-1, cv=5, random_state=25,\n",
    "                                      scoring='neg_mean_squared_error')\n",
    "\n",
    "random_search_1c.fit(X_1a, y_1a)\n",
    "print('The optimal tuning parameter values from randomized hyperparameter search are\\n',\n",
    "      random_search_1c.best_params_)\n",
    "print('The MSE of the optimal results is', -random_search_1c.best_score_)"
   ]
  },
  {
   "cell_type": "markdown",
   "metadata": {},
   "source": [
    "## 2. Classifier \"horse\" race (5 points)"
   ]
  },
  {
   "cell_type": "markdown",
   "metadata": {},
   "source": [
    "### (a)"
   ]
  },
  {
   "cell_type": "code",
   "execution_count": 10,
   "metadata": {},
   "outputs": [
    {
     "data": {
      "text/html": [
       "<div>\n",
       "<style scoped>\n",
       "    .dataframe tbody tr th:only-of-type {\n",
       "        vertical-align: middle;\n",
       "    }\n",
       "\n",
       "    .dataframe tbody tr th {\n",
       "        vertical-align: top;\n",
       "    }\n",
       "\n",
       "    .dataframe thead th {\n",
       "        text-align: right;\n",
       "    }\n",
       "</style>\n",
       "<table border=\"1\" class=\"dataframe\">\n",
       "  <thead>\n",
       "    <tr style=\"text-align: right;\">\n",
       "      <th></th>\n",
       "      <th>mpg</th>\n",
       "      <th>cylinders</th>\n",
       "      <th>displacement</th>\n",
       "      <th>horsepower</th>\n",
       "      <th>weight</th>\n",
       "      <th>acceleration</th>\n",
       "      <th>year</th>\n",
       "      <th>origin</th>\n",
       "      <th>name</th>\n",
       "    </tr>\n",
       "  </thead>\n",
       "  <tbody>\n",
       "    <tr>\n",
       "      <th>0</th>\n",
       "      <td>18.0</td>\n",
       "      <td>8</td>\n",
       "      <td>307.0</td>\n",
       "      <td>130.0</td>\n",
       "      <td>3504</td>\n",
       "      <td>12.0</td>\n",
       "      <td>70</td>\n",
       "      <td>1</td>\n",
       "      <td>chevrolet chevelle malibu</td>\n",
       "    </tr>\n",
       "    <tr>\n",
       "      <th>1</th>\n",
       "      <td>15.0</td>\n",
       "      <td>8</td>\n",
       "      <td>350.0</td>\n",
       "      <td>165.0</td>\n",
       "      <td>3693</td>\n",
       "      <td>11.5</td>\n",
       "      <td>70</td>\n",
       "      <td>1</td>\n",
       "      <td>buick skylark 320</td>\n",
       "    </tr>\n",
       "    <tr>\n",
       "      <th>2</th>\n",
       "      <td>18.0</td>\n",
       "      <td>8</td>\n",
       "      <td>318.0</td>\n",
       "      <td>150.0</td>\n",
       "      <td>3436</td>\n",
       "      <td>11.0</td>\n",
       "      <td>70</td>\n",
       "      <td>1</td>\n",
       "      <td>plymouth satellite</td>\n",
       "    </tr>\n",
       "    <tr>\n",
       "      <th>3</th>\n",
       "      <td>16.0</td>\n",
       "      <td>8</td>\n",
       "      <td>304.0</td>\n",
       "      <td>150.0</td>\n",
       "      <td>3433</td>\n",
       "      <td>12.0</td>\n",
       "      <td>70</td>\n",
       "      <td>1</td>\n",
       "      <td>amc rebel sst</td>\n",
       "    </tr>\n",
       "    <tr>\n",
       "      <th>4</th>\n",
       "      <td>17.0</td>\n",
       "      <td>8</td>\n",
       "      <td>302.0</td>\n",
       "      <td>140.0</td>\n",
       "      <td>3449</td>\n",
       "      <td>10.5</td>\n",
       "      <td>70</td>\n",
       "      <td>1</td>\n",
       "      <td>ford torino</td>\n",
       "    </tr>\n",
       "  </tbody>\n",
       "</table>\n",
       "</div>"
      ],
      "text/plain": [
       "    mpg  cylinders  displacement  horsepower  weight  acceleration  year  \\\n",
       "0  18.0          8         307.0       130.0    3504          12.0    70   \n",
       "1  15.0          8         350.0       165.0    3693          11.5    70   \n",
       "2  18.0          8         318.0       150.0    3436          11.0    70   \n",
       "3  16.0          8         304.0       150.0    3433          12.0    70   \n",
       "4  17.0          8         302.0       140.0    3449          10.5    70   \n",
       "\n",
       "   origin                       name  \n",
       "0       1  chevrolet chevelle malibu  \n",
       "1       1          buick skylark 320  \n",
       "2       1         plymouth satellite  \n",
       "3       1              amc rebel sst  \n",
       "4       1                ford torino  "
      ]
     },
     "execution_count": 10,
     "metadata": {},
     "output_type": "execute_result"
    }
   ],
   "source": [
    "# Load the data as a dataframe and deal with missing data\n",
    "df2 = pd.read_csv('Auto.csv', na_values='?')\n",
    "df2.head()"
   ]
  },
  {
   "cell_type": "code",
   "execution_count": 11,
   "metadata": {},
   "outputs": [
    {
     "data": {
      "text/plain": [
       "mpg             0\n",
       "cylinders       0\n",
       "displacement    0\n",
       "horsepower      5\n",
       "weight          0\n",
       "acceleration    0\n",
       "year            0\n",
       "origin          0\n",
       "name            0\n",
       "dtype: int64"
      ]
     },
     "execution_count": 11,
     "metadata": {},
     "output_type": "execute_result"
    }
   ],
   "source": [
    "# Check the missing values\n",
    "df2.isnull().sum()"
   ]
  },
  {
   "cell_type": "code",
   "execution_count": 12,
   "metadata": {},
   "outputs": [],
   "source": [
    "# Given that there are only five missing values in horsepower, \n",
    "# we could drop these observations without losing much information\n",
    "df2.dropna(inplace=True)"
   ]
  },
  {
   "cell_type": "code",
   "execution_count": 13,
   "metadata": {},
   "outputs": [
    {
     "name": "stdout",
     "output_type": "stream",
     "text": [
      "22.75\n"
     ]
    }
   ],
   "source": [
    "# Return the median of mpg\n",
    "print(df2['mpg'].median())"
   ]
  },
  {
   "cell_type": "code",
   "execution_count": 14,
   "metadata": {},
   "outputs": [],
   "source": [
    "# Generate the binary variable for mpg\n",
    "df2['mpg_high'] = (df2['mpg'] >= df2['mpg'].median()).astype('int32')\n",
    "\n",
    "# Generate the binary variables for origin\n",
    "df2['origin1'] = (df2['origin'] == 1).astype('int32')\n",
    "df2['origin2'] = (df2['origin'] == 2).astype('int32')\n",
    "\n",
    "# Generate dependent and independent variables\n",
    "X_2a = df2[['cylinders', 'displacement', 'horsepower', 'weight',\n",
    "            'acceleration', 'year', 'origin1', 'origin2']]\n",
    "y_2a = df2['mpg_high']\n",
    "Xvars_2a = X_2a.values\n",
    "yvars_2a = y_2a.values\n",
    "\n",
    "# Notice that I do not need to create a constant in X_2a because the LogisticRegression from \n",
    "# sklearn.linear_model automatically adds a constant when estimating the model and we can \n",
    "# use .intercept_ to see the coefficient of the constant."
   ]
  },
  {
   "cell_type": "code",
   "execution_count": 15,
   "metadata": {},
   "outputs": [
    {
     "name": "stdout",
     "output_type": "stream",
     "text": [
      "The K-fold estimate for the test MSE is 0.09693877551020408\n",
      "The error rate for mpg_high == 1 of the test set is 0.07486931885129128\n",
      "The error rate for mpg_high == 0 of the test set is 0.11946101633984131\n"
     ]
    }
   ],
   "source": [
    "# Set basic parameters\n",
    "kf_log_2a = KFold(n_splits=4, random_state=25, shuffle=True)\n",
    "kf_log_2a.get_n_splits(Xvars_2a)\n",
    "MSE_vec_2a = np.zeros(4)\n",
    "ER_high_vec_2a = np.zeros(4)\n",
    "ER_low_vec_2a = np.zeros(4)\n",
    "k_ind = int(0)\n",
    "\n",
    "# Calculate the MSE by loop\n",
    "for train_index, test_index in kf_log_2a.split(Xvars_2a):\n",
    "    # print(\"TRAIN:\", train_index, \"TEST:\", test_index)\n",
    "    # print('k index=', k_ind)\n",
    "    X_train_2a, X_test_2a = Xvars_2a[train_index], Xvars_2a[test_index]\n",
    "    y_train_2a, y_test_2a = yvars_2a[train_index], yvars_2a[test_index]\n",
    "    clf_2a = LogisticRegression(solver='lbfgs', max_iter=1000)\n",
    "    clf_2a.fit(X_train_2a, y_train_2a)\n",
    "    y_pred_2a = clf_2a.predict(X_test_2a)\n",
    "    MSE_vec_2a[k_ind] = (1 - (y_test_2a == y_pred_2a)).mean()\n",
    "    ER_high_vec_2a[k_ind] = ((y_test_2a == 1) & (y_pred_2a != 1)).sum() / (y_test_2a == 1).sum()\n",
    "    ER_low_vec_2a[k_ind] = ((y_test_2a == 0) & (y_pred_2a != 0)).sum() / (y_test_2a == 0).sum()\n",
    "    # print('MSE for test set', k_ind, ' is', MSE_vec_kf[k_ind])\n",
    "    k_ind += 1\n",
    "\n",
    "MSE_kf_2a = MSE_vec_2a.mean()\n",
    "ER_high_kf_2a = ER_high_vec_2a.mean()\n",
    "ER_low_kf_2a = ER_low_vec_2a.mean()\n",
    "print('The K-fold estimate for the test MSE is', MSE_kf_2a)\n",
    "print('The error rate for mpg_high == 1 of the test set is', ER_high_kf_2a)\n",
    "print('The error rate for mpg_high == 0 of the test set is', ER_low_kf_2a)"
   ]
  },
  {
   "cell_type": "markdown",
   "metadata": {},
   "source": [
    "### (b)"
   ]
  },
  {
   "cell_type": "code",
   "execution_count": 16,
   "metadata": {},
   "outputs": [
    {
     "name": "stdout",
     "output_type": "stream",
     "text": [
      "The optimal tuning parameter values from randomized hyperparameter search are\n",
      " {'max_depth': 8, 'max_features': 3, 'min_samples_leaf': 15, 'min_samples_split': 2, 'n_estimators': 10}\n",
      "The MSE of the optimal results is 0.08928571428571429\n"
     ]
    },
    {
     "name": "stderr",
     "output_type": "stream",
     "text": [
      "C:\\Users\\Thinkpad\\Anaconda3\\lib\\site-packages\\sklearn\\ensemble\\_forest.py:523: UserWarning: Some inputs do not have OOB scores. This probably means too few trees were used to compute any reliable oob estimates.\n",
      "  warn(\"Some inputs do not have OOB scores. \"\n",
      "C:\\Users\\Thinkpad\\Anaconda3\\lib\\site-packages\\sklearn\\ensemble\\_forest.py:528: RuntimeWarning: invalid value encountered in true_divide\n",
      "  predictions[k].sum(axis=1)[:, np.newaxis])\n"
     ]
    }
   ],
   "source": [
    "# Specify parameter distributions as suggested\n",
    "param_dist_2b = {'n_estimators': [10, 200],\n",
    "                 'max_depth': [3, 8],\n",
    "                 'min_samples_split': sp_randint(2, 20),\n",
    "                 'min_samples_leaf': sp_randint(2, 20),\n",
    "                 'max_features': sp_randint(1, 8)}\n",
    "\n",
    "mpg_forest_2b = RandomForestClassifier(bootstrap=True, oob_score=True, random_state=25)\n",
    "\n",
    "# Run randomized hyperparameter search\n",
    "random_search_2b = RandomizedSearchCV(mpg_forest_2b, param_distributions=param_dist_2b,\n",
    "                                      n_iter=100, n_jobs=-1, cv=4, random_state=25,\n",
    "                                      scoring='neg_mean_squared_error')\n",
    "\n",
    "random_search_2b.fit(X_2a, y_2a)\n",
    "print('The optimal tuning parameter values from randomized hyperparameter search are\\n',\n",
    "      random_search_2b.best_params_)\n",
    "print('The MSE of the optimal results is', -random_search_2b.best_score_)"
   ]
  },
  {
   "cell_type": "markdown",
   "metadata": {},
   "source": [
    "### (c)"
   ]
  },
  {
   "cell_type": "code",
   "execution_count": 17,
   "metadata": {},
   "outputs": [
    {
     "name": "stdout",
     "output_type": "stream",
     "text": [
      "The optimal tuning parameter values from randomized hyperparameter search are\n",
      " {'C': 1.8094629152568114, 'gamma': 'scale', 'shrinking': False}\n",
      "The MSE of the optimal results is 0.11989795918367346\n"
     ]
    }
   ],
   "source": [
    "# Specify parameter distributions as suggested\n",
    "param_dist_2c = {'C': sp_uniform(loc=0.2, scale=4.0),\n",
    "                 'gamma': ['scale', 'auto'],\n",
    "                 'shrinking': [True, False]}\n",
    "\n",
    "mpg_svc_2c = SVC(kernel='rbf')\n",
    "\n",
    "# Run randomized hyperparameter search\n",
    "random_search_2c = RandomizedSearchCV(mpg_svc_2c, param_distributions=param_dist_2c,\n",
    "                                      n_iter=100, n_jobs=-1, cv=4, random_state=25,\n",
    "                                      scoring='neg_mean_squared_error')\n",
    "\n",
    "random_search_2c.fit(X_2a, y_2a)\n",
    "print('The optimal tuning parameter values from randomized hyperparameter search are\\n',\n",
    "      random_search_2c.best_params_)\n",
    "print('The MSE of the optimal results is', -random_search_2c.best_score_)"
   ]
  },
  {
   "cell_type": "markdown",
   "metadata": {},
   "source": [
    "### (d)"
   ]
  },
  {
   "cell_type": "markdown",
   "metadata": {},
   "source": [
    "The best predictor of `mpg_high` is the random forest classifier since it has the smallest MSE among all the models."
   ]
  },
  {
   "cell_type": "code",
   "execution_count": null,
   "metadata": {},
   "outputs": [],
   "source": []
  }
 ],
 "metadata": {
  "kernelspec": {
   "display_name": "Python 3",
   "language": "python",
   "name": "python3"
  },
  "language_info": {
   "codemirror_mode": {
    "name": "ipython",
    "version": 3
   },
   "file_extension": ".py",
   "mimetype": "text/x-python",
   "name": "python",
   "nbconvert_exporter": "python",
   "pygments_lexer": "ipython3",
   "version": "3.7.6"
  }
 },
 "nbformat": 4,
 "nbformat_minor": 2
}
