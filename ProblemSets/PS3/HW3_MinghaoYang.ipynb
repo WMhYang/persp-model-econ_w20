{
 "cells": [
  {
   "cell_type": "markdown",
   "metadata": {},
   "source": [
    "# Problem Set #3\n",
    "MACS 30150, Dr. Evans  \n",
    "Minghao Yang"
   ]
  },
  {
   "cell_type": "markdown",
   "metadata": {},
   "source": [
    "### Ex 1"
   ]
  },
  {
   "cell_type": "markdown",
   "metadata": {},
   "source": [
    "If $T = 1$, the problem could be rewriten as:  \n",
    "$$ \\max_{W_{2}} \\ U = u(W_1 - W_{2}) $$ "
   ]
  },
  {
   "cell_type": "markdown",
   "metadata": {},
   "source": [
    "The solution is \n",
    "$$ W_{2} = \\min(W_{2}) = 0, \\forall \\ W_1  $$"
   ]
  },
  {
   "cell_type": "markdown",
   "metadata": {},
   "source": [
    "Moreover, the lifelong utility of the individual is $U = u(W_1)$."
   ]
  },
  {
   "cell_type": "markdown",
   "metadata": {},
   "source": [
    "### Ex 2"
   ]
  },
  {
   "cell_type": "markdown",
   "metadata": {},
   "source": [
    "If $T = 2$, the problem could be rewriten as:\n",
    "$$ \\max_{W_2, W_3} \\ U = \\sum_{t = 1} ^ {2} \\beta^{t - 1} u(W_t - W_{t + 1}) $$\n",
    "which is equivalent to:\n",
    "$$ \\max_{W_2, W_3} \\ U = u(W_1 - W_2) + \\beta\\cdot u(W_2 - W_3) $$"
   ]
  },
  {
   "cell_type": "markdown",
   "metadata": {},
   "source": [
    "It is obvious that $W_3$ satisfies the following condition:"
   ]
  },
  {
   "cell_type": "markdown",
   "metadata": {},
   "source": [
    "$$ W_3 = \\min(W_3) = 0, \\forall \\ W_2, W_1 $$  \n",
    "Moreover, the F.O.C. of the problem is:\n",
    "$$ \\frac{\\partial U}{\\partial W_2} = - u'(W_1 - W_2) + \\beta u'(W_2) = 0 $$"
   ]
  },
  {
   "cell_type": "markdown",
   "metadata": {},
   "source": [
    "Therefore, the corresponding conditions are $W_3 = \\min(W_3) = 0, \\forall \\ W_2, W_1$ and $u'(W_1 - W_2) = \\beta u'(W_2) = 0$."
   ]
  },
  {
   "cell_type": "markdown",
   "metadata": {},
   "source": [
    "### Ex 3"
   ]
  },
  {
   "cell_type": "markdown",
   "metadata": {},
   "source": [
    "If $T = 3$, the maximization problem could be writen as: \n",
    "$$ \\max_{W_2, W_3, W_4} \\ U = \\sum_{t = 1} ^ {3} \\beta^{t - 1} u(W_t - W_{t + 1}) $$"
   ]
  },
  {
   "cell_type": "markdown",
   "metadata": {},
   "source": [
    "which is equivalent to:\n",
    "$$ \\max_{W_2, W_3, W_4} \\ U = u(W_1 - W_2) + \\beta\\cdot u(W_2 - W_3) + \\beta^2 \\cdot u(W_3 - W_4)$$"
   ]
  },
  {
   "cell_type": "markdown",
   "metadata": {},
   "source": [
    "According to Ex 2, we have $W_4 = 0$ and $u'(W_2 - W_3) = \\beta u'(W_3)$. Therefore, we can solve that $W_3 = \\psi_{2}(W_2)$. Substitute the conditions into the maximization problem, the problem becomes:\n",
    "$$ \\max_{W_2} \\ U = u(W_1 - W_2) + \\beta\\cdot u(W_2 - \\psi_{2}(W_2)) + \\beta^2 \\cdot u(\\psi_{2}(W_2)) $$"
   ]
  },
  {
   "cell_type": "markdown",
   "metadata": {},
   "source": [
    "The F.O.C. could be simplified as:\n",
    "$$ \\frac{\\partial U}{\\partial W_2} = -u'(W_1 - W_2) + \\beta\\cdot u'(W_2 - \\psi_{2}(W_2)) = 0 $$"
   ]
  },
  {
   "cell_type": "markdown",
   "metadata": {},
   "source": [
    "Therefore, the corresponding conditions are $W_4 = \\min(W_4) = 0, \\forall \\ W_3, W_2, W_1$, $u'(W_2 - W_3) = \\beta u'(W_3)$, and $u'(W_1 - W_2) = \\beta u'(W_2 - \\psi_{2}(W_2))$."
   ]
  },
  {
   "cell_type": "markdown",
   "metadata": {},
   "source": [
    "If $u(c_t) = \\ln(c_t)$, the second condition could be written as:\n",
    "$$ \\frac{1}{W_2 - W_3} = \\beta\\frac{1}{W_3} $$\n",
    "so $W_3 = \\frac{\\beta W_2}{1 + \\beta}$. Substitute this into the third condition, we have:\n",
    "$$ \\frac{1}{W_1 - W_2} = \\beta\\cfrac{1}{W_2 - \\frac{\\beta W_2}{1 + \\beta}} $$"
   ]
  },
  {
   "cell_type": "markdown",
   "metadata": {},
   "source": [
    "Solve the function gives $W_2 = \\frac{(\\beta + \\beta^2)W_1}{1 + \\beta + \\beta^2}$."
   ]
  },
  {
   "cell_type": "markdown",
   "metadata": {},
   "source": [
    "With $\\beta = 0.9$ and $W_1 = 1$, we can calculate all the $W$'s and $c$'s:"
   ]
  },
  {
   "cell_type": "markdown",
   "metadata": {},
   "source": [
    "| t | $W$ | $c$ |\n",
    "| - | --- | --- |\n",
    "| 1 |  1  | 0.369 |  \n",
    "| 2 | 0.631 | 0.332 |\n",
    "| 3 | 0.299 | 0.299 |\n",
    "| 4 | 0 | N.A. |"
   ]
  },
  {
   "cell_type": "markdown",
   "metadata": {},
   "source": [
    "The evolution path for $W$'s is:"
   ]
  },
  {
   "cell_type": "code",
   "execution_count": 1,
   "metadata": {},
   "outputs": [
    {
     "data": {
      "text/plain": [
       "<Figure size 640x480 with 1 Axes>"
      ]
     },
     "metadata": {},
     "output_type": "display_data"
    }
   ],
   "source": [
    "import matplotlib.pyplot as plt\n",
    "import numpy as np\n",
    "from mpl_toolkits import mplot3d\n",
    "from matplotlib import cm\n",
    "Ws = [1, 0.631, 0.299, 0]\n",
    "ax = plt.gca()\n",
    "ax.plot([1, 2, 3, 4], Ws, '-o', label=\"Evolution of W\")\n",
    "ax.set_xlabel('T')\n",
    "ax.set_ylabel('W_T')\n",
    "ax.legend()\n",
    "plt.show()"
   ]
  },
  {
   "cell_type": "markdown",
   "metadata": {},
   "source": [
    "The evolution path for c's is:"
   ]
  },
  {
   "cell_type": "code",
   "execution_count": 2,
   "metadata": {},
   "outputs": [
    {
     "data": {
      "image/png": "[encoded data removed]",
      "text/plain": [
       "<Figure size 432x288 with 1 Axes>"
      ]
     },
     "metadata": {
      "needs_background": "light"
     },
     "output_type": "display_data"
    }
   ],
   "source": [
    "cs = [0.369, 0.332, 0.299]\n",
    "ax = plt.gca()\n",
    "ax.plot([1, 2, 3], cs, '-o', label='Evolution of c')\n",
    "ax.set_xlabel('T')\n",
    "ax.set_ylabel('Consumption')\n",
    "ax.legend()\n",
    "plt.show()"
   ]
  },
  {
   "cell_type": "markdown",
   "metadata": {},
   "source": [
    "### Ex 4"
   ]
  },
  {
   "cell_type": "markdown",
   "metadata": {},
   "source": [
    "The utility problem at time $T$ could be could be written as:\n",
    "$$ \\max_{W_{T + 1}} \\ u(W_{T} - W_{T + 1}) $$\n",
    "The corresponding policy function is $W_{T + 1} = \\psi_{T}(W_{T})$, so the value function at time $T$ is $V_{T}(W_{T}) = u(W_{T} - \\psi_{T}(W_{T}))$. From the value function at time $T$, we can easily find that the $\\psi_{T}(W_{T}) = \\min(W_{T + 1}) = 0$. The utility maximization problem at $T - 1$ is:  \n",
    "\n",
    "$$ \\max_{W_{T}, W_{T + 1}} \\ u(W_{T - 1} - W_{T}) + \\beta u(W_{T} - W_{T + 1}) $$   \n",
    "\n",
    "By envelop theorem, the maximization problem could be rewritten as:\n",
    "$$ \\max_{W_{T}} \\ u(W_{T - 1} - W_{T}) + \\beta V_{T}(W_{T}) $$\n",
    "so the F.O.C. of the problem is:\n",
    "$$ -u'(W_{T - 1} - W_{T}) + \\beta u'(W_{T}) = 0 $$  \n",
    "\n",
    "Therefore, the conditions of the optimal choice in period $T - 1$ are $W_{T + 1} = \\min(W_{T + 1}) = 0, \\forall \\ W_{T - 1}, W_{T}$, and $u'(W_{T - 1} - W_{T}) = \\beta u'(W_{T})$."
   ]
  },
  {
   "cell_type": "markdown",
   "metadata": {},
   "source": [
    "The value function in terms of $\\psi_{T - 1}(W_{T - 1})$ is $V_{T - 1}(W_{T - 1}) = u(W_{T - 1} - \\psi_{T - 1}(W_{T - 1})) + \\beta u(\\psi_{T - 1}(W_{T - 1}))$."
   ]
  },
  {
   "cell_type": "markdown",
   "metadata": {},
   "source": [
    "### Ex 5"
   ]
  },
  {
   "cell_type": "markdown",
   "metadata": {},
   "source": [
    "According to Ex 4, we know that $\\psi_{T}(\\bar{W}) = 0$. When $u(c) = \\ln(c)$, the F.O.C. at $T - 1$ could be written as $\\frac{1}{\\bar{W} - W_{T}} = \\beta \\frac{1}{W_{T}}$, so $W_{T} = \\psi_{T - 1}(\\bar{W}) = \\frac{\\beta \\bar{W}}{1 + \\beta}$. Obviously, $\\psi_{T}(\\bar{W}) \\neq \\psi_{T - 1}(\\bar{W})$."
   ]
  },
  {
   "cell_type": "markdown",
   "metadata": {},
   "source": [
    "Moreover, $V_T(\\bar{W}) = \\ln(\\bar{W})$, but $V_{T - 1}(\\bar{W}) = \\ln\\big(\\bar{W} - \\frac{\\beta\\bar{W}}{1 + \\beta}\\big) + \\beta \\ln\\big(\\frac{\\beta \\bar{W}}{1 + \\beta}\\big) = \\ln\\big(\\frac{\\bar{W}}{1 + \\beta}\\big) + \\beta\\ln\\big(\\frac{\\beta \\bar{W}}{1 + \\beta}\\big)$. Therefore, $V_T(\\bar{W}) \\neq V_{T - 1}(\\bar{W})$."
   ]
  },
  {
   "cell_type": "markdown",
   "metadata": {},
   "source": [
    "### Ex 6"
   ]
  },
  {
   "cell_type": "markdown",
   "metadata": {},
   "source": [
    "According to Ex 4 and Ex 5, we have $\\psi_T(W_{T + 1}) = \\min(W_{T + 1}) = 0$, $\\psi_{T - 1}(W_{T - 1}) = \\frac{\\beta W_{T - 1}}{1 + \\beta}$, and $V_{T}(W_{T}) = \\ln(W_{T})$, $V_{T - 1}(W_{T - 1}) = \\ln\\big(\\frac{W_{T - 1}}{1 + \\beta}\\big) + \\beta \\ln\\big(\\frac{\\beta W_{T - 1}}{1 + \\beta}\\big)$."
   ]
  },
  {
   "cell_type": "markdown",
   "metadata": {},
   "source": [
    "The utility maximization problem at $T - 2$ is:\n",
    "$$ \\max_{W_{T - 1}} \\ \\ln(W_{T - 2} - W_{T - 1}) + \\beta V_{T - 1}(W_{T - 1}) $$\n",
    "By envelop theorem, the F.O.C. is:\n",
    "$$ -\\frac{1}{W_{T - 2} - W_{T - 1}} + \\beta \\cfrac{1}{W_{T - 1} - \\frac{\\beta W_{T - 1}}{1 + \\beta}} = 0 $$"
   ]
  },
  {
   "cell_type": "markdown",
   "metadata": {},
   "source": [
    "The solution of the problem is $W_{T - 1} = \\psi_{T - 2}(W_{T - 2}) = \\frac{(\\beta + \\beta^2)W_{T - 2}}{1 + \\beta + \\beta^2}$."
   ]
  },
  {
   "cell_type": "markdown",
   "metadata": {},
   "source": [
    "The value function at $T - 2$ is:\n",
    "$$ V_{T - 2} = \\ln\\big[W_{T - 2} - \\frac{(\\beta + \\beta^2)W_{T - 2}}{1 + \\beta + \\beta^2}\\big] + \\beta\\ln\\big(\\frac{\\beta W_{T - 2}}{1 + \\beta + \\beta^2}\\big) + \\beta^2\\ln\\big(\\frac{\\beta^2 W_{T - 2}}{1 + \\beta + \\beta^2}\\big) = \\ln\\big(\\frac{W_{T - 2}}{1 + \\beta + \\beta^2}\\big) + \\beta\\ln\\big(\\frac{\\beta W_{T - 2}}{1 + \\beta + \\beta^2}\\big) + \\beta^2\\ln\\big(\\frac{\\beta^2 W_{T - 2}}{1 + \\beta + \\beta^2}\\big)$$"
   ]
  },
  {
   "cell_type": "markdown",
   "metadata": {},
   "source": [
    "### Ex 7"
   ]
  },
  {
   "cell_type": "markdown",
   "metadata": {},
   "source": [
    "When $k = 1$, $\\psi_{T - 1}(W_{T - 1}) = \\frac{\\beta W_{T - 1}}{1 + \\beta}$, $V_{T - 1}(W_{T - 1}) = \\ln\\big(\\frac{W_{T - 1}}{1 + \\beta}\\big) + \\beta \\ln\\big(\\frac{\\beta W_{T - 1}}{1 + \\beta}\\big)$."
   ]
  },
  {
   "cell_type": "markdown",
   "metadata": {},
   "source": [
    "When $k = 2$, $\\psi_{T - 2}(W_{T - 2}) = \\frac{(\\beta + \\beta^2)W_{T - 2}}{1 + \\beta + \\beta^2}$, $V_{T - 2} = \\ln\\big(\\frac{W_{T - 2}}{1 + \\beta + \\beta^2}\\big) + \\beta\\ln\\big(\\frac{\\beta W_{T - 2}}{1 + \\beta + \\beta^2}\\big) + \\beta^2\\ln\\big(\\frac{\\beta^2 W_{T - 2}}{1 + \\beta + \\beta^2}\\big)$."
   ]
  },
  {
   "cell_type": "markdown",
   "metadata": {},
   "source": [
    "Suppose when $k = s$, $\\psi_{T - s}(W_{T - s}) = \\frac{\\sum_{i = 1}^{s} \\beta}{\\sum_{i = 0}^{s} \\beta}W_{T - s}$, $V_{T - s}(W_{T - s}) = \\sum_{i = 0}^{s} \\beta^{i}\\ln\\big(\\frac{\\beta^{i} W_{T - s}}{\\sum_{i = 0}^{s} \\beta^{i}}\\big)$"
   ]
  },
  {
   "cell_type": "markdown",
   "metadata": {},
   "source": [
    "To complete the induction, we need to justify that the policy function and the value function still hold at $T - s - 1$. When $k = s + 1$, the utility maximization problem could be written as:\n",
    "$$ \\max_{W_{T - s}} \\ln(W_{T - s - 1} - W_{T - s}) + \\beta V_{T - s}(W_{T - s}) $$\n",
    "By envelop theorem, the corresponding F.O.C. is:\n",
    "$$ -\\frac{1}{W_{T - s - 1} - W_{T - s}} + \\beta\\frac{1}{W_{T - s} - \\psi_{T - s}(W_{T - s})} = 0 $$"
   ]
  },
  {
   "cell_type": "markdown",
   "metadata": {},
   "source": [
    "Substituting $\\psi_{T - s}(W_{T - s})$ into the function, we get:\n",
    "$$ \\frac{1}{W_{T - s - 1} - W_{T - s}} = \\beta\\cfrac{1}{W_{T - s} - \\frac{\\sum_{i = 1}^{s} \\beta^{i}}{\\sum_{i = 0}^{s} \\beta^{i}}W_{T - s}} $$"
   ]
  },
  {
   "cell_type": "markdown",
   "metadata": {},
   "source": [
    "By tedious simplification, we can see that:\n",
    "$$ W_{T - s} = \\psi_{T - s - 1}(W_{T - s - 1}) = \\frac{\\sum_{i = 1}^{s + 1} \\beta^{i}}{\\sum_{i = 0}^{s + 1} \\beta^{i}}W_{T - s - 1} $$\n",
    "so the policy function remains the same. Moreover, the value function at $T - s - 1$ is: "
   ]
  },
  {
   "cell_type": "markdown",
   "metadata": {},
   "source": [
    "$$ \n",
    "\\begin{aligned}\n",
    "V_{T - s - 1}(W_{T - s - 1}) & = \\ln\\bigg(W_{T - s - 1} - \\frac{\\sum_{i = 1}^{s + 1} \\beta^{i}}{\\sum_{i = 0}^{s + 1} \\beta^{i}}W_{T - s - 1}\\bigg) + \\beta\\sum_{i = 0}^{s} \\beta^{i}\\ln\\bigg(\\frac{\\beta^{i} W_{T - s}}{\\sum_{i = 0}^{s} \\beta^{i}}\\bigg) \\\\\n",
    "& = \\ln\\bigg(\\frac{1}{\\sum_{i = 0}^{s + 1} \\beta^{i}} W_{T - s - 1}\\bigg) + \\sum_{i = 1}^{s + 1} \\beta^{i}\\ln\\bigg(\\frac{\\beta^{i} W_{T - s}}{\\sum_{i = 0}^{s} \\beta^{i}}\\bigg) \\\\\n",
    "& = \\sum_{i = 0}^{s + 1} \\beta^{i}\\ln\\bigg(\\frac{\\beta^{i} W_{T - s}}{\\sum_{i = 0}^{s} \\beta^{i}}\\bigg)\n",
    "\\end{aligned}\n",
    "$$"
   ]
  },
  {
   "cell_type": "markdown",
   "metadata": {},
   "source": [
    "so the value function also holds. This ends the induction."
   ]
  },
  {
   "cell_type": "markdown",
   "metadata": {},
   "source": [
    "As $s \\to \\infty$, \n",
    "$$\n",
    "\\lim_{s \\to \\infty} \\psi_{T - s}(W_{T - s}) = \\frac{\\sum_{i = 1}^{\\infty} \\beta^{i}}{\\sum_{i = 0}^{\\infty} \\beta^{i}}W_{T - s} = \\cfrac{\\frac{\\beta}{1 - \\beta}}{\\frac{1}{1 - \\beta}} W_{T - s} = \\beta W_{T - s}\n",
    "$$\n",
    "$$\n",
    "\\begin{aligned}\n",
    "\\lim_{s \\to \\infty} V_{T - s}(W_{T - s}) =  \\sum_{i = 0}^{\\infty} \\beta^{i}\\ln\\bigg(\\frac{\\beta^{i} W_{T - s}}{\\sum_{i = 0}^{\\infty} \\beta^{i}}\\bigg) = \\sum_{i = 0}^{\\infty} i \\beta^{i}\\ln(\\beta) + \\sum_{i = 0}^{\\infty} \\beta^{i}\\ln[(1 - \\beta)W_{T - s}] = \\frac{\\beta\\ln(\\beta)}{(1 - \\beta)^2} + \\frac{\\ln[(1 - \\beta)W_{T - s}]}{1 - \\beta}\n",
    "\\end{aligned}\n",
    "$$  \n",
    "\n",
    "so $\\psi_{T - s}(W_{T - s})$ becomes $\\psi(W_{T - s})$ and $V_{T - s}(W_{T - s})$ becomes $V(W_{T - s})$."
   ]
  },
  {
   "cell_type": "markdown",
   "metadata": {},
   "source": [
    "### Ex 8"
   ]
  },
  {
   "cell_type": "markdown",
   "metadata": {},
   "source": [
    "Since the policy function and the value function do not depend on time, we can write the Bellman function as follow:\n",
    "$$\n",
    "V(W) = \\max_{W'} \\ u(W - W') + \\beta V(W')\n",
    "$$"
   ]
  },
  {
   "cell_type": "markdown",
   "metadata": {},
   "source": [
    "### Ex 9"
   ]
  },
  {
   "cell_type": "code",
   "execution_count": 3,
   "metadata": {},
   "outputs": [
    {
     "data": {
      "text/plain": [
       "array([0.01, 0.02, 0.03, 0.04, 0.05, 0.06, 0.07, 0.08, 0.09, 0.1 , 0.11,\n",
       "       0.12, 0.13, 0.14, 0.15, 0.16, 0.17, 0.18, 0.19, 0.2 , 0.21, 0.22,\n",
       "       0.23, 0.24, 0.25, 0.26, 0.27, 0.28, 0.29, 0.3 , 0.31, 0.32, 0.33,\n",
       "       0.34, 0.35, 0.36, 0.37, 0.38, 0.39, 0.4 , 0.41, 0.42, 0.43, 0.44,\n",
       "       0.45, 0.46, 0.47, 0.48, 0.49, 0.5 , 0.51, 0.52, 0.53, 0.54, 0.55,\n",
       "       0.56, 0.57, 0.58, 0.59, 0.6 , 0.61, 0.62, 0.63, 0.64, 0.65, 0.66,\n",
       "       0.67, 0.68, 0.69, 0.7 , 0.71, 0.72, 0.73, 0.74, 0.75, 0.76, 0.77,\n",
       "       0.78, 0.79, 0.8 , 0.81, 0.82, 0.83, 0.84, 0.85, 0.86, 0.87, 0.88,\n",
       "       0.89, 0.9 , 0.91, 0.92, 0.93, 0.94, 0.95, 0.96, 0.97, 0.98, 0.99,\n",
       "       1.  ])"
      ]
     },
     "execution_count": 3,
     "metadata": {},
     "output_type": "execute_result"
    }
   ],
   "source": [
    "W_min, W_max, N = 0.01, 1, 100\n",
    "W_vec = np.linspace(W_min, W_max, N)\n",
    "W_vec"
   ]
  },
  {
   "cell_type": "markdown",
   "metadata": {},
   "source": [
    "### Ex 10"
   ]
  },
  {
   "cell_type": "code",
   "execution_count": 4,
   "metadata": {},
   "outputs": [],
   "source": [
    "# calculate the matrix of the difference between W and W' and replace the nonpositive W - W' to 1e-10\n",
    "c_mat = W_vec.reshape(N, -1) - W_vec\n",
    "c_neg = c_mat <= 0\n",
    "c_mat[c_neg] = 1e-10"
   ]
  },
  {
   "cell_type": "code",
   "execution_count": 5,
   "metadata": {},
   "outputs": [],
   "source": [
    "# calculate the utility matrix\n",
    "u_mat = np.log(c_mat)"
   ]
  },
  {
   "cell_type": "code",
   "execution_count": 6,
   "metadata": {},
   "outputs": [],
   "source": [
    "# copy the row vector of value function at T + 1 100 times and replace the nonpositive W - W' to -1e10\n",
    "V_1_mat = np.zeros((N, N))\n",
    "V_1_mat[c_neg] = -1e10"
   ]
  },
  {
   "cell_type": "code",
   "execution_count": 7,
   "metadata": {},
   "outputs": [],
   "source": [
    "# calculate the matrix of value function at T\n",
    "beta = 0.9\n",
    "V_0_mat = u_mat + beta * V_1_mat"
   ]
  },
  {
   "cell_type": "code",
   "execution_count": 8,
   "metadata": {
    "scrolled": false
   },
   "outputs": [
    {
     "data": {
      "image/png": "[encoded data removed]",
      "text/plain": [
       "<Figure size 432x288 with 1 Axes>"
      ]
     },
     "metadata": {
      "needs_background": "light"
     },
     "output_type": "display_data"
    },
    {
     "name": "stdout",
     "output_type": "stream",
     "text": [
      "The value function for t = T is: \n",
      " [[-9.00000002e+09]\n",
      " [-4.60517019e+00]\n",
      " [-3.91202301e+00]\n",
      " [-3.50655790e+00]\n",
      " [-3.21887582e+00]\n",
      " [-2.99573227e+00]\n",
      " [-2.81341072e+00]\n",
      " [-2.65926004e+00]\n",
      " [-2.52572864e+00]\n",
      " [-2.40794561e+00]\n",
      " [-2.30258509e+00]\n",
      " [-2.20727491e+00]\n",
      " [-2.12026354e+00]\n",
      " [-2.04022083e+00]\n",
      " [-1.96611286e+00]\n",
      " [-1.89711998e+00]\n",
      " [-1.83258146e+00]\n",
      " [-1.77195684e+00]\n",
      " [-1.71479843e+00]\n",
      " [-1.66073121e+00]\n",
      " [-1.60943791e+00]\n",
      " [-1.56064775e+00]\n",
      " [-1.51412773e+00]\n",
      " [-1.46967597e+00]\n",
      " [-1.42711636e+00]\n",
      " [-1.38629436e+00]\n",
      " [-1.34707365e+00]\n",
      " [-1.30933332e+00]\n",
      " [-1.27296568e+00]\n",
      " [-1.23787436e+00]\n",
      " [-1.20397280e+00]\n",
      " [-1.17118298e+00]\n",
      " [-1.13943428e+00]\n",
      " [-1.10866262e+00]\n",
      " [-1.07880966e+00]\n",
      " [-1.04982212e+00]\n",
      " [-1.02165125e+00]\n",
      " [-9.94252273e-01]\n",
      " [-9.67584026e-01]\n",
      " [-9.41608540e-01]\n",
      " [-9.16290732e-01]\n",
      " [-8.91598119e-01]\n",
      " [-8.67500568e-01]\n",
      " [-8.43970070e-01]\n",
      " [-8.20980552e-01]\n",
      " [-7.98507696e-01]\n",
      " [-7.76528789e-01]\n",
      " [-7.55022584e-01]\n",
      " [-7.33969175e-01]\n",
      " [-7.13349888e-01]\n",
      " [-6.93147181e-01]\n",
      " [-6.73344553e-01]\n",
      " [-6.53926467e-01]\n",
      " [-6.34878272e-01]\n",
      " [-6.16186139e-01]\n",
      " [-5.97837001e-01]\n",
      " [-5.79818495e-01]\n",
      " [-5.62118918e-01]\n",
      " [-5.44727175e-01]\n",
      " [-5.27632742e-01]\n",
      " [-5.10825624e-01]\n",
      " [-4.94296322e-01]\n",
      " [-4.78035801e-01]\n",
      " [-4.62035460e-01]\n",
      " [-4.46287103e-01]\n",
      " [-4.30782916e-01]\n",
      " [-4.15515444e-01]\n",
      " [-4.00477567e-01]\n",
      " [-3.85662481e-01]\n",
      " [-3.71063681e-01]\n",
      " [-3.56674944e-01]\n",
      " [-3.42490309e-01]\n",
      " [-3.28504067e-01]\n",
      " [-3.14710745e-01]\n",
      " [-3.01105093e-01]\n",
      " [-2.87682072e-01]\n",
      " [-2.74436846e-01]\n",
      " [-2.61364764e-01]\n",
      " [-2.48461359e-01]\n",
      " [-2.35722334e-01]\n",
      " [-2.23143551e-01]\n",
      " [-2.10721031e-01]\n",
      " [-1.98450939e-01]\n",
      " [-1.86329578e-01]\n",
      " [-1.74353387e-01]\n",
      " [-1.62518929e-01]\n",
      " [-1.50822890e-01]\n",
      " [-1.39262067e-01]\n",
      " [-1.27833372e-01]\n",
      " [-1.16533816e-01]\n",
      " [-1.05360516e-01]\n",
      " [-9.43106795e-02]\n",
      " [-8.33816089e-02]\n",
      " [-7.25706928e-02]\n",
      " [-6.18754037e-02]\n",
      " [-5.12932944e-02]\n",
      " [-4.08219945e-02]\n",
      " [-3.04592075e-02]\n",
      " [-2.02027073e-02]\n",
      " [-1.00503359e-02]]\n"
     ]
    }
   ],
   "source": [
    "# derive the optimal value function at T\n",
    "V_0_opt_vec = np.max(V_0_mat, axis=1)\n",
    "# draw the value function (I drop the first value to make the picture look nice)\n",
    "ax = plt.gca()\n",
    "ax.plot(W_vec[1:], V_0_opt_vec[1:])\n",
    "ax.set_xlabel('W')\n",
    "ax.set_ylabel('Value function at T')\n",
    "plt.show()\n",
    "# print the column of the value function\n",
    "print('The value function for t = T is: \\n', V_0_opt_vec.reshape(-1, 1))"
   ]
  },
  {
   "cell_type": "code",
   "execution_count": 9,
   "metadata": {
    "scrolled": false
   },
   "outputs": [
    {
     "data": {
      "image/png": "[encoded data removed]",
      "text/plain": [
       "<Figure size 432x288 with 1 Axes>"
      ]
     },
     "metadata": {
      "needs_background": "light"
     },
     "output_type": "display_data"
    },
    {
     "name": "stdout",
     "output_type": "stream",
     "text": [
      "The policy function for t = T is: \n",
      " [[0.01]\n",
      " [0.01]\n",
      " [0.01]\n",
      " [0.01]\n",
      " [0.01]\n",
      " [0.01]\n",
      " [0.01]\n",
      " [0.01]\n",
      " [0.01]\n",
      " [0.01]\n",
      " [0.01]\n",
      " [0.01]\n",
      " [0.01]\n",
      " [0.01]\n",
      " [0.01]\n",
      " [0.01]\n",
      " [0.01]\n",
      " [0.01]\n",
      " [0.01]\n",
      " [0.01]\n",
      " [0.01]\n",
      " [0.01]\n",
      " [0.01]\n",
      " [0.01]\n",
      " [0.01]\n",
      " [0.01]\n",
      " [0.01]\n",
      " [0.01]\n",
      " [0.01]\n",
      " [0.01]\n",
      " [0.01]\n",
      " [0.01]\n",
      " [0.01]\n",
      " [0.01]\n",
      " [0.01]\n",
      " [0.01]\n",
      " [0.01]\n",
      " [0.01]\n",
      " [0.01]\n",
      " [0.01]\n",
      " [0.01]\n",
      " [0.01]\n",
      " [0.01]\n",
      " [0.01]\n",
      " [0.01]\n",
      " [0.01]\n",
      " [0.01]\n",
      " [0.01]\n",
      " [0.01]\n",
      " [0.01]\n",
      " [0.01]\n",
      " [0.01]\n",
      " [0.01]\n",
      " [0.01]\n",
      " [0.01]\n",
      " [0.01]\n",
      " [0.01]\n",
      " [0.01]\n",
      " [0.01]\n",
      " [0.01]\n",
      " [0.01]\n",
      " [0.01]\n",
      " [0.01]\n",
      " [0.01]\n",
      " [0.01]\n",
      " [0.01]\n",
      " [0.01]\n",
      " [0.01]\n",
      " [0.01]\n",
      " [0.01]\n",
      " [0.01]\n",
      " [0.01]\n",
      " [0.01]\n",
      " [0.01]\n",
      " [0.01]\n",
      " [0.01]\n",
      " [0.01]\n",
      " [0.01]\n",
      " [0.01]\n",
      " [0.01]\n",
      " [0.01]\n",
      " [0.01]\n",
      " [0.01]\n",
      " [0.01]\n",
      " [0.01]\n",
      " [0.01]\n",
      " [0.01]\n",
      " [0.01]\n",
      " [0.01]\n",
      " [0.01]\n",
      " [0.01]\n",
      " [0.01]\n",
      " [0.01]\n",
      " [0.01]\n",
      " [0.01]\n",
      " [0.01]\n",
      " [0.01]\n",
      " [0.01]\n",
      " [0.01]\n",
      " [0.01]]\n"
     ]
    }
   ],
   "source": [
    "# derive the policy function at T\n",
    "index_max_0 = np.argmax(V_0_mat, axis=1)\n",
    "psi_0_opt_vec = W_vec[index_max_0]\n",
    "# draw the policy function \n",
    "ax = plt.gca()\n",
    "ax.plot(W_vec, psi_0_opt_vec)\n",
    "ax.set_xlabel('W')\n",
    "ax.set_ylabel('Policy function at T')\n",
    "plt.show()\n",
    "# print the column of the value function\n",
    "print('The policy function for t = T is: \\n', psi_0_opt_vec.reshape(-1, 1))"
   ]
  },
  {
   "cell_type": "markdown",
   "metadata": {},
   "source": [
    "### Ex 11"
   ]
  },
  {
   "cell_type": "code",
   "execution_count": 10,
   "metadata": {},
   "outputs": [
    {
     "data": {
      "text/plain": [
       "8.100000041446531e+19"
      ]
     },
     "execution_count": 10,
     "metadata": {},
     "output_type": "execute_result"
    }
   ],
   "source": [
    "# since V1_vec is a zero column vector, the distance could be generated as the sum of square of V0_opt_vec\n",
    "delta_0 = (V_0_opt_vec ** 2).sum()\n",
    "delta_0"
   ]
  },
  {
   "cell_type": "markdown",
   "metadata": {},
   "source": [
    "$\\delta_T$ is relatively large because the utility function for $W = 0.01, \\forall \\ W'$ is replaced by a small number in order to avoid $W - W' = 0$. If not, we cannot calculate $u(c) = \\ln(c)$. More importantly, the value function is replaced by a large negative number for $W = 0.01$. Therefore, the distance becomes extremely large. "
   ]
  },
  {
   "cell_type": "markdown",
   "metadata": {},
   "source": [
    "### Ex 12"
   ]
  },
  {
   "cell_type": "code",
   "execution_count": 11,
   "metadata": {},
   "outputs": [],
   "source": [
    "# copy the row vector of value function at T 100 times and replace the nonpositive W - W' to -1e10\n",
    "V_0_opt_mat = np.tile(V_0_opt_vec.reshape((1, N)), (N, 1))\n",
    "V_0_opt_mat[c_neg] = -1e10"
   ]
  },
  {
   "cell_type": "code",
   "execution_count": 12,
   "metadata": {},
   "outputs": [],
   "source": [
    "# calculate the matrix of value function at T - 1\n",
    "V_minus1_mat = u_mat + beta * V_0_opt_mat"
   ]
  },
  {
   "cell_type": "code",
   "execution_count": 13,
   "metadata": {
    "scrolled": false
   },
   "outputs": [
    {
     "data": {
      "image/png": "[encoded data removed]",
      "text/plain": [
       "<Figure size 432x288 with 1 Axes>"
      ]
     },
     "metadata": {
      "needs_background": "light"
     },
     "output_type": "display_data"
    },
    {
     "name": "stdout",
     "output_type": "stream",
     "text": [
      "The value function for t = T - 1 is: \n",
      " [[-9.00000002e+09]\n",
      " [-8.10000003e+09]\n",
      " [-8.74982335e+00]\n",
      " [-8.05667617e+00]\n",
      " [-7.43284371e+00]\n",
      " [-7.02737860e+00]\n",
      " [-6.66246000e+00]\n",
      " [-6.37477793e+00]\n",
      " [-6.11586407e+00]\n",
      " [-5.89272052e+00]\n",
      " [-5.69189132e+00]\n",
      " [-5.50956976e+00]\n",
      " [-5.34548036e+00]\n",
      " [-5.19132968e+00]\n",
      " [-5.05259407e+00]\n",
      " [-4.91906268e+00]\n",
      " [-4.79888442e+00]\n",
      " [-4.68110139e+00]\n",
      " [-4.57509666e+00]\n",
      " [-4.46973614e+00]\n",
      " [-4.37442596e+00]\n",
      " [-4.27960150e+00]\n",
      " [-4.19259012e+00]\n",
      " [-4.10681096e+00]\n",
      " [-4.02676825e+00]\n",
      " [-3.94845801e+00]\n",
      " [-3.87435004e+00]\n",
      " [-3.80231160e+00]\n",
      " [-3.73331873e+00]\n",
      " [-3.66662156e+00]\n",
      " [-3.60208303e+00]\n",
      " [-3.53998945e+00]\n",
      " [-3.47936483e+00]\n",
      " [-3.42128016e+00]\n",
      " [-3.36412175e+00]\n",
      " [-3.30955959e+00]\n",
      " [-3.25549236e+00]\n",
      " [-3.20404979e+00]\n",
      " [-3.15275650e+00]\n",
      " [-3.10396633e+00]\n",
      " [-3.05530583e+00]\n",
      " [-3.00878582e+00]\n",
      " [-2.96262185e+00]\n",
      " [-2.91817009e+00]\n",
      " [-2.87425894e+00]\n",
      " [-2.83169933e+00]\n",
      " [-2.78983132e+00]\n",
      " [-2.74900932e+00]\n",
      " [-2.70900273e+00]\n",
      " [-2.66978202e+00]\n",
      " [-2.63147837e+00]\n",
      " [-2.59373804e+00]\n",
      " [-2.55699824e+00]\n",
      " [-2.52063060e+00]\n",
      " [-2.48533196e+00]\n",
      " [-2.45024064e+00]\n",
      " [-2.41627434e+00]\n",
      " [-2.38237279e+00]\n",
      " [-2.34958297e+00]\n",
      " [-2.31685209e+00]\n",
      " [-2.28510339e+00]\n",
      " [-2.25352120e+00]\n",
      " [-2.22274954e+00]\n",
      " [-2.19223815e+00]\n",
      " [-2.16238519e+00]\n",
      " [-2.13287434e+00]\n",
      " [-2.10388681e+00]\n",
      " [-2.07531298e+00]\n",
      " [-2.04714210e+00]\n",
      " [-2.01944761e+00]\n",
      " [-1.99204864e+00]\n",
      " [-1.96518097e+00]\n",
      " [-1.93851272e+00]\n",
      " [-1.91242394e+00]\n",
      " [-1.88644845e+00]\n",
      " [-1.86109466e+00]\n",
      " [-1.83577685e+00]\n",
      " [-1.81108424e+00]\n",
      " [-1.78642517e+00]\n",
      " [-1.76232761e+00]\n",
      " [-1.73832619e+00]\n",
      " [-1.71479569e+00]\n",
      " [-1.69141776e+00]\n",
      " [-1.66842824e+00]\n",
      " [-1.64564221e+00]\n",
      " [-1.62316935e+00]\n",
      " [-1.60094600e+00]\n",
      " [-1.57896710e+00]\n",
      " [-1.55727930e+00]\n",
      " [-1.53577310e+00]\n",
      " [-1.51459565e+00]\n",
      " [-1.49354224e+00]\n",
      " [-1.47285167e+00]\n",
      " [-1.45223238e+00]\n",
      " [-1.43200681e+00]\n",
      " [-1.41180411e+00]\n",
      " [-1.39200148e+00]\n",
      " [-1.37222046e+00]\n",
      " [-1.35280238e+00]\n",
      " [-1.33344679e+00]]\n"
     ]
    }
   ],
   "source": [
    "# derive the optimal value function at T - 1\n",
    "V_minus1_opt_vec = np.max(V_minus1_mat, axis=1)\n",
    "# draw the value function (I drop the first two values to make the picture look nice)\n",
    "ax = plt.gca()\n",
    "ax.plot(W_vec[2:], V_minus1_opt_vec[2:])\n",
    "ax.set_xlabel('W')\n",
    "ax.set_ylabel('Value function at T - 1')\n",
    "plt.show()\n",
    "# print the column of the value function\n",
    "print('The value function for t = T - 1 is: \\n', V_minus1_opt_vec.reshape(-1, 1))"
   ]
  },
  {
   "cell_type": "code",
   "execution_count": 14,
   "metadata": {
    "scrolled": false
   },
   "outputs": [
    {
     "data": {
      "image/png": "[encoded data removed]",
      "text/plain": [
       "<Figure size 432x288 with 1 Axes>"
      ]
     },
     "metadata": {
      "needs_background": "light"
     },
     "output_type": "display_data"
    },
    {
     "name": "stdout",
     "output_type": "stream",
     "text": [
      "The policy function for t = T - 1 is: \n",
      " [[0.01]\n",
      " [0.01]\n",
      " [0.02]\n",
      " [0.02]\n",
      " [0.03]\n",
      " [0.03]\n",
      " [0.04]\n",
      " [0.04]\n",
      " [0.05]\n",
      " [0.05]\n",
      " [0.06]\n",
      " [0.06]\n",
      " [0.07]\n",
      " [0.07]\n",
      " [0.08]\n",
      " [0.08]\n",
      " [0.09]\n",
      " [0.09]\n",
      " [0.1 ]\n",
      " [0.1 ]\n",
      " [0.1 ]\n",
      " [0.11]\n",
      " [0.11]\n",
      " [0.12]\n",
      " [0.12]\n",
      " [0.13]\n",
      " [0.13]\n",
      " [0.14]\n",
      " [0.14]\n",
      " [0.15]\n",
      " [0.15]\n",
      " [0.16]\n",
      " [0.16]\n",
      " [0.17]\n",
      " [0.17]\n",
      " [0.18]\n",
      " [0.18]\n",
      " [0.19]\n",
      " [0.19]\n",
      " [0.19]\n",
      " [0.2 ]\n",
      " [0.2 ]\n",
      " [0.21]\n",
      " [0.21]\n",
      " [0.22]\n",
      " [0.22]\n",
      " [0.23]\n",
      " [0.23]\n",
      " [0.24]\n",
      " [0.24]\n",
      " [0.25]\n",
      " [0.25]\n",
      " [0.26]\n",
      " [0.26]\n",
      " [0.27]\n",
      " [0.27]\n",
      " [0.28]\n",
      " [0.28]\n",
      " [0.28]\n",
      " [0.29]\n",
      " [0.29]\n",
      " [0.3 ]\n",
      " [0.3 ]\n",
      " [0.31]\n",
      " [0.31]\n",
      " [0.32]\n",
      " [0.32]\n",
      " [0.33]\n",
      " [0.33]\n",
      " [0.34]\n",
      " [0.34]\n",
      " [0.35]\n",
      " [0.35]\n",
      " [0.36]\n",
      " [0.36]\n",
      " [0.37]\n",
      " [0.37]\n",
      " [0.37]\n",
      " [0.38]\n",
      " [0.38]\n",
      " [0.39]\n",
      " [0.39]\n",
      " [0.4 ]\n",
      " [0.4 ]\n",
      " [0.41]\n",
      " [0.41]\n",
      " [0.42]\n",
      " [0.42]\n",
      " [0.43]\n",
      " [0.43]\n",
      " [0.44]\n",
      " [0.44]\n",
      " [0.45]\n",
      " [0.45]\n",
      " [0.46]\n",
      " [0.46]\n",
      " [0.46]\n",
      " [0.47]\n",
      " [0.47]\n",
      " [0.48]]\n"
     ]
    }
   ],
   "source": [
    "# derive the policy function at T - 1\n",
    "index_max_minus1 = np.argmax(V_minus1_mat, axis=1)\n",
    "psi_minus1_opt_vec = W_vec[index_max_minus1]\n",
    "# draw the policy function \n",
    "ax = plt.gca()\n",
    "ax.plot(W_vec, psi_minus1_opt_vec)\n",
    "ax.set_xlabel('W')\n",
    "ax.set_ylabel('Policy function at T - 1')\n",
    "plt.show()\n",
    "# print the column of the value function\n",
    "print('The policy function for t = T - 1 is: \\n', psi_minus1_opt_vec.reshape(-1, 1))"
   ]
  },
  {
   "cell_type": "code",
   "execution_count": 15,
   "metadata": {},
   "outputs": [
    {
     "data": {
      "text/plain": [
       "6.56100003357169e+19"
      ]
     },
     "execution_count": 15,
     "metadata": {},
     "output_type": "execute_result"
    }
   ],
   "source": [
    "# generate the distance between V_{T - 1} and V_{T}\n",
    "delta_minus1 = ((V_minus1_opt_vec - V_0_opt_vec) ** 2).sum()\n",
    "delta_minus1"
   ]
  },
  {
   "cell_type": "markdown",
   "metadata": {},
   "source": [
    "$\\delta_{T - 1}$ is becoming smaller compared to $\\delta_{T}$, which is a sign of convergence."
   ]
  },
  {
   "cell_type": "markdown",
   "metadata": {},
   "source": [
    "### Ex 13"
   ]
  },
  {
   "cell_type": "code",
   "execution_count": 16,
   "metadata": {},
   "outputs": [],
   "source": [
    "# copy the row vector of value function at T - 1 100 times and replace the nonpositive W - W' to -1e10\n",
    "V_minus1_opt_mat = np.tile(V_minus1_opt_vec.reshape((1, N)), (N, 1))\n",
    "V_minus1_opt_mat[c_neg] = -1e10"
   ]
  },
  {
   "cell_type": "code",
   "execution_count": 17,
   "metadata": {},
   "outputs": [],
   "source": [
    "# calculate the matrix of value function at T - 2\n",
    "V_minus2_mat = u_mat + beta * V_minus1_opt_mat"
   ]
  },
  {
   "cell_type": "code",
   "execution_count": 18,
   "metadata": {
    "scrolled": false
   },
   "outputs": [
    {
     "data": {
      "image/png": "[encoded data removed]",
      "text/plain": [
       "<Figure size 432x288 with 1 Axes>"
      ]
     },
     "metadata": {
      "needs_background": "light"
     },
     "output_type": "display_data"
    },
    {
     "name": "stdout",
     "output_type": "stream",
     "text": [
      "The value function for t = T - 2 is: \n",
      " [[-9.00000002e+09]\n",
      " [-8.10000003e+09]\n",
      " [-7.29000003e+09]\n",
      " [-1.24800112e+01]\n",
      " [-1.17868640e+01]\n",
      " [-1.11630316e+01]\n",
      " [-1.06015823e+01]\n",
      " [-1.01961172e+01]\n",
      " [-9.83119864e+00]\n",
      " [-9.50277190e+00]\n",
      " [-9.21508983e+00]\n",
      " [-8.95617596e+00]\n",
      " [-8.72315349e+00]\n",
      " [-8.50000993e+00]\n",
      " [-8.29918074e+00]\n",
      " [-8.11685918e+00]\n",
      " [-7.93611290e+00]\n",
      " [-7.77202350e+00]\n",
      " [-7.61787282e+00]\n",
      " [-7.47019236e+00]\n",
      " [-7.33145675e+00]\n",
      " [-7.19792536e+00]\n",
      " [-7.07306331e+00]\n",
      " [-6.95288505e+00]\n",
      " [-6.83510202e+00]\n",
      " [-6.72694159e+00]\n",
      " [-6.62093686e+00]\n",
      " [-6.51557634e+00]\n",
      " [-6.42017208e+00]\n",
      " [-6.32486190e+00]\n",
      " [-6.23003744e+00]\n",
      " [-6.14302606e+00]\n",
      " [-6.05724690e+00]\n",
      " [-5.97190488e+00]\n",
      " [-5.89186218e+00]\n",
      " [-5.81355194e+00]\n",
      " [-5.73635069e+00]\n",
      " [-5.66224272e+00]\n",
      " [-5.59020428e+00]\n",
      " [-5.51972507e+00]\n",
      " [-5.45073219e+00]\n",
      " [-5.38403502e+00]\n",
      " [-5.31920043e+00]\n",
      " [-5.25466191e+00]\n",
      " [-5.19256832e+00]\n",
      " [-5.13194370e+00]\n",
      " [-5.07191624e+00]\n",
      " [-5.01383157e+00]\n",
      " [-4.95667316e+00]\n",
      " [-4.90078893e+00]\n",
      " [-4.84622677e+00]\n",
      " [-4.79215955e+00]\n",
      " [-4.73988335e+00]\n",
      " [-4.68844078e+00]\n",
      " [-4.63714748e+00]\n",
      " [-4.58804154e+00]\n",
      " [-4.53925138e+00]\n",
      " [-4.49059088e+00]\n",
      " [-4.44407086e+00]\n",
      " [-4.39777255e+00]\n",
      " [-4.35160858e+00]\n",
      " [-4.30715682e+00]\n",
      " [-4.26324567e+00]\n",
      " [-4.21945122e+00]\n",
      " [-4.17689161e+00]\n",
      " [-4.13502359e+00]\n",
      " [-4.09347602e+00]\n",
      " [-4.05265403e+00]\n",
      " [-4.01264744e+00]\n",
      " [-3.97312741e+00]\n",
      " [-3.93390670e+00]\n",
      " [-3.89560304e+00]\n",
      " [-3.85786272e+00]\n",
      " [-3.82018150e+00]\n",
      " [-3.78344171e+00]\n",
      " [-3.74707406e+00]\n",
      " [-3.71106814e+00]\n",
      " [-3.67576949e+00]\n",
      " [-3.64067817e+00]\n",
      " [-3.60620489e+00]\n",
      " [-3.57223859e+00]\n",
      " [-3.53833704e+00]\n",
      " [-3.50527122e+00]\n",
      " [-3.47248140e+00]\n",
      " [-3.43975052e+00]\n",
      " [-3.40798174e+00]\n",
      " [-3.37623305e+00]\n",
      " [-3.34465086e+00]\n",
      " [-3.31387920e+00]\n",
      " [-3.28330953e+00]\n",
      " [-3.25279814e+00]\n",
      " [-3.22294517e+00]\n",
      " [-3.19343433e+00]\n",
      " [-3.16397654e+00]\n",
      " [-3.13498901e+00]\n",
      " [-3.10641518e+00]\n",
      " [-3.07799121e+00]\n",
      " [-3.04982033e+00]\n",
      " [-3.02212584e+00]\n",
      " [-2.99466558e+00]]\n"
     ]
    }
   ],
   "source": [
    "# derive the optimal value function at T - 2\n",
    "V_minus2_opt_vec = np.max(V_minus2_mat, axis=1)\n",
    "# draw the value function (I drop the first three values to make the picture look nice)\n",
    "ax = plt.gca()\n",
    "ax.plot(W_vec[3:], V_minus2_opt_vec[3:])\n",
    "ax.set_xlabel('W')\n",
    "ax.set_ylabel('Value function at T - 2')\n",
    "plt.show()\n",
    "# print the column of the value function\n",
    "print('The value function for t = T - 2 is: \\n', V_minus2_opt_vec.reshape(-1, 1))"
   ]
  },
  {
   "cell_type": "code",
   "execution_count": 19,
   "metadata": {
    "scrolled": false
   },
   "outputs": [
    {
     "data": {
      "image/png": "[encoded data removed]",
      "text/plain": [
       "<Figure size 432x288 with 1 Axes>"
      ]
     },
     "metadata": {
      "needs_background": "light"
     },
     "output_type": "display_data"
    },
    {
     "name": "stdout",
     "output_type": "stream",
     "text": [
      "The policy function for t = T - 2 is: \n",
      " [[0.01]\n",
      " [0.01]\n",
      " [0.02]\n",
      " [0.03]\n",
      " [0.03]\n",
      " [0.04]\n",
      " [0.05]\n",
      " [0.05]\n",
      " [0.06]\n",
      " [0.07]\n",
      " [0.07]\n",
      " [0.08]\n",
      " [0.09]\n",
      " [0.09]\n",
      " [0.1 ]\n",
      " [0.1 ]\n",
      " [0.11]\n",
      " [0.12]\n",
      " [0.12]\n",
      " [0.13]\n",
      " [0.14]\n",
      " [0.14]\n",
      " [0.15]\n",
      " [0.16]\n",
      " [0.16]\n",
      " [0.17]\n",
      " [0.18]\n",
      " [0.18]\n",
      " [0.19]\n",
      " [0.19]\n",
      " [0.2 ]\n",
      " [0.2 ]\n",
      " [0.21]\n",
      " [0.22]\n",
      " [0.22]\n",
      " [0.23]\n",
      " [0.24]\n",
      " [0.24]\n",
      " [0.25]\n",
      " [0.26]\n",
      " [0.26]\n",
      " [0.27]\n",
      " [0.28]\n",
      " [0.28]\n",
      " [0.29]\n",
      " [0.29]\n",
      " [0.3 ]\n",
      " [0.31]\n",
      " [0.31]\n",
      " [0.32]\n",
      " [0.33]\n",
      " [0.33]\n",
      " [0.34]\n",
      " [0.35]\n",
      " [0.35]\n",
      " [0.36]\n",
      " [0.36]\n",
      " [0.37]\n",
      " [0.37]\n",
      " [0.38]\n",
      " [0.39]\n",
      " [0.39]\n",
      " [0.4 ]\n",
      " [0.41]\n",
      " [0.41]\n",
      " [0.42]\n",
      " [0.43]\n",
      " [0.43]\n",
      " [0.44]\n",
      " [0.45]\n",
      " [0.45]\n",
      " [0.46]\n",
      " [0.46]\n",
      " [0.47]\n",
      " [0.48]\n",
      " [0.48]\n",
      " [0.49]\n",
      " [0.5 ]\n",
      " [0.5 ]\n",
      " [0.51]\n",
      " [0.52]\n",
      " [0.52]\n",
      " [0.53]\n",
      " [0.53]\n",
      " [0.54]\n",
      " [0.55]\n",
      " [0.55]\n",
      " [0.56]\n",
      " [0.56]\n",
      " [0.57]\n",
      " [0.58]\n",
      " [0.58]\n",
      " [0.59]\n",
      " [0.6 ]\n",
      " [0.6 ]\n",
      " [0.61]\n",
      " [0.62]\n",
      " [0.62]\n",
      " [0.63]\n",
      " [0.64]]\n"
     ]
    }
   ],
   "source": [
    "# derive the policy function at T - 2\n",
    "index_max_minus2 = np.argmax(V_minus2_mat, axis=1)\n",
    "psi_minus2_opt_vec = W_vec[index_max_minus2]\n",
    "# draw the policy function \n",
    "ax = plt.gca()\n",
    "ax.plot(W_vec, psi_minus1_opt_vec)\n",
    "ax.set_xlabel('W')\n",
    "ax.set_ylabel('Policy function at T - 2')\n",
    "plt.show()\n",
    "# print the column of the value function\n",
    "print('The policy function for t = T - 2 is: \\n', psi_minus2_opt_vec.reshape(-1, 1))"
   ]
  },
  {
   "cell_type": "code",
   "execution_count": 20,
   "metadata": {},
   "outputs": [
    {
     "data": {
      "text/plain": [
       "5.314410027193069e+19"
      ]
     },
     "execution_count": 20,
     "metadata": {},
     "output_type": "execute_result"
    }
   ],
   "source": [
    "# generate the distance between V_{T - 2} and V_{T - 1}\n",
    "delta_minus2 = ((V_minus2_opt_vec - V_minus1_opt_vec) ** 2).sum()\n",
    "delta_minus2"
   ]
  },
  {
   "cell_type": "markdown",
   "metadata": {},
   "source": [
    "$\\delta_{T - 2}$ is becoming even smaller."
   ]
  },
  {
   "cell_type": "markdown",
   "metadata": {},
   "source": [
    "### Ex 14"
   ]
  },
  {
   "cell_type": "code",
   "execution_count": 21,
   "metadata": {},
   "outputs": [
    {
     "name": "stdout",
     "output_type": "stream",
     "text": [
      "iteration 1: distance = 8.100000041446531e+19\n",
      "iteration 2: distance = 6.56100003357169e+19\n",
      "iteration 3: distance = 5.314410027193069e+19\n",
      "iteration 4: distance = 4.304672122026387e+19\n",
      "iteration 5: distance = 3.486784418841374e+19\n",
      "iteration 6: distance = 2.824295379261513e+19\n",
      "iteration 7: distance = 2.2876792572018258e+19\n",
      "iteration 8: distance = 1.853020198333479e+19\n",
      "iteration 9: distance = 1.5009463606501175e+19\n",
      "iteration 10: distance = 1.2157665521265955e+19\n",
      "iteration 11: distance = 9.847709072225423e+18\n",
      "iteration 12: distance = 7.976644348502596e+18\n",
      "iteration 13: distance = 6.461081922287103e+18\n",
      "iteration 14: distance = 5.233476357052553e+18\n",
      "iteration 15: distance = 4.239115849212569e+18\n",
      "iteration 16: distance = 3.4336838378621814e+18\n",
      "iteration 17: distance = 2.7812839086683674e+18\n",
      "iteration 18: distance = 2.2528399660213778e+18\n",
      "iteration 19: distance = 1.8248003724773166e+18\n",
      "iteration 20: distance = 1.4780883017066266e+18\n",
      "iteration 21: distance = 1.197251524382368e+18\n",
      "iteration 22: distance = 9.697737347497179e+17\n",
      "iteration 23: distance = 7.855167251472716e+17\n",
      "iteration 24: distance = 6.362685473692899e+17\n",
      "iteration 25: distance = 5.1537752336912474e+17\n",
      "iteration 26: distance = 4.17455793928991e+17\n",
      "iteration 27: distance = 3.381391930824827e+17\n",
      "iteration 28: distance = 2.7389274639681098e+17\n",
      "iteration 29: distance = 2.2185312458141686e+17\n",
      "iteration 30: distance = 1.7970103091094768e+17\n",
      "iteration 31: distance = 1.4555783503786765e+17\n",
      "iteration 32: distance = 1.1790184638067278e+17\n",
      "iteration 33: distance = 9.550049556834494e+16\n",
      "iteration 34: distance = 7.735540141035942e+16\n",
      "iteration 35: distance = 6.265787514239115e+16\n",
      "iteration 36: distance = 5.075287886533683e+16\n",
      "iteration 37: distance = 4.110983188092282e+16\n",
      "iteration 38: distance = 3.32989638235475e+16\n",
      "iteration 39: distance = 2.6972160697073476e+16\n",
      "iteration 40: distance = 2.1847450164629524e+16\n",
      "iteration 41: distance = 1.7696434633349916e+16\n",
      "iteration 42: distance = 1.4334112053013432e+16\n",
      "iteration 43: distance = 1.1610630762940884e+16\n",
      "iteration 44: distance = 9404610917982120.0\n",
      "iteration 45: distance = 7617734843565517.0\n",
      "iteration 46: distance = 6170365223288068.0\n",
      "iteration 47: distance = 4997995830863340.0\n",
      "iteration 48: distance = 4048376622999305.0\n",
      "iteration 49: distance = 3279185064629437.5\n",
      "iteration 50: distance = 2656139902349845.0\n",
      "iteration 51: distance = 2151473320903374.8\n",
      "iteration 52: distance = 1742693389931734.0\n",
      "iteration 53: distance = 1411581645844705.2\n",
      "iteration 54: distance = 1143381133134212.0\n",
      "iteration 55: distance = 926138717838712.5\n",
      "iteration 56: distance = 750172361449357.9\n",
      "iteration 57: distance = 607639612773980.5\n",
      "iteration 58: distance = 492188086346925.1\n",
      "iteration 59: distance = 398672349941010.06\n",
      "iteration 60: distance = 322924603452218.94\n",
      "iteration 61: distance = 261568928796298.2\n",
      "iteration 62: distance = 211870832325002.22\n",
      "iteration 63: distance = 171615374183252.53\n",
      "iteration 64: distance = 139008453088435.27\n",
      "iteration 65: distance = 112596847001633.22\n",
      "iteration 66: distance = 91203446071323.64\n",
      "iteration 67: distance = 73874791317772.83\n",
      "iteration 68: distance = 59838580967396.65\n",
      "iteration 69: distance = 48469250583591.945\n",
      "iteration 70: distance = 39260092972710.12\n",
      "iteration 71: distance = 31800675307895.83\n",
      "iteration 72: distance = 25758546999396.25\n",
      "iteration 73: distance = 20864423069511.586\n",
      "iteration 74: distance = 16900182686304.996\n",
      "iteration 75: distance = 13689147975907.654\n",
      "iteration 76: distance = 11088209860485.797\n",
      "iteration 77: distance = 8981449986994.084\n",
      "iteration 78: distance = 7274974489465.778\n",
      "iteration 79: distance = 5892729336467.846\n",
      "iteration 80: distance = 4773110762539.508\n",
      "iteration 81: distance = 3866219717657.537\n",
      "iteration 82: distance = 3131637971303.128\n",
      "iteration 83: distance = 2536626756756.045\n",
      "iteration 84: distance = 2054667672972.888\n",
      "iteration 85: distance = 1664280815108.5134\n",
      "iteration 86: distance = 1348067460238.3552\n",
      "iteration 87: distance = 1091934642793.5035\n",
      "iteration 88: distance = 884467060663.1531\n",
      "iteration 89: distance = 716418319137.5505\n",
      "iteration 90: distance = 580298838501.7767\n",
      "iteration 91: distance = 470042059186.77734\n",
      "iteration 92: distance = 380734067941.5837\n",
      "iteration 93: distance = 308394595032.9489\n",
      "iteration 94: distance = 249799621976.9002\n",
      "iteration 95: distance = 202337693801.46634\n",
      "iteration 96: distance = 163893531979.29382\n",
      "iteration 97: distance = 132753760903.24619\n",
      "iteration 98: distance = 107530546331.53915\n",
      "iteration 99: distance = 87099742528.32265\n",
      "iteration 100: distance = 70550791447.55199\n",
      "iteration 101: distance = 0.0\n"
     ]
    }
   ],
   "source": [
    "V_Tplus1_vec = np.zeros(N, dtype='float')\n",
    "V_Tplus1_mat = np.zeros((N, N),dtype='float')\n",
    "V_Tplus1_mat[c_neg] = -1e10\n",
    "s = 0\n",
    "while True:\n",
    "    V_T_mat = u_mat + beta * V_Tplus1_mat\n",
    "    V_T_opt_vec = np.max(V_T_mat, axis=1)\n",
    "    if ((V_T_opt_vec - V_Tplus1_vec) ** 2).sum() < 1e-9:\n",
    "        print('iteration {}: distance = {}'.format(s + 1, ((V_T_opt_vec - V_Tplus1_vec) ** 2).sum()))\n",
    "        index_max_T = np.argmax(V_T_mat, axis=1)\n",
    "        psi_T_opt_vec = W_vec[index_max_T]\n",
    "        break\n",
    "    elif s >= 1e4:\n",
    "        print('iteration {}: distance = {}'.format(s + 1, ((V_T_opt_vec - V_Tplus1_vec) ** 2).sum()))\n",
    "        index_max_T = np.argmax(V_T_mat, axis=1)\n",
    "        psi_T_opt_vec = W_vec[index_max_T]\n",
    "        print('After 10000 iterations, it still does not converge.' + \n",
    "              'To avoid infinitely iterations, the loop breaks automatically.')\n",
    "        break\n",
    "    else:\n",
    "        print('iteration {}: distance = {}'.format(s + 1, ((V_T_opt_vec - V_Tplus1_vec) ** 2).sum()))\n",
    "        s += 1\n",
    "        V_Tplus1_vec = V_T_opt_vec\n",
    "        V_Tplus1_mat = np.tile(V_Tplus1_vec.reshape((1, N)), (N, 1))\n",
    "        V_Tplus1_mat[c_neg] = -1e10"
   ]
  },
  {
   "cell_type": "markdown",
   "metadata": {},
   "source": [
    "Therefore, it takes 101 iterations to get a convergent policy function from the last period $T$."
   ]
  },
  {
   "cell_type": "markdown",
   "metadata": {},
   "source": [
    "### Ex 15"
   ]
  },
  {
   "cell_type": "code",
   "execution_count": 22,
   "metadata": {},
   "outputs": [
    {
     "data": {
      "image/png": "[encoded data removed]",
      "text/plain": [
       "<Figure size 432x288 with 1 Axes>"
      ]
     },
     "metadata": {
      "needs_background": "light"
     },
     "output_type": "display_data"
    }
   ],
   "source": [
    "import matplotlib.pyplot as plt\n",
    "ax = plt.gca()\n",
    "ax.plot(W_vec, psi_T_opt_vec)\n",
    "ax.set_xlabel('cake today')\n",
    "ax.set_ylabel('cake tomorrow')\n",
    "plt.show()"
   ]
  },
  {
   "cell_type": "markdown",
   "metadata": {},
   "source": [
    "### Ex 16"
   ]
  },
  {
   "cell_type": "code",
   "execution_count": 23,
   "metadata": {},
   "outputs": [],
   "source": [
    "from scipy.stats import norm\n",
    "\n",
    "# function for approximating the normal distribution\n",
    "def norm_approx(mu, sigma, N, k):\n",
    "    Zs = []\n",
    "    omegas = []\n",
    "    \n",
    "    # generate nodes\n",
    "    for i in range(N):\n",
    "        Zs.append(mu - k * sigma + 2 * i * k * sigma / (N - 1))\n",
    "        \n",
    "    # calculate weights\n",
    "    for i in range(N):    \n",
    "        if i == 0:\n",
    "            omegas.append(norm.cdf((Zs[0] + Zs[1]) / 2, mu, sigma))\n",
    "        elif i == (N - 1):\n",
    "            omegas.append(1 - norm.cdf((Zs[-2] + Zs[-1]) / 2, mu, sigma))\n",
    "        else:\n",
    "            Zmin = (Zs[i - 1] + Zs[i]) / 2\n",
    "            Zmax = (Zs[i] + Zs[i + 1]) / 2\n",
    "            omegas.append(norm.cdf(Zmax, mu, sigma) - norm.cdf(Zmin, mu, sigma))\n",
    "        \n",
    "    return np.array(Zs), np.array(omegas)"
   ]
  },
  {
   "cell_type": "code",
   "execution_count": 24,
   "metadata": {},
   "outputs": [
    {
     "name": "stdout",
     "output_type": "stream",
     "text": [
      "The probability of choosing epsilon = 0.5 is 0.006209665325776132\n",
      "The probability of choosing epsilon = 1.0 is 0.06059753594308194\n",
      "The probability of choosing epsilon = 1.5 is 0.2417303374571288\n",
      "The probability of choosing epsilon = 2.0 is 0.38292492254802624\n",
      "The probability of choosing epsilon = 2.5 is 0.2417303374571288\n",
      "The probability of choosing epsilon = 3.0 is 0.060597535943081926\n",
      "The probability of choosing epsilon = 3.5 is 0.006209665325776159\n"
     ]
    }
   ],
   "source": [
    "M = 7\n",
    "eps_vec, Gamma_vec = norm_approx(2, 0.5, M, 3)\n",
    "for i in range(M):\n",
    "    print('The probability of choosing epsilon = {} is {}'.format(eps_vec[i], Gamma_vec[i]))"
   ]
  },
  {
   "cell_type": "markdown",
   "metadata": {},
   "source": [
    "### Ex 17"
   ]
  },
  {
   "cell_type": "code",
   "execution_count": 25,
   "metadata": {},
   "outputs": [],
   "source": [
    "# generate the utility cube\n",
    "W_vec = np.linspace(0.01, 1, 100)\n",
    "c_mat_3D = (W_vec.reshape(N, -1) - W_vec).reshape(N, 1, N)\n",
    "c_cub = np.tile(c_mat_3D, (1, M, 1))\n",
    "c_neg = c_cub <= 0\n",
    "c_cub[c_neg] = 1e-10\n",
    "u_cub = np.log(c_cub)\n",
    "for i in range(M):\n",
    "    u_cub[:, i, :] *= eps_vec[i]"
   ]
  },
  {
   "cell_type": "code",
   "execution_count": 26,
   "metadata": {},
   "outputs": [],
   "source": [
    "# generate the expected value function at T + 1 and reshape it into 1 * 1 * N\n",
    "V_1_mat = np.zeros((N, M), dtype='float')\n",
    "E_V_1_vec = (V_1_mat @ Gamma_vec.reshape(-1, 1)).reshape(1, 1, N)\n",
    "# copy the expected value funtion so that it forms a N * M * N cube\n",
    "E_V_1_cub = np.tile(E_V_1_vec, (N, M ,1))\n",
    "# replace the nonpositive W - W' to -1e10\n",
    "E_V_1_cub[c_neg] = -1e10"
   ]
  },
  {
   "cell_type": "code",
   "execution_count": 27,
   "metadata": {},
   "outputs": [],
   "source": [
    "# generate the cube of value function at T\n",
    "beta = 0.9\n",
    "V_0_cub = u_cub + beta * E_V_1_cub"
   ]
  },
  {
   "cell_type": "code",
   "execution_count": 28,
   "metadata": {
    "scrolled": false
   },
   "outputs": [
    {
     "data": {
      "image/png": "[encoded data removed]",
      "text/plain": [
       "<Figure size 432x288 with 1 Axes>"
      ]
     },
     "metadata": {
      "needs_background": "light"
     },
     "output_type": "display_data"
    },
    {
     "name": "stdout",
     "output_type": "stream",
     "text": [
      "The value function for t = T is: \n",
      " [[-9.00000001e+09 -9.00000002e+09 -9.00000003e+09 -9.00000005e+09\n",
      "  -9.00000006e+09 -9.00000007e+09 -9.00000008e+09]\n",
      " [-2.30258509e+00 -4.60517019e+00 -6.90775528e+00 -9.21034037e+00\n",
      "  -1.15129255e+01 -1.38155106e+01 -1.61180957e+01]\n",
      " [-1.95601150e+00 -3.91202301e+00 -5.86803451e+00 -7.82404601e+00\n",
      "  -9.78005751e+00 -1.17360690e+01 -1.36920805e+01]\n",
      " [-1.75327895e+00 -3.50655790e+00 -5.25983685e+00 -7.01311579e+00\n",
      "  -8.76639474e+00 -1.05196737e+01 -1.22729526e+01]\n",
      " [-1.60943791e+00 -3.21887582e+00 -4.82831374e+00 -6.43775165e+00\n",
      "  -8.04718956e+00 -9.65662747e+00 -1.12660654e+01]\n",
      " [-1.49786614e+00 -2.99573227e+00 -4.49359841e+00 -5.99146455e+00\n",
      "  -7.48933068e+00 -8.98719682e+00 -1.04850630e+01]\n",
      " [-1.40670536e+00 -2.81341072e+00 -4.22011608e+00 -5.62682143e+00\n",
      "  -7.03352679e+00 -8.44023215e+00 -9.84693751e+00]\n",
      " [-1.32963002e+00 -2.65926004e+00 -3.98889006e+00 -5.31852007e+00\n",
      "  -6.64815009e+00 -7.97778011e+00 -9.30741013e+00]\n",
      " [-1.26286432e+00 -2.52572864e+00 -3.78859297e+00 -5.05145729e+00\n",
      "  -6.31432161e+00 -7.57718593e+00 -8.84005026e+00]\n",
      " [-1.20397280e+00 -2.40794561e+00 -3.61191841e+00 -4.81589122e+00\n",
      "  -6.01986402e+00 -7.22383683e+00 -8.42780963e+00]\n",
      " [-1.15129255e+00 -2.30258509e+00 -3.45387764e+00 -4.60517019e+00\n",
      "  -5.75646273e+00 -6.90775528e+00 -8.05904783e+00]\n",
      " [-1.10363746e+00 -2.20727491e+00 -3.31091237e+00 -4.41454983e+00\n",
      "  -5.51818728e+00 -6.62182474e+00 -7.72546220e+00]\n",
      " [-1.06013177e+00 -2.12026354e+00 -3.18039530e+00 -4.24052707e+00\n",
      "  -5.30065884e+00 -6.36079061e+00 -7.42092238e+00]\n",
      " [-1.02011041e+00 -2.04022083e+00 -3.06033124e+00 -4.08044166e+00\n",
      "  -5.10055207e+00 -6.12066249e+00 -7.14077290e+00]\n",
      " [-9.83056428e-01 -1.96611286e+00 -2.94916928e+00 -3.93222571e+00\n",
      "  -4.91528214e+00 -5.89833857e+00 -6.88139500e+00]\n",
      " [-9.48559992e-01 -1.89711998e+00 -2.84567998e+00 -3.79423997e+00\n",
      "  -4.74279996e+00 -5.69135995e+00 -6.63991995e+00]\n",
      " [-9.16290732e-01 -1.83258146e+00 -2.74887220e+00 -3.66516293e+00\n",
      "  -4.58145366e+00 -5.49774439e+00 -6.41403512e+00]\n",
      " [-8.85978421e-01 -1.77195684e+00 -2.65793526e+00 -3.54391368e+00\n",
      "  -4.42989210e+00 -5.31587053e+00 -6.20184895e+00]\n",
      " [-8.57399214e-01 -1.71479843e+00 -2.57219764e+00 -3.42959686e+00\n",
      "  -4.28699607e+00 -5.14439528e+00 -6.00179450e+00]\n",
      " [-8.30365603e-01 -1.66073121e+00 -2.49109681e+00 -3.32146241e+00\n",
      "  -4.15182802e+00 -4.98219362e+00 -5.81255922e+00]\n",
      " [-8.04718956e-01 -1.60943791e+00 -2.41415687e+00 -3.21887582e+00\n",
      "  -4.02359478e+00 -4.82831374e+00 -5.63303269e+00]\n",
      " [-7.80323874e-01 -1.56064775e+00 -2.34097162e+00 -3.12129550e+00\n",
      "  -3.90161937e+00 -4.68194324e+00 -5.46226712e+00]\n",
      " [-7.57063866e-01 -1.51412773e+00 -2.27119160e+00 -3.02825547e+00\n",
      "  -3.78531933e+00 -4.54238320e+00 -5.29944706e+00]\n",
      " [-7.34837985e-01 -1.46967597e+00 -2.20451396e+00 -2.93935194e+00\n",
      "  -3.67418993e+00 -4.40902791e+00 -5.14386590e+00]\n",
      " [-7.13558178e-01 -1.42711636e+00 -2.14067453e+00 -2.85423271e+00\n",
      "  -3.56779089e+00 -4.28134907e+00 -4.99490724e+00]\n",
      " [-6.93147181e-01 -1.38629436e+00 -2.07944154e+00 -2.77258872e+00\n",
      "  -3.46573590e+00 -4.15888308e+00 -4.85203026e+00]\n",
      " [-6.73536824e-01 -1.34707365e+00 -2.02061047e+00 -2.69414730e+00\n",
      "  -3.36768412e+00 -4.04122094e+00 -4.71475777e+00]\n",
      " [-6.54666660e-01 -1.30933332e+00 -1.96399998e+00 -2.61866664e+00\n",
      "  -3.27333330e+00 -3.92799996e+00 -4.58266662e+00]\n",
      " [-6.36482838e-01 -1.27296568e+00 -1.90944851e+00 -2.54593135e+00\n",
      "  -3.18241419e+00 -3.81889703e+00 -4.45537987e+00]\n",
      " [-6.18937178e-01 -1.23787436e+00 -1.85681153e+00 -2.47574871e+00\n",
      "  -3.09468589e+00 -3.71362307e+00 -4.33256025e+00]\n",
      " [-6.01986402e-01 -1.20397280e+00 -1.80595921e+00 -2.40794561e+00\n",
      "  -3.00993201e+00 -3.61191841e+00 -4.21390482e+00]\n",
      " [-5.85591491e-01 -1.17118298e+00 -1.75677447e+00 -2.34236596e+00\n",
      "  -2.92795745e+00 -3.51354894e+00 -4.09914044e+00]\n",
      " [-5.69717142e-01 -1.13943428e+00 -1.70915142e+00 -2.27886857e+00\n",
      "  -2.84858571e+00 -3.41830285e+00 -3.98801999e+00]\n",
      " [-5.54331312e-01 -1.10866262e+00 -1.66299394e+00 -2.21732525e+00\n",
      "  -2.77165656e+00 -3.32598787e+00 -3.88031919e+00]\n",
      " [-5.39404831e-01 -1.07880966e+00 -1.61821449e+00 -2.15761932e+00\n",
      "  -2.69702415e+00 -3.23642898e+00 -3.77583381e+00]\n",
      " [-5.24911062e-01 -1.04982212e+00 -1.57473319e+00 -2.09964425e+00\n",
      "  -2.62455531e+00 -3.14946637e+00 -3.67437744e+00]\n",
      " [-5.10825624e-01 -1.02165125e+00 -1.53247687e+00 -2.04330250e+00\n",
      "  -2.55412812e+00 -3.06495374e+00 -3.57577937e+00]\n",
      " [-4.97126137e-01 -9.94252273e-01 -1.49137841e+00 -1.98850455e+00\n",
      "  -2.48563068e+00 -2.98275682e+00 -3.47988296e+00]\n",
      " [-4.83792013e-01 -9.67584026e-01 -1.45137604e+00 -1.93516805e+00\n",
      "  -2.41896007e+00 -2.90275208e+00 -3.38654409e+00]\n",
      " [-4.70804270e-01 -9.41608540e-01 -1.41241281e+00 -1.88321708e+00\n",
      "  -2.35402135e+00 -2.82482562e+00 -3.29562989e+00]\n",
      " [-4.58145366e-01 -9.16290732e-01 -1.37443610e+00 -1.83258146e+00\n",
      "  -2.29072683e+00 -2.74887220e+00 -3.20701756e+00]\n",
      " [-4.45799060e-01 -8.91598119e-01 -1.33739718e+00 -1.78319624e+00\n",
      "  -2.22899530e+00 -2.67479436e+00 -3.12059342e+00]\n",
      " [-4.33750284e-01 -8.67500568e-01 -1.30125085e+00 -1.73500114e+00\n",
      "  -2.16875142e+00 -2.60250170e+00 -3.03625199e+00]\n",
      " [-4.21985035e-01 -8.43970070e-01 -1.26595511e+00 -1.68794014e+00\n",
      "  -2.10992518e+00 -2.53191021e+00 -2.95389525e+00]\n",
      " [-4.10490276e-01 -8.20980552e-01 -1.23147083e+00 -1.64196110e+00\n",
      "  -2.05245138e+00 -2.46294166e+00 -2.87343193e+00]\n",
      " [-3.99253848e-01 -7.98507696e-01 -1.19776154e+00 -1.59701539e+00\n",
      "  -1.99626924e+00 -2.39552309e+00 -2.79477694e+00]\n",
      " [-3.88264395e-01 -7.76528789e-01 -1.16479318e+00 -1.55305758e+00\n",
      "  -1.94132197e+00 -2.32958637e+00 -2.71785076e+00]\n",
      " [-3.77511292e-01 -7.55022584e-01 -1.13253388e+00 -1.51004517e+00\n",
      "  -1.88755646e+00 -2.26506775e+00 -2.64257904e+00]\n",
      " [-3.66984588e-01 -7.33969175e-01 -1.10095376e+00 -1.46793835e+00\n",
      "  -1.83492294e+00 -2.20190753e+00 -2.56889211e+00]\n",
      " [-3.56674944e-01 -7.13349888e-01 -1.07002483e+00 -1.42669978e+00\n",
      "  -1.78337472e+00 -2.14004966e+00 -2.49672461e+00]\n",
      " [-3.46573590e-01 -6.93147181e-01 -1.03972077e+00 -1.38629436e+00\n",
      "  -1.73286795e+00 -2.07944154e+00 -2.42601513e+00]\n",
      " [-3.36672277e-01 -6.73344553e-01 -1.01001683e+00 -1.34668911e+00\n",
      "  -1.68336138e+00 -2.02003366e+00 -2.35670594e+00]\n",
      " [-3.26963234e-01 -6.53926467e-01 -9.80889701e-01 -1.30785293e+00\n",
      "  -1.63481617e+00 -1.96177940e+00 -2.28874264e+00]\n",
      " [-3.17439136e-01 -6.34878272e-01 -9.52317409e-01 -1.26975654e+00\n",
      "  -1.58719568e+00 -1.90463482e+00 -2.22207395e+00]\n",
      " [-3.08093070e-01 -6.16186139e-01 -9.24279209e-01 -1.23237228e+00\n",
      "  -1.54046535e+00 -1.84855842e+00 -2.15665149e+00]\n",
      " [-2.98918500e-01 -5.97837001e-01 -8.96755501e-01 -1.19567400e+00\n",
      "  -1.49459250e+00 -1.79351100e+00 -2.09242950e+00]\n",
      " [-2.89909248e-01 -5.79818495e-01 -8.69727743e-01 -1.15963699e+00\n",
      "  -1.44954624e+00 -1.73945549e+00 -2.02936473e+00]\n",
      " [-2.81059459e-01 -5.62118918e-01 -8.43178377e-01 -1.12423784e+00\n",
      "  -1.40529730e+00 -1.68635675e+00 -1.96741621e+00]\n",
      " [-2.72363588e-01 -5.44727175e-01 -8.17090763e-01 -1.08945435e+00\n",
      "  -1.36181794e+00 -1.63418153e+00 -1.90654511e+00]\n",
      " [-2.63816371e-01 -5.27632742e-01 -7.91449113e-01 -1.05526548e+00\n",
      "  -1.31908186e+00 -1.58289823e+00 -1.84671460e+00]\n",
      " [-2.55412812e-01 -5.10825624e-01 -7.66238436e-01 -1.02165125e+00\n",
      "  -1.27706406e+00 -1.53247687e+00 -1.78788968e+00]\n",
      " [-2.47148161e-01 -4.94296322e-01 -7.41444483e-01 -9.88592644e-01\n",
      "  -1.23574080e+00 -1.48288897e+00 -1.73003713e+00]\n",
      " [-2.39017900e-01 -4.78035801e-01 -7.17053701e-01 -9.56071602e-01\n",
      "  -1.19508950e+00 -1.43410740e+00 -1.67312530e+00]\n",
      " [-2.31017730e-01 -4.62035460e-01 -6.93053189e-01 -9.24070919e-01\n",
      "  -1.15508865e+00 -1.38610638e+00 -1.61712411e+00]\n",
      " [-2.23143551e-01 -4.46287103e-01 -6.69430654e-01 -8.92574205e-01\n",
      "  -1.11571776e+00 -1.33886131e+00 -1.56200486e+00]\n",
      " [-2.15391458e-01 -4.30782916e-01 -6.46174374e-01 -8.61565832e-01\n",
      "  -1.07695729e+00 -1.29234875e+00 -1.50774021e+00]\n",
      " [-2.07757722e-01 -4.15515444e-01 -6.23273166e-01 -8.31030888e-01\n",
      "  -1.03878861e+00 -1.24654633e+00 -1.45430405e+00]\n",
      " [-2.00238783e-01 -4.00477567e-01 -6.00716350e-01 -8.00955133e-01\n",
      "  -1.00119392e+00 -1.20143270e+00 -1.40167148e+00]\n",
      " [-1.92831240e-01 -3.85662481e-01 -5.78493721e-01 -7.71324962e-01\n",
      "  -9.64156202e-01 -1.15698744e+00 -1.34981868e+00]\n",
      " [-1.85531841e-01 -3.71063681e-01 -5.56595522e-01 -7.42127363e-01\n",
      "  -9.27659203e-01 -1.11319104e+00 -1.29872288e+00]\n",
      " [-1.78337472e-01 -3.56674944e-01 -5.35012416e-01 -7.13349888e-01\n",
      "  -8.91687360e-01 -1.07002483e+00 -1.24836230e+00]\n",
      " [-1.71245154e-01 -3.42490309e-01 -5.13735463e-01 -6.84980618e-01\n",
      "  -8.56225772e-01 -1.02747093e+00 -1.19871608e+00]\n",
      " [-1.64252033e-01 -3.28504067e-01 -4.92756100e-01 -6.57008134e-01\n",
      "  -8.21260167e-01 -9.85512201e-01 -1.14976423e+00]\n",
      " [-1.57355372e-01 -3.14710745e-01 -4.72066117e-01 -6.29421490e-01\n",
      "  -7.86776862e-01 -9.44132235e-01 -1.10148761e+00]\n",
      " [-1.50552546e-01 -3.01105093e-01 -4.51657639e-01 -6.02210186e-01\n",
      "  -7.52762732e-01 -9.03315278e-01 -1.05386782e+00]\n",
      " [-1.43841036e-01 -2.87682072e-01 -4.31523109e-01 -5.75364145e-01\n",
      "  -7.19205181e-01 -8.63046217e-01 -1.00688725e+00]\n",
      " [-1.37218423e-01 -2.74436846e-01 -4.11655269e-01 -5.48873691e-01\n",
      "  -6.86092114e-01 -8.23310537e-01 -9.60528960e-01]\n",
      " [-1.30682382e-01 -2.61364764e-01 -3.92047146e-01 -5.22729528e-01\n",
      "  -6.53411910e-01 -7.84094292e-01 -9.14776674e-01]\n",
      " [-1.24230680e-01 -2.48461359e-01 -3.72692039e-01 -4.96922719e-01\n",
      "  -6.21153398e-01 -7.45384078e-01 -8.69614758e-01]\n",
      " [-1.17861167e-01 -2.35722334e-01 -3.53583500e-01 -4.71444667e-01\n",
      "  -5.89305834e-01 -7.07167001e-01 -8.25028167e-01]\n",
      " [-1.11571776e-01 -2.23143551e-01 -3.34715327e-01 -4.46287103e-01\n",
      "  -5.57858878e-01 -6.69430654e-01 -7.81002430e-01]\n",
      " [-1.05360516e-01 -2.10721031e-01 -3.16081547e-01 -4.21442063e-01\n",
      "  -5.26802578e-01 -6.32163094e-01 -7.37523610e-01]\n",
      " [-9.92254694e-02 -1.98450939e-01 -2.97676408e-01 -3.96901877e-01\n",
      "  -4.96127347e-01 -5.95352816e-01 -6.94578286e-01]\n",
      " [-9.31647891e-02 -1.86329578e-01 -2.79494367e-01 -3.72659156e-01\n",
      "  -4.65823945e-01 -5.58988735e-01 -6.52153524e-01]\n",
      " [-8.71766936e-02 -1.74353387e-01 -2.61530081e-01 -3.48706774e-01\n",
      "  -4.35883468e-01 -5.23060161e-01 -6.10236855e-01]\n",
      " [-8.12594647e-02 -1.62518929e-01 -2.43778394e-01 -3.25037859e-01\n",
      "  -4.06297324e-01 -4.87556788e-01 -5.68816253e-01]\n",
      " [-7.54114449e-02 -1.50822890e-01 -2.26234335e-01 -3.01645779e-01\n",
      "  -3.77057224e-01 -4.52468669e-01 -5.27880114e-01]\n",
      " [-6.96310337e-02 -1.39262067e-01 -2.08893101e-01 -2.78524135e-01\n",
      "  -3.48155168e-01 -4.17786202e-01 -4.87417236e-01]\n",
      " [-6.39166858e-02 -1.27833372e-01 -1.91750057e-01 -2.55666743e-01\n",
      "  -3.19583429e-01 -3.83500115e-01 -4.47416800e-01]\n",
      " [-5.82669081e-02 -1.16533816e-01 -1.74800724e-01 -2.33067633e-01\n",
      "  -2.91334541e-01 -3.49601449e-01 -4.07868357e-01]\n",
      " [-5.26802578e-02 -1.05360516e-01 -1.58040773e-01 -2.10721031e-01\n",
      "  -2.63401289e-01 -3.16081547e-01 -3.68761805e-01]\n",
      " [-4.71553397e-02 -9.43106795e-02 -1.41466019e-01 -1.88621359e-01\n",
      "  -2.35776699e-01 -2.82932038e-01 -3.30087378e-01]\n",
      " [-4.16908045e-02 -8.33816089e-02 -1.25072413e-01 -1.66763218e-01\n",
      "  -2.08454022e-01 -2.50144827e-01 -2.91835631e-01]\n",
      " [-3.62853464e-02 -7.25706928e-02 -1.08856039e-01 -1.45141386e-01\n",
      "  -1.81426732e-01 -2.17712079e-01 -2.53997425e-01]\n",
      " [-3.09377019e-02 -6.18754037e-02 -9.28131056e-02 -1.23750807e-01\n",
      "  -1.54688509e-01 -1.85626211e-01 -2.16563913e-01]\n",
      " [-2.56466472e-02 -5.12932944e-02 -7.69399416e-02 -1.02586589e-01\n",
      "  -1.28233236e-01 -1.53879883e-01 -1.79526530e-01]\n",
      " [-2.04109973e-02 -4.08219945e-02 -6.12329918e-02 -8.16439890e-02\n",
      "  -1.02054986e-01 -1.22465984e-01 -1.42876981e-01]\n",
      " [-1.52296037e-02 -3.04592075e-02 -4.56888112e-02 -6.09184150e-02\n",
      "  -7.61480187e-02 -9.13776225e-02 -1.06607226e-01]\n",
      " [-1.01013537e-02 -2.02027073e-02 -3.03040610e-02 -4.04054146e-02\n",
      "  -5.05067683e-02 -6.06081220e-02 -7.07094756e-02]\n",
      " [-5.02516793e-03 -1.00503359e-02 -1.50755038e-02 -2.01006717e-02\n",
      "  -2.51258396e-02 -3.01510076e-02 -3.51761755e-02]]\n"
     ]
    }
   ],
   "source": [
    "# derive the matrix of optimal value function at T\n",
    "V_0_opt_mat = np.max(V_0_cub, axis=2)\n",
    "# draw the expected value function (I drop the first value to make the picture look nice)\n",
    "ax = plt.gca()\n",
    "ax.plot(W_vec[1:], (V_0_opt_mat @ Gamma_vec.reshape(-1, 1))[1:])\n",
    "ax.set_xlabel('W')\n",
    "ax.set_ylabel('Expected value function at T')\n",
    "plt.show()\n",
    "# print the matrix of the value function\n",
    "print('The value function for t = T is: \\n', V_0_opt_mat)"
   ]
  },
  {
   "cell_type": "code",
   "execution_count": 29,
   "metadata": {
    "scrolled": false
   },
   "outputs": [
    {
     "data": {
      "image/png": "[encoded data removed]",
      "text/plain": [
       "<Figure size 432x288 with 1 Axes>"
      ]
     },
     "metadata": {
      "needs_background": "light"
     },
     "output_type": "display_data"
    },
    {
     "name": "stdout",
     "output_type": "stream",
     "text": [
      "The policy function for t = T is: \n",
      " [[0.01 0.01 0.01 0.01 0.01 0.01 0.01]\n",
      " [0.01 0.01 0.01 0.01 0.01 0.01 0.01]\n",
      " [0.01 0.01 0.01 0.01 0.01 0.01 0.01]\n",
      " [0.01 0.01 0.01 0.01 0.01 0.01 0.01]\n",
      " [0.01 0.01 0.01 0.01 0.01 0.01 0.01]\n",
      " [0.01 0.01 0.01 0.01 0.01 0.01 0.01]\n",
      " [0.01 0.01 0.01 0.01 0.01 0.01 0.01]\n",
      " [0.01 0.01 0.01 0.01 0.01 0.01 0.01]\n",
      " [0.01 0.01 0.01 0.01 0.01 0.01 0.01]\n",
      " [0.01 0.01 0.01 0.01 0.01 0.01 0.01]\n",
      " [0.01 0.01 0.01 0.01 0.01 0.01 0.01]\n",
      " [0.01 0.01 0.01 0.01 0.01 0.01 0.01]\n",
      " [0.01 0.01 0.01 0.01 0.01 0.01 0.01]\n",
      " [0.01 0.01 0.01 0.01 0.01 0.01 0.01]\n",
      " [0.01 0.01 0.01 0.01 0.01 0.01 0.01]\n",
      " [0.01 0.01 0.01 0.01 0.01 0.01 0.01]\n",
      " [0.01 0.01 0.01 0.01 0.01 0.01 0.01]\n",
      " [0.01 0.01 0.01 0.01 0.01 0.01 0.01]\n",
      " [0.01 0.01 0.01 0.01 0.01 0.01 0.01]\n",
      " [0.01 0.01 0.01 0.01 0.01 0.01 0.01]\n",
      " [0.01 0.01 0.01 0.01 0.01 0.01 0.01]\n",
      " [0.01 0.01 0.01 0.01 0.01 0.01 0.01]\n",
      " [0.01 0.01 0.01 0.01 0.01 0.01 0.01]\n",
      " [0.01 0.01 0.01 0.01 0.01 0.01 0.01]\n",
      " [0.01 0.01 0.01 0.01 0.01 0.01 0.01]\n",
      " [0.01 0.01 0.01 0.01 0.01 0.01 0.01]\n",
      " [0.01 0.01 0.01 0.01 0.01 0.01 0.01]\n",
      " [0.01 0.01 0.01 0.01 0.01 0.01 0.01]\n",
      " [0.01 0.01 0.01 0.01 0.01 0.01 0.01]\n",
      " [0.01 0.01 0.01 0.01 0.01 0.01 0.01]\n",
      " [0.01 0.01 0.01 0.01 0.01 0.01 0.01]\n",
      " [0.01 0.01 0.01 0.01 0.01 0.01 0.01]\n",
      " [0.01 0.01 0.01 0.01 0.01 0.01 0.01]\n",
      " [0.01 0.01 0.01 0.01 0.01 0.01 0.01]\n",
      " [0.01 0.01 0.01 0.01 0.01 0.01 0.01]\n",
      " [0.01 0.01 0.01 0.01 0.01 0.01 0.01]\n",
      " [0.01 0.01 0.01 0.01 0.01 0.01 0.01]\n",
      " [0.01 0.01 0.01 0.01 0.01 0.01 0.01]\n",
      " [0.01 0.01 0.01 0.01 0.01 0.01 0.01]\n",
      " [0.01 0.01 0.01 0.01 0.01 0.01 0.01]\n",
      " [0.01 0.01 0.01 0.01 0.01 0.01 0.01]\n",
      " [0.01 0.01 0.01 0.01 0.01 0.01 0.01]\n",
      " [0.01 0.01 0.01 0.01 0.01 0.01 0.01]\n",
      " [0.01 0.01 0.01 0.01 0.01 0.01 0.01]\n",
      " [0.01 0.01 0.01 0.01 0.01 0.01 0.01]\n",
      " [0.01 0.01 0.01 0.01 0.01 0.01 0.01]\n",
      " [0.01 0.01 0.01 0.01 0.01 0.01 0.01]\n",
      " [0.01 0.01 0.01 0.01 0.01 0.01 0.01]\n",
      " [0.01 0.01 0.01 0.01 0.01 0.01 0.01]\n",
      " [0.01 0.01 0.01 0.01 0.01 0.01 0.01]\n",
      " [0.01 0.01 0.01 0.01 0.01 0.01 0.01]\n",
      " [0.01 0.01 0.01 0.01 0.01 0.01 0.01]\n",
      " [0.01 0.01 0.01 0.01 0.01 0.01 0.01]\n",
      " [0.01 0.01 0.01 0.01 0.01 0.01 0.01]\n",
      " [0.01 0.01 0.01 0.01 0.01 0.01 0.01]\n",
      " [0.01 0.01 0.01 0.01 0.01 0.01 0.01]\n",
      " [0.01 0.01 0.01 0.01 0.01 0.01 0.01]\n",
      " [0.01 0.01 0.01 0.01 0.01 0.01 0.01]\n",
      " [0.01 0.01 0.01 0.01 0.01 0.01 0.01]\n",
      " [0.01 0.01 0.01 0.01 0.01 0.01 0.01]\n",
      " [0.01 0.01 0.01 0.01 0.01 0.01 0.01]\n",
      " [0.01 0.01 0.01 0.01 0.01 0.01 0.01]\n",
      " [0.01 0.01 0.01 0.01 0.01 0.01 0.01]\n",
      " [0.01 0.01 0.01 0.01 0.01 0.01 0.01]\n",
      " [0.01 0.01 0.01 0.01 0.01 0.01 0.01]\n",
      " [0.01 0.01 0.01 0.01 0.01 0.01 0.01]\n",
      " [0.01 0.01 0.01 0.01 0.01 0.01 0.01]\n",
      " [0.01 0.01 0.01 0.01 0.01 0.01 0.01]\n",
      " [0.01 0.01 0.01 0.01 0.01 0.01 0.01]\n",
      " [0.01 0.01 0.01 0.01 0.01 0.01 0.01]\n",
      " [0.01 0.01 0.01 0.01 0.01 0.01 0.01]\n",
      " [0.01 0.01 0.01 0.01 0.01 0.01 0.01]\n",
      " [0.01 0.01 0.01 0.01 0.01 0.01 0.01]\n",
      " [0.01 0.01 0.01 0.01 0.01 0.01 0.01]\n",
      " [0.01 0.01 0.01 0.01 0.01 0.01 0.01]\n",
      " [0.01 0.01 0.01 0.01 0.01 0.01 0.01]\n",
      " [0.01 0.01 0.01 0.01 0.01 0.01 0.01]\n",
      " [0.01 0.01 0.01 0.01 0.01 0.01 0.01]\n",
      " [0.01 0.01 0.01 0.01 0.01 0.01 0.01]\n",
      " [0.01 0.01 0.01 0.01 0.01 0.01 0.01]\n",
      " [0.01 0.01 0.01 0.01 0.01 0.01 0.01]\n",
      " [0.01 0.01 0.01 0.01 0.01 0.01 0.01]\n",
      " [0.01 0.01 0.01 0.01 0.01 0.01 0.01]\n",
      " [0.01 0.01 0.01 0.01 0.01 0.01 0.01]\n",
      " [0.01 0.01 0.01 0.01 0.01 0.01 0.01]\n",
      " [0.01 0.01 0.01 0.01 0.01 0.01 0.01]\n",
      " [0.01 0.01 0.01 0.01 0.01 0.01 0.01]\n",
      " [0.01 0.01 0.01 0.01 0.01 0.01 0.01]\n",
      " [0.01 0.01 0.01 0.01 0.01 0.01 0.01]\n",
      " [0.01 0.01 0.01 0.01 0.01 0.01 0.01]\n",
      " [0.01 0.01 0.01 0.01 0.01 0.01 0.01]\n",
      " [0.01 0.01 0.01 0.01 0.01 0.01 0.01]\n",
      " [0.01 0.01 0.01 0.01 0.01 0.01 0.01]\n",
      " [0.01 0.01 0.01 0.01 0.01 0.01 0.01]\n",
      " [0.01 0.01 0.01 0.01 0.01 0.01 0.01]\n",
      " [0.01 0.01 0.01 0.01 0.01 0.01 0.01]\n",
      " [0.01 0.01 0.01 0.01 0.01 0.01 0.01]\n",
      " [0.01 0.01 0.01 0.01 0.01 0.01 0.01]\n",
      " [0.01 0.01 0.01 0.01 0.01 0.01 0.01]\n",
      " [0.01 0.01 0.01 0.01 0.01 0.01 0.01]]\n"
     ]
    }
   ],
   "source": [
    "# derive the matrix of policy function at T\n",
    "index_max_0 = np.argmax(V_0_cub, axis=2)\n",
    "psi_0_opt_mat = np.zeros((N, M), dtype='float')\n",
    "for i in range(M):\n",
    "    psi_0_opt_mat[:, i] = W_vec[index_max_0[:, i]]\n",
    "# draw the expected policy function \n",
    "ax = plt.gca()\n",
    "ax.plot(W_vec, psi_0_opt_mat @ Gamma_vec.reshape(-1, 1))\n",
    "ax.set_xlabel('W')\n",
    "ax.set_ylabel('Expected policy function at T')\n",
    "plt.show()\n",
    "# print the column of the value function\n",
    "print('The policy function for t = T is: \\n', psi_0_opt_mat)"
   ]
  },
  {
   "cell_type": "markdown",
   "metadata": {},
   "source": [
    "### Ex 18"
   ]
  },
  {
   "cell_type": "code",
   "execution_count": 30,
   "metadata": {},
   "outputs": [
    {
     "data": {
      "text/plain": [
       "5.6700000580251445e+20"
      ]
     },
     "execution_count": 30,
     "metadata": {},
     "output_type": "execute_result"
    }
   ],
   "source": [
    "delta_0 = ((V_0_opt_mat - V_1_mat) ** 2).sum()\n",
    "delta_0"
   ]
  },
  {
   "cell_type": "markdown",
   "metadata": {},
   "source": [
    "$\\delta_T$ is relatively large because the utility function for $W = 0.01, \\forall \\ \\epsilon, W'$ is replaced by a small number in order to avoid $W - W' = 0$. If not, we cannot calculate $u(c) = \\ln(c)$. However, the square of that small number is large."
   ]
  },
  {
   "cell_type": "markdown",
   "metadata": {},
   "source": [
    "### Ex 19"
   ]
  },
  {
   "cell_type": "code",
   "execution_count": 31,
   "metadata": {},
   "outputs": [],
   "source": [
    "# generate the expected value function at T and reshape it into 1 * 1 * N\n",
    "E_V_0_vec = (V_0_opt_mat @ Gamma_vec.reshape(-1, 1)).reshape(1, 1, N)\n",
    "# copy the expected value funtion so that it forms a N * M * N cube\n",
    "E_V_0_cub = np.tile(E_V_0_vec, (N, M ,1))\n",
    "# replace the nonpositive W - W' to -1e10\n",
    "E_V_0_cub[c_neg] = -1e10"
   ]
  },
  {
   "cell_type": "code",
   "execution_count": 32,
   "metadata": {},
   "outputs": [],
   "source": [
    "# generate the cube of value function at T - 1\n",
    "V_minus1_cub = u_cub + beta * E_V_0_cub"
   ]
  },
  {
   "cell_type": "code",
   "execution_count": 33,
   "metadata": {
    "scrolled": false
   },
   "outputs": [
    {
     "data": {
      "image/png": "[encoded data removed]",
      "text/plain": [
       "<Figure size 432x288 with 1 Axes>"
      ]
     },
     "metadata": {
      "needs_background": "light"
     },
     "output_type": "display_data"
    },
    {
     "name": "stdout",
     "output_type": "stream",
     "text": [
      "The value function for t = T - 1 is: \n",
      " [[-9.00000001e+09 -9.00000002e+09 -9.00000003e+09 -9.00000005e+09\n",
      "  -9.00000006e+09 -9.00000007e+09 -9.00000008e+09]\n",
      " [-8.10000004e+09 -8.10000005e+09 -8.10000005e+09 -8.10000005e+09\n",
      "  -8.10000005e+09 -8.10000006e+09 -8.10000006e+09]\n",
      " [-1.05918914e+01 -1.28944765e+01 -1.51970616e+01 -1.74996467e+01\n",
      "  -1.98022318e+01 -2.21048169e+01 -2.44074020e+01]\n",
      " [-9.34422650e+00 -1.16468116e+01 -1.39493967e+01 -1.61133523e+01\n",
      "  -1.80693638e+01 -2.00253754e+01 -2.19813869e+01]\n",
      " [-8.61438931e+00 -1.09169744e+01 -1.29096759e+01 -1.48656874e+01\n",
      "  -1.68216989e+01 -1.87777104e+01 -2.05622590e+01]\n",
      " [-8.09656158e+00 -1.02238272e+01 -1.21798387e+01 -1.40547572e+01\n",
      "  -1.58080362e+01 -1.75613151e+01 -1.93145941e+01]\n",
      " [-7.69490319e+00 -9.70599949e+00 -1.15716411e+01 -1.33249200e+01\n",
      "  -1.50781990e+01 -1.66982689e+01 -1.83077068e+01]\n",
      " [-7.34832960e+00 -9.30053438e+00 -1.10538133e+01 -1.27495559e+01\n",
      "  -1.43589938e+01 -1.59684317e+01 -1.75267044e+01]\n",
      " [-7.02015079e+00 -8.89887599e+00 -1.06222902e+01 -1.22317281e+01\n",
      "  -1.38011349e+01 -1.52990010e+01 -1.67968672e+01]\n",
      " [-6.74267957e+00 -8.57069719e+00 -1.02206318e+01 -1.17854410e+01\n",
      "  -1.32833072e+01 -1.47520364e+01 -1.61587417e+01]\n",
      " [-6.50232306e+00 -8.28301512e+00 -9.88591650e+00 -1.13837826e+01\n",
      "  -1.28275033e+01 -1.42342086e+01 -1.56192143e+01]\n",
      " [-6.29031360e+00 -8.00554389e+00 -9.55773770e+00 -1.10191395e+01\n",
      "  -1.24258449e+01 -1.37717566e+01 -1.51013866e+01]\n",
      " [-6.08758104e+00 -7.76518738e+00 -9.28026648e+00 -1.06909607e+01\n",
      "  -1.20404682e+01 -1.33700982e+01 -1.46340267e+01]\n",
      " [-5.89793212e+00 -7.54204383e+00 -9.00678414e+00 -1.03826594e+01\n",
      "  -1.17066397e+01 -1.29695040e+01 -1.42217861e+01]\n",
      " [-5.72637379e+00 -7.33003437e+00 -8.76642763e+00 -1.01051881e+01\n",
      "  -1.13784609e+01 -1.26161549e+01 -1.38201277e+01]\n",
      " [-5.56975331e+00 -7.14038544e+00 -8.53520162e+00 -9.83812536e+00\n",
      "  -1.10840033e+01 -1.22879761e+01 -1.34513659e+01]\n",
      " [-5.42567644e+00 -6.95806388e+00 -8.32319215e+00 -9.59776885e+00\n",
      "  -1.08065321e+01 -1.19718946e+01 -1.31177803e+01]\n",
      " [-5.28183540e+00 -6.78650556e+00 -8.12289506e+00 -9.36220278e+00\n",
      "  -1.05431308e+01 -1.16859640e+01 -1.27896015e+01]\n",
      " [-5.14844105e+00 -6.62988508e+00 -7.93324613e+00 -9.15019331e+00\n",
      "  -1.03027743e+01 -1.14084928e+01 -1.24850617e+01]\n",
      " [-5.02425389e+00 -6.47573440e+00 -7.75657158e+00 -8.93947228e+00\n",
      "  -1.00644988e+01 -1.11474587e+01 -1.22049122e+01]\n",
      " [-4.90808455e+00 -6.33165753e+00 -7.58501326e+00 -8.74885192e+00\n",
      "  -9.84697040e+00 -1.09071022e+01 -1.19274410e+01]\n",
      " [-4.79651277e+00 -6.19812614e+00 -7.42697248e+00 -8.55920299e+00\n",
      "  -9.63496094e+00 -1.06669740e+01 -1.16680631e+01]\n",
      " [-4.68738845e+00 -6.06473179e+00 -7.27035200e+00 -8.38518024e+00\n",
      "  -9.43485417e+00 -1.04446501e+01 -1.14265880e+01]\n",
      " [-4.58450331e+00 -5.94054462e+00 -7.12627513e+00 -8.21362192e+00\n",
      "  -9.24520524e+00 -1.02326407e+01 -1.11862315e+01]\n",
      " [-4.48718231e+00 -5.82276158e+00 -6.98330986e+00 -8.05353650e+00\n",
      "  -9.05993531e+00 -1.00256621e+01 -1.09603467e+01]\n",
      " [-4.39485438e+00 -5.70659224e+00 -6.84991551e+00 -7.89691602e+00\n",
      "  -8.88745313e+00 -9.83204649e+00 -1.07481605e+01]\n",
      " [-4.30369360e+00 -5.59746792e+00 -6.71939845e+00 -7.74870008e+00\n",
      "  -8.71589481e+00 -9.64239756e+00 -1.05361510e+01]\n",
      " [-4.21587131e+00 -5.49210741e+00 -6.59521128e+00 -7.60462320e+00\n",
      "  -8.55454850e+00 -9.46052369e+00 -1.03360966e+01]\n",
      " [-4.13213528e+00 -5.38922226e+00 -6.47514722e+00 -7.46663746e+00\n",
      "  -8.39792802e+00 -9.28896537e+00 -1.01464477e+01]\n",
      " [-4.05212210e+00 -5.29190127e+00 -6.35897788e+00 -7.33324311e+00\n",
      "  -8.24636647e+00 -9.11749013e+00 -9.95721239e+00]\n",
      " [-3.97504676e+00 -5.19659109e+00 -6.24781592e+00 -7.20416607e+00\n",
      "  -8.10228960e+00 -8.95528846e+00 -9.77768586e+00]\n",
      " [-3.89843946e+00 -5.10426316e+00 -6.13869160e+00 -7.07997890e+00\n",
      "  -7.95939356e+00 -8.79866799e+00 -9.60612754e+00]\n",
      " [-3.82495987e+00 -5.01644086e+00 -6.03520229e+00 -6.95872966e+00\n",
      "  -7.82422551e+00 -8.64478810e+00 -9.43536196e+00]\n",
      " [-3.75436258e+00 -4.92942948e+00 -5.93231715e+00 -6.84256032e+00\n",
      "  -7.69083116e+00 -8.49841761e+00 -9.27254191e+00]\n",
      " [-3.68642999e+00 -4.84569345e+00 -5.83499615e+00 -6.72824349e+00\n",
      "  -7.56259792e+00 -8.35434074e+00 -9.11592143e+00]\n",
      " [-3.61966430e+00 -4.76565075e+00 -5.73818837e+00 -6.61911917e+00\n",
      "  -7.43841075e+00 -8.21478069e+00 -8.96034026e+00]\n",
      " [-3.55420254e+00 -4.68563757e+00 -5.64586044e+00 -6.51098473e+00\n",
      "  -7.31643534e+00 -8.08138634e+00 -8.81138161e+00]\n",
      " [-3.49103816e+00 -4.60903027e+00 -5.55492351e+00 -6.40809958e+00\n",
      "  -7.20013530e+00 -7.94803105e+00 -8.66730474e+00]\n",
      " [-3.43001537e+00 -4.53492230e+00 -5.46710121e+00 -6.30551300e+00\n",
      "  -7.08396597e+00 -7.82035221e+00 -8.52442776e+00]\n",
      " [-3.37099369e+00 -4.46144271e+00 -5.38136359e+00 -6.20793267e+00\n",
      "  -6.97283656e+00 -7.69616504e+00 -8.38715526e+00]\n",
      " [-3.31210217e+00 -4.39084542e+00 -5.29762756e+00 -6.11061167e+00\n",
      "  -6.86371224e+00 -7.57369906e+00 -8.25376091e+00]\n",
      " [-3.25495451e+00 -4.32185255e+00 -5.21652673e+00 -6.01757164e+00\n",
      "  -6.75731320e+00 -7.45603692e+00 -8.12166976e+00]\n",
      " [-3.19956553e+00 -4.25391996e+00 -5.13651356e+00 -5.92524371e+00\n",
      "  -6.65442806e+00 -7.33986758e+00 -7.99438301e+00]\n",
      " [-3.14583019e+00 -4.18845820e+00 -5.05957361e+00 -5.83634018e+00\n",
      "  -6.55237307e+00 -7.22664659e+00 -7.87019584e+00]\n",
      " [-3.09314994e+00 -4.12391968e+00 -4.98296631e+00 -5.74851789e+00\n",
      "  -6.45432129e+00 -7.11752228e+00 -7.74737622e+00]\n",
      " [-3.04097237e+00 -4.06075530e+00 -4.90948672e+00 -5.66339866e+00\n",
      "  -6.35700029e+00 -7.00841934e+00 -7.62872079e+00]\n",
      " [-2.99026479e+00 -3.99973251e+00 -4.83630147e+00 -5.57966263e+00\n",
      "  -6.26264947e+00 -6.90314538e+00 -7.51255145e+00]\n",
      " [-2.94094664e+00 -3.93910789e+00 -4.76570419e+00 -5.49801864e+00\n",
      "  -6.17032154e+00 -6.80026024e+00 -7.39778707e+00]\n",
      " [-2.89294379e+00 -3.88008621e+00 -4.69592417e+00 -5.41800547e+00\n",
      "  -6.07940243e+00 -6.69855558e+00 -7.28666663e+00]\n",
      " [-2.84528870e+00 -3.82292779e+00 -4.62799157e+00 -5.33956404e+00\n",
      "  -5.99158014e+00 -6.60018612e+00 -7.17754231e+00]\n",
      " [-2.79853283e+00 -3.76578014e+00 -4.56131393e+00 -5.26295674e+00\n",
      "  -5.90385184e+00 -6.50286512e+00 -7.06984150e+00]\n",
      " [-2.75296077e+00 -3.71039115e+00 -4.49585217e+00 -5.18747608e+00\n",
      "  -5.81909796e+00 -6.40761902e+00 -6.96535613e+00]\n",
      " [-2.70851407e+00 -3.65632393e+00 -4.43201275e+00 -5.11399649e+00\n",
      "  -5.73536193e+00 -6.31529109e+00 -6.86247099e+00]\n",
      " [-2.66500838e+00 -3.60258860e+00 -4.36884837e+00 -5.04126120e+00\n",
      "  -5.65338737e+00 -6.22297612e+00 -6.76101461e+00]\n",
      " [-2.62163279e+00 -3.55041103e+00 -4.30761538e+00 -4.97066392e+00\n",
      "  -5.57337420e+00 -6.13341723e+00 -6.66241654e+00]\n",
      " [-2.57927789e+00 -3.49911774e+00 -4.24659259e+00 -4.90048128e+00\n",
      "  -5.49400245e+00 -6.04559493e+00 -6.56509554e+00]\n",
      " [-2.53789676e+00 -3.44841016e+00 -4.18757091e+00 -4.83254869e+00\n",
      "  -5.41707331e+00 -5.95863232e+00 -6.46919913e+00]\n",
      " [-2.49744562e+00 -3.39909200e+00 -4.12873984e+00 -4.76474558e+00\n",
      "  -5.34046600e+00 -5.87411969e+00 -6.37586026e+00]\n",
      " [-2.45742427e+00 -3.35030184e+00 -4.07159218e+00 -4.69916594e+00\n",
      "  -5.26583359e+00 -5.79038366e+00 -6.28353233e+00]\n",
      " [-2.41786224e+00 -3.30229900e+00 -4.01498169e+00 -4.63370418e+00\n",
      "  -5.19235400e+00 -5.70818674e+00 -6.19261813e+00]\n",
      " [-2.37915107e+00 -3.25554312e+00 -3.95959270e+00 -4.57020678e+00\n",
      "  -5.11988516e+00 -5.62817357e+00 -6.10400580e+00]\n",
      " [-2.34125493e+00 -3.20902310e+00 -3.90504124e+00 -4.50704241e+00\n",
      "  -5.04928788e+00 -5.54816882e+00 -6.01618351e+00]\n",
      " [-2.30414021e+00 -3.16345105e+00 -3.85130590e+00 -4.44549909e+00\n",
      "  -4.97886069e+00 -5.47024237e+00 -5.92975936e+00]\n",
      " [-2.26708623e+00 -3.11899929e+00 -3.79866892e+00 -4.38447630e+00\n",
      "  -4.91036325e+00 -5.39363506e+00 -5.84541793e+00]\n",
      " [-2.23072135e+00 -3.07455258e+00 -3.74649136e+00 -4.32477037e+00\n",
      "  -4.84243066e+00 -5.31768164e+00 -5.76168191e+00]\n",
      " [-2.19507662e+00 -3.03117699e+00 -3.69563903e+00 -4.26574869e+00\n",
      "  -4.77576004e+00 -5.24360380e+00 -5.67932516e+00]\n",
      " [-2.16012407e+00 -2.98861738e+00 -3.64493145e+00 -4.20777362e+00\n",
      "  -4.71029828e+00 -5.17012421e+00 -5.59886185e+00]\n",
      " [-2.12562763e+00 -2.94626248e+00 -3.59561330e+00 -4.15062596e+00\n",
      "  -4.64535957e+00 -5.09783155e+00 -5.51884868e+00]\n",
      " [-2.09134088e+00 -2.90488135e+00 -3.54642856e+00 -4.09428420e+00\n",
      "  -4.58206505e+00 -5.02723427e+00 -5.44019368e+00]\n",
      " [-2.05769504e+00 -2.86405935e+00 -3.49842572e+00 -4.03889522e+00\n",
      "  -4.51890067e+00 -4.95664278e+00 -5.36326751e+00]\n",
      " [-2.02466659e+00 -2.82360821e+00 -3.45080267e+00 -3.98409727e+00\n",
      "  -4.45716914e+00 -4.88767422e+00 -5.28666020e+00]\n",
      " [-1.99223328e+00 -2.78404618e+00 -3.40404680e+00 -3.93036194e+00\n",
      "  -4.39614635e+00 -4.81974163e+00 -5.21138849e+00]\n",
      " [-1.95996402e+00 -2.74482547e+00 -3.35788931e+00 -3.87702544e+00\n",
      "  -4.33590247e+00 -4.75232306e+00 -5.13770155e+00]\n",
      " [-1.92810478e+00 -2.70611430e+00 -3.31231725e+00 -3.82484788e+00\n",
      "  -4.27688079e+00 -4.68638634e+00 -5.06422196e+00]\n",
      " [-1.89679965e+00 -2.66821816e+00 -3.26753781e+00 -3.77289690e+00\n",
      "  -4.21805454e+00 -4.62092458e+00 -4.99205446e+00]\n",
      " [-1.86602967e+00 -2.63047784e+00 -3.22309111e+00 -3.72218933e+00\n",
      "  -4.16058075e+00 -4.55640597e+00 -4.92134498e+00]\n",
      " [-1.83571736e+00 -2.59336312e+00 -3.17960980e+00 -3.67155371e+00\n",
      "  -4.10343309e+00 -4.49324159e+00 -4.85074770e+00]\n",
      " [-1.80546454e+00 -2.55699547e+00 -3.13623421e+00 -3.62216848e+00\n",
      "  -4.04725095e+00 -4.43008137e+00 -4.78143850e+00]\n",
      " [-1.77571180e+00 -2.52063060e+00 -3.09387931e+00 -3.57285033e+00\n",
      "  -3.99186196e+00 -4.36822350e+00 -4.71347520e+00]\n",
      " [-1.74644286e+00 -2.48498587e+00 -3.05162300e+00 -3.52465523e+00\n",
      "  -3.93691470e+00 -4.30720071e+00 -4.64554261e+00]\n",
      " [-1.71764225e+00 -2.44989455e+00 -3.01024187e+00 -3.47665238e+00\n",
      "  -3.88314918e+00 -4.24659259e+00 -4.57887393e+00]\n",
      " [-1.68906304e+00 -2.41494200e+00 -2.96914340e+00 -3.42959139e+00\n",
      "  -3.82941385e+00 -4.18718471e+00 -4.51341217e+00]\n",
      " [-1.66071600e+00 -2.38065525e+00 -2.92869226e+00 -3.38283551e+00\n",
      "  -3.77678033e+00 -4.12816303e+00 -4.44798970e+00]\n",
      " [-1.63280846e+00 -2.34675369e+00 -2.88868989e+00 -3.33685648e+00\n",
      "  -3.72460276e+00 -4.06990877e+00 -4.38376772e+00]\n",
      " [-1.60532701e+00 -2.31310786e+00 -2.84912786e+00 -3.29128442e+00\n",
      "  -3.67305454e+00 -4.01276111e+00 -4.32060334e+00]\n",
      " [-1.57825883e+00 -2.28007941e+00 -2.81016463e+00 -3.24633871e+00\n",
      "  -3.62234697e+00 -3.95561653e+00 -4.25753857e+00]\n",
      " [-1.55122522e+00 -2.24728958e+00 -2.77145346e+00 -3.20189201e+00\n",
      "  -3.57184020e+00 -3.89954013e+00 -4.19559005e+00]\n",
      " [-1.52455807e+00 -2.21485627e+00 -2.73347675e+00 -3.15793419e+00\n",
      "  -3.52233363e+00 -3.84415114e+00 -4.13456726e+00]\n",
      " [-1.49828023e+00 -2.18299703e+00 -2.69558061e+00 -3.11455860e+00\n",
      "  -3.47301548e+00 -3.78910373e+00 -4.07369616e+00]\n",
      " [-1.47238050e+00 -2.15124834e+00 -2.65846590e+00 -3.07154619e+00\n",
      "  -3.42447026e+00 -3.73504821e+00 -4.01386565e+00]\n",
      " [-1.44673386e+00 -2.11994320e+00 -2.62142698e+00 -3.02919130e+00\n",
      "  -3.37646742e+00 -3.68131288e+00 -3.95484396e+00]\n",
      " [-1.42120151e+00 -2.08917154e+00 -2.58506210e+00 -2.98708448e+00\n",
      "  -3.32884693e+00 -3.62821414e+00 -3.89601905e+00]\n",
      " [-1.39602628e+00 -2.05840156e+00 -2.54891578e+00 -2.94570334e+00\n",
      "  -3.28209105e+00 -3.57603658e+00 -3.83816649e+00]\n",
      " [-1.37119830e+00 -2.02814875e+00 -2.51327105e+00 -2.90446477e+00\n",
      "  -3.23536072e+00 -3.52386135e+00 -3.78101884e+00]\n",
      " [-1.34670812e+00 -1.99829578e+00 -2.47797530e+00 -2.86401363e+00\n",
      "  -3.18948787e+00 -3.47257805e+00 -3.72410701e+00]\n",
      " [-1.32231304e+00 -1.96854304e+00 -2.44302275e+00 -2.82360821e+00\n",
      "  -3.14391582e+00 -3.42187047e+00 -3.66810582e+00]\n",
      " [-1.29815160e+00 -1.93927410e+00 -2.40853847e+00 -2.78400296e+00\n",
      "  -3.09886956e+00 -3.37144912e+00 -3.61271683e+00]\n",
      " [-1.27431020e+00 -1.91028657e+00 -2.37425172e+00 -2.74444093e+00\n",
      "  -3.05442285e+00 -3.32186121e+00 -3.55759758e+00]\n",
      " [-1.25078045e+00 -1.88148595e+00 -2.34054243e+00 -2.70560476e+00\n",
      "  -3.01017391e+00 -3.27254306e+00 -3.50333293e+00]\n",
      " [-1.22752044e+00 -1.85313891e+00 -2.30689660e+00 -2.66689359e+00\n",
      "  -2.96669455e+00 -3.22376149e+00 -3.44959760e+00]]\n"
     ]
    }
   ],
   "source": [
    "# derive the matrix of optimal value function at T - 1\n",
    "V_minus1_opt_mat = np.max(V_minus1_cub, axis=2)\n",
    "# draw the expected value function (I drop the first two values to make the picture look nice)\n",
    "ax = plt.gca()\n",
    "ax.plot(W_vec[2:], (V_minus1_opt_mat @ Gamma_vec.reshape(-1, 1))[2:])\n",
    "ax.set_xlabel('W')\n",
    "ax.set_ylabel('Expected value function at T - 1')\n",
    "plt.show()\n",
    "# print the matrix of the value function\n",
    "print('The value function for t = T - 1 is: \\n', V_minus1_opt_mat)"
   ]
  },
  {
   "cell_type": "code",
   "execution_count": 34,
   "metadata": {
    "scrolled": false
   },
   "outputs": [
    {
     "data": {
      "image/png": "[encoded data removed]",
      "text/plain": [
       "<Figure size 432x288 with 1 Axes>"
      ]
     },
     "metadata": {
      "needs_background": "light"
     },
     "output_type": "display_data"
    },
    {
     "name": "stdout",
     "output_type": "stream",
     "text": [
      "The policy function for t = T - 1 is: \n",
      " [[0.01 0.01 0.01 0.01 0.01 0.01 0.01]\n",
      " [0.01 0.01 0.01 0.01 0.01 0.01 0.01]\n",
      " [0.02 0.02 0.02 0.02 0.02 0.02 0.02]\n",
      " [0.03 0.03 0.03 0.02 0.02 0.02 0.02]\n",
      " [0.04 0.04 0.03 0.03 0.03 0.03 0.02]\n",
      " [0.05 0.04 0.04 0.03 0.03 0.03 0.03]\n",
      " [0.06 0.05 0.04 0.04 0.04 0.03 0.03]\n",
      " [0.06 0.05 0.05 0.04 0.04 0.04 0.03]\n",
      " [0.07 0.06 0.05 0.05 0.04 0.04 0.04]\n",
      " [0.08 0.07 0.06 0.05 0.05 0.04 0.04]\n",
      " [0.09 0.07 0.06 0.06 0.05 0.05 0.04]\n",
      " [0.1  0.08 0.07 0.06 0.06 0.05 0.05]\n",
      " [0.1  0.09 0.08 0.07 0.06 0.06 0.05]\n",
      " [0.11 0.09 0.08 0.07 0.06 0.06 0.05]\n",
      " [0.12 0.1  0.09 0.08 0.07 0.06 0.06]\n",
      " [0.13 0.11 0.09 0.08 0.07 0.07 0.06]\n",
      " [0.14 0.11 0.1  0.09 0.08 0.07 0.06]\n",
      " [0.14 0.12 0.1  0.09 0.08 0.07 0.07]\n",
      " [0.15 0.13 0.11 0.1  0.09 0.08 0.07]\n",
      " [0.16 0.13 0.11 0.1  0.09 0.08 0.07]\n",
      " [0.17 0.14 0.12 0.1  0.09 0.09 0.08]\n",
      " [0.17 0.14 0.12 0.11 0.1  0.09 0.08]\n",
      " [0.18 0.15 0.13 0.11 0.1  0.09 0.08]\n",
      " [0.19 0.16 0.14 0.12 0.11 0.1  0.09]\n",
      " [0.2  0.16 0.14 0.12 0.11 0.1  0.09]\n",
      " [0.21 0.17 0.15 0.13 0.11 0.1  0.09]\n",
      " [0.21 0.18 0.15 0.13 0.12 0.11 0.1 ]\n",
      " [0.22 0.18 0.16 0.14 0.12 0.11 0.1 ]\n",
      " [0.23 0.19 0.16 0.14 0.13 0.12 0.11]\n",
      " [0.24 0.2  0.17 0.15 0.13 0.12 0.11]\n",
      " [0.24 0.2  0.17 0.15 0.14 0.12 0.11]\n",
      " [0.25 0.21 0.18 0.16 0.14 0.13 0.12]\n",
      " [0.26 0.22 0.18 0.16 0.14 0.13 0.12]\n",
      " [0.27 0.22 0.19 0.17 0.15 0.13 0.12]\n",
      " [0.28 0.23 0.2  0.17 0.15 0.14 0.13]\n",
      " [0.28 0.23 0.2  0.18 0.16 0.14 0.13]\n",
      " [0.29 0.24 0.21 0.18 0.16 0.15 0.13]\n",
      " [0.3  0.25 0.21 0.19 0.16 0.15 0.14]\n",
      " [0.31 0.25 0.22 0.19 0.17 0.15 0.14]\n",
      " [0.32 0.26 0.22 0.19 0.17 0.16 0.14]\n",
      " [0.32 0.27 0.23 0.2  0.18 0.16 0.15]\n",
      " [0.33 0.27 0.23 0.2  0.18 0.16 0.15]\n",
      " [0.34 0.28 0.24 0.21 0.19 0.17 0.15]\n",
      " [0.35 0.29 0.24 0.21 0.19 0.17 0.16]\n",
      " [0.35 0.29 0.25 0.22 0.19 0.18 0.16]\n",
      " [0.36 0.3  0.26 0.22 0.2  0.18 0.16]\n",
      " [0.37 0.31 0.26 0.23 0.2  0.18 0.17]\n",
      " [0.38 0.31 0.27 0.23 0.21 0.19 0.17]\n",
      " [0.39 0.32 0.27 0.24 0.21 0.19 0.17]\n",
      " [0.39 0.32 0.28 0.24 0.22 0.19 0.18]\n",
      " [0.4  0.33 0.28 0.25 0.22 0.2  0.18]\n",
      " [0.41 0.34 0.29 0.25 0.22 0.2  0.18]\n",
      " [0.42 0.34 0.29 0.26 0.23 0.21 0.19]\n",
      " [0.42 0.35 0.3  0.26 0.23 0.21 0.19]\n",
      " [0.43 0.36 0.3  0.27 0.24 0.21 0.19]\n",
      " [0.44 0.36 0.31 0.27 0.24 0.22 0.2 ]\n",
      " [0.45 0.37 0.32 0.28 0.24 0.22 0.2 ]\n",
      " [0.46 0.38 0.32 0.28 0.25 0.22 0.2 ]\n",
      " [0.46 0.38 0.33 0.28 0.25 0.23 0.21]\n",
      " [0.47 0.39 0.33 0.29 0.26 0.23 0.21]\n",
      " [0.48 0.4  0.34 0.29 0.26 0.24 0.21]\n",
      " [0.49 0.4  0.34 0.3  0.27 0.24 0.22]\n",
      " [0.5  0.41 0.35 0.3  0.27 0.24 0.22]\n",
      " [0.5  0.41 0.35 0.31 0.27 0.25 0.22]\n",
      " [0.51 0.42 0.36 0.31 0.28 0.25 0.23]\n",
      " [0.52 0.43 0.36 0.32 0.28 0.25 0.23]\n",
      " [0.53 0.43 0.37 0.32 0.29 0.26 0.23]\n",
      " [0.53 0.44 0.38 0.33 0.29 0.26 0.24]\n",
      " [0.54 0.45 0.38 0.33 0.29 0.27 0.24]\n",
      " [0.55 0.45 0.39 0.34 0.3  0.27 0.24]\n",
      " [0.56 0.46 0.39 0.34 0.3  0.27 0.25]\n",
      " [0.57 0.47 0.4  0.35 0.31 0.28 0.25]\n",
      " [0.57 0.47 0.4  0.35 0.31 0.28 0.25]\n",
      " [0.58 0.48 0.41 0.36 0.32 0.28 0.26]\n",
      " [0.59 0.49 0.41 0.36 0.32 0.29 0.26]\n",
      " [0.6  0.49 0.42 0.37 0.32 0.29 0.26]\n",
      " [0.6  0.5  0.42 0.37 0.33 0.3  0.27]\n",
      " [0.61 0.5  0.43 0.37 0.33 0.3  0.27]\n",
      " [0.62 0.51 0.44 0.38 0.34 0.3  0.27]\n",
      " [0.63 0.52 0.44 0.38 0.34 0.31 0.28]\n",
      " [0.64 0.52 0.45 0.39 0.34 0.31 0.28]\n",
      " [0.64 0.53 0.45 0.39 0.35 0.31 0.29]\n",
      " [0.65 0.54 0.46 0.4  0.35 0.32 0.29]\n",
      " [0.66 0.54 0.46 0.4  0.36 0.32 0.29]\n",
      " [0.67 0.55 0.47 0.41 0.36 0.33 0.3 ]\n",
      " [0.68 0.56 0.47 0.41 0.37 0.33 0.3 ]\n",
      " [0.68 0.56 0.48 0.42 0.37 0.33 0.3 ]\n",
      " [0.69 0.57 0.48 0.42 0.37 0.34 0.31]\n",
      " [0.7  0.58 0.49 0.43 0.38 0.34 0.31]\n",
      " [0.71 0.58 0.5  0.43 0.38 0.34 0.31]\n",
      " [0.71 0.59 0.5  0.44 0.39 0.35 0.32]\n",
      " [0.72 0.59 0.51 0.44 0.39 0.35 0.32]\n",
      " [0.73 0.6  0.51 0.45 0.4  0.36 0.32]\n",
      " [0.74 0.61 0.52 0.45 0.4  0.36 0.33]\n",
      " [0.75 0.61 0.52 0.46 0.4  0.36 0.33]\n",
      " [0.75 0.62 0.53 0.46 0.41 0.37 0.33]\n",
      " [0.76 0.63 0.53 0.46 0.41 0.37 0.34]\n",
      " [0.77 0.63 0.54 0.47 0.42 0.37 0.34]\n",
      " [0.78 0.64 0.54 0.47 0.42 0.38 0.34]\n",
      " [0.78 0.65 0.55 0.48 0.42 0.38 0.35]]\n"
     ]
    }
   ],
   "source": [
    "# derive the matrix of policy function at T - 1\n",
    "index_max_minus1 = np.argmax(V_minus1_cub, axis=2)\n",
    "psi_minus1_opt_mat = np.zeros((N, M), dtype='float')\n",
    "for i in range(M):\n",
    "    psi_minus1_opt_mat[:, i] = W_vec[index_max_minus1[:, i]]\n",
    "# draw the expected policy function \n",
    "ax = plt.gca()\n",
    "ax.plot(W_vec, psi_minus1_opt_mat @ Gamma_vec.reshape(-1, 1))\n",
    "ax.set_xlabel('W')\n",
    "ax.set_ylabel('Expected policy function at T - 1')\n",
    "plt.show()\n",
    "# print the column of the value function\n",
    "print('The policy function for t = T - 1 is: \\n', psi_minus1_opt_mat)"
   ]
  },
  {
   "cell_type": "code",
   "execution_count": 35,
   "metadata": {},
   "outputs": [
    {
     "data": {
      "text/plain": [
       "4.592700047000368e+20"
      ]
     },
     "execution_count": 35,
     "metadata": {},
     "output_type": "execute_result"
    }
   ],
   "source": [
    "# calculate the distance between V_{T - 1} and V_{T}\n",
    "delta_minus1 = ((V_minus1_opt_mat - V_0_opt_mat) ** 2).sum()\n",
    "delta_minus1"
   ]
  },
  {
   "cell_type": "markdown",
   "metadata": {},
   "source": [
    "$\\delta_{T - 1}$ is becoming smaller compared to $\\delta_{T}$, which is a sign of convergence."
   ]
  },
  {
   "cell_type": "markdown",
   "metadata": {},
   "source": [
    "### Ex 20"
   ]
  },
  {
   "cell_type": "code",
   "execution_count": 36,
   "metadata": {},
   "outputs": [],
   "source": [
    "# generate the expected value function at T - 1 and reshape it into 1 * 1 * N\n",
    "E_V_minus1_vec = (V_minus1_opt_mat @ Gamma_vec.reshape(-1, 1)).reshape(1, 1, N)\n",
    "# copy the expected value funtion so that it forms a N * M * N cube\n",
    "E_V_minus1_cub = np.tile(E_V_minus1_vec, (N, M ,1))\n",
    "# replace the nonpositive W - W' to -1e10\n",
    "E_V_minus1_cub[c_neg] = -1e10"
   ]
  },
  {
   "cell_type": "code",
   "execution_count": 37,
   "metadata": {},
   "outputs": [],
   "source": [
    "# generate the cube of value function at T - 2\n",
    "V_minus2_cub = u_cub + beta * E_V_minus1_cub"
   ]
  },
  {
   "cell_type": "code",
   "execution_count": 38,
   "metadata": {
    "scrolled": false
   },
   "outputs": [
    {
     "data": {
      "image/png": "[encoded data removed]",
      "text/plain": [
       "<Figure size 432x288 with 1 Axes>"
      ]
     },
     "metadata": {
      "needs_background": "light"
     },
     "output_type": "display_data"
    },
    {
     "name": "stdout",
     "output_type": "stream",
     "text": [
      "The value function for t = T - 2 is: \n",
      " [[-9.00000001e+09 -9.00000002e+09 -9.00000003e+09 -9.00000005e+09\n",
      "  -9.00000006e+09 -9.00000007e+09 -9.00000008e+09]\n",
      " [-8.10000004e+09 -8.10000005e+09 -8.10000005e+09 -8.10000005e+09\n",
      "  -8.10000005e+09 -8.10000006e+09 -8.10000006e+09]\n",
      " [-7.29000005e+09 -7.29000005e+09 -7.29000005e+09 -7.29000005e+09\n",
      "  -7.29000006e+09 -7.29000006e+09 -7.29000006e+09]\n",
      " [-1.80522671e+01 -2.03548522e+01 -2.26574373e+01 -2.49600224e+01\n",
      "  -2.72626075e+01 -2.95651926e+01 -3.18677777e+01]\n",
      " [-1.67240843e+01 -1.90266694e+01 -2.13292545e+01 -2.35737280e+01\n",
      "  -2.55297395e+01 -2.74857511e+01 -2.94417626e+01]\n",
      " [-1.56766026e+01 -1.79791877e+01 -2.02817728e+01 -2.22455453e+01\n",
      "  -2.42015568e+01 -2.61575683e+01 -2.80226347e+01]\n",
      " [-1.49038096e+01 -1.72063947e+01 -1.92420520e+01 -2.11980635e+01\n",
      "  -2.31540750e+01 -2.49411729e+01 -2.66944519e+01]\n",
      " [-1.42780030e+01 -1.65132475e+01 -1.84692590e+01 -2.03871333e+01\n",
      "  -2.21404122e+01 -2.38936912e+01 -2.56469701e+01]\n",
      " [-1.37423698e+01 -1.58874409e+01 -1.78434524e+01 -1.96143403e+01\n",
      "  -2.13676192e+01 -2.30306450e+01 -2.46400829e+01]\n",
      " [-1.32843345e+01 -1.53518077e+01 -1.72352547e+01 -1.89885337e+01\n",
      "  -2.06484140e+01 -2.22578519e+01 -2.38590804e+01]\n",
      " [-1.28776432e+01 -1.48937724e+01 -1.66996215e+01 -1.84131696e+01\n",
      "  -2.00226075e+01 -2.15884213e+01 -2.30862874e+01]\n",
      " [-1.25189462e+01 -1.44870811e+01 -1.62415862e+01 -1.78775363e+01\n",
      "  -1.94647486e+01 -2.09626147e+01 -2.24481620e+01]\n",
      " [-1.21723726e+01 -1.40816160e+01 -1.58100631e+01 -1.74195011e+01\n",
      "  -1.89291153e+01 -2.04156501e+01 -2.18223554e+01]\n",
      " [-1.18434907e+01 -1.37229190e+01 -1.54033718e+01 -1.69732139e+01\n",
      "  -1.84710801e+01 -1.98800168e+01 -2.12828280e+01]\n",
      " [-1.15474233e+01 -1.33940371e+01 -1.50446748e+01 -1.65665226e+01\n",
      "  -1.80152762e+01 -1.94175648e+01 -2.07471948e+01]\n",
      " [-1.12716667e+01 -1.30979696e+01 -1.47099595e+01 -1.62018795e+01\n",
      "  -1.76085849e+01 -1.89595295e+01 -2.02798349e+01]\n",
      " [-1.10183151e+01 -1.28102876e+01 -1.43810776e+01 -1.58431825e+01\n",
      "  -1.72232082e+01 -1.85528382e+01 -1.98217997e+01]\n",
      " [-1.07807329e+01 -1.25345310e+01 -1.40850102e+01 -1.55143007e+01\n",
      "  -1.68645112e+01 -1.81522440e+01 -1.94095590e+01]\n",
      " [-1.05615569e+01 -1.22811794e+01 -1.38092536e+01 -1.52059993e+01\n",
      "  -1.65306827e+01 -1.77935470e+01 -1.90028677e+01]\n",
      " [-1.03519038e+01 -1.20435973e+01 -1.35357712e+01 -1.49099318e+01\n",
      "  -1.62018008e+01 -1.74401979e+01 -1.86341059e+01]\n",
      " [-1.01491712e+01 -1.18204537e+01 -1.32824197e+01 -1.46341752e+01\n",
      "  -1.59057334e+01 -1.71113161e+01 -1.82754089e+01]\n",
      " [-9.95643320e+00 -1.16012777e+01 -1.30448375e+01 -1.43671124e+01\n",
      "  -1.56112758e+01 -1.67952345e+01 -1.79418233e+01]\n",
      " [-9.76863353e+00 -1.13916246e+01 -1.28136115e+01 -1.41137609e+01\n",
      "  -1.53355192e+01 -1.64991670e+01 -1.76129414e+01]\n",
      " [-9.59512482e+00 -1.11988865e+01 -1.25944354e+01 -1.38761787e+01\n",
      "  -1.50721179e+01 -1.62132365e+01 -1.73084016e+01]\n",
      " [-9.42680683e+00 -1.10110868e+01 -1.23847824e+01 -1.36406127e+01\n",
      "  -1.48187664e+01 -1.59374799e+01 -1.70123341e+01]\n",
      " [-9.26786484e+00 -1.08287653e+01 -1.21844853e+01 -1.34214366e+01\n",
      "  -1.45804909e+01 -1.56764458e+01 -1.67321847e+01]\n",
      " [-9.11588210e+00 -1.06552566e+01 -1.19917472e+01 -1.32107156e+01\n",
      "  -1.43429087e+01 -1.54230942e+01 -1.64564280e+01]\n",
      " [-8.96978343e+00 -1.04869386e+01 -1.18039475e+01 -1.30010625e+01\n",
      "  -1.41237327e+01 -1.51829661e+01 -1.61970501e+01]\n",
      " [-8.82594240e+00 -1.03279966e+01 -1.16272730e+01 -1.28083244e+01\n",
      "  -1.39062042e+01 -1.49453839e+01 -1.59436986e+01]\n",
      " [-8.68682341e+00 -1.01738459e+01 -1.14537643e+01 -1.26177041e+01\n",
      "  -1.36965511e+01 -1.47230600e+01 -1.57022236e+01]\n",
      " [-8.55203592e+00 -1.00218632e+01 -1.12854463e+01 -1.24299044e+01\n",
      "  -1.34964444e+01 -1.45038839e+01 -1.54646414e+01]\n",
      " [-8.42298848e+00 -9.87576452e+00 -1.11265043e+01 -1.22558816e+01\n",
      "  -1.33037063e+01 -1.42942309e+01 -1.52387566e+01]\n",
      " [-8.29874398e+00 -9.73664553e+00 -1.09684635e+01 -1.20823729e+01\n",
      "  -1.31159066e+01 -1.40872523e+01 -1.50195805e+01]\n",
      " [-8.17836085e+00 -9.60185805e+00 -1.08164808e+01 -1.19140550e+01\n",
      "  -1.29306367e+01 -1.38936367e+01 -1.48073943e+01]\n",
      " [-8.06286944e+00 -9.46832665e+00 -1.06703821e+01 -1.17539695e+01\n",
      "  -1.27571280e+01 -1.37008986e+01 -1.45977412e+01]\n",
      " [-7.95027763e+00 -9.33927922e+00 -1.05274169e+01 -1.15950276e+01\n",
      "  -1.25846458e+01 -1.35130990e+01 -1.43976868e+01]\n",
      " [-7.83870586e+00 -9.21503471e+00 -1.03882979e+01 -1.14430448e+01\n",
      "  -1.24163278e+01 -1.33312251e+01 -1.42049488e+01]\n",
      " [-7.73045087e+00 -9.09465158e+00 -1.02535104e+01 -1.12948289e+01\n",
      "  -1.22549815e+01 -1.31577164e+01 -1.40157135e+01]\n",
      " [-7.62497819e+00 -8.97686854e+00 -1.01229933e+01 -1.11487302e+01\n",
      "  -1.20960396e+01 -1.29862412e+01 -1.38279138e+01]\n",
      " [-7.52283056e+00 -8.86137714e+00 -9.99394588e+00 -1.10096112e+01\n",
      "  -1.19440568e+01 -1.28179232e+01 -1.36483873e+01]\n",
      " [-7.42392444e+00 -8.74878533e+00 -9.86970137e+00 -1.08716255e+01\n",
      "  -1.17924953e+01 -1.26557215e+01 -1.34748786e+01]\n",
      " [-7.32719744e+00 -8.64053034e+00 -9.74931824e+00 -1.07368380e+01\n",
      "  -1.16463966e+01 -1.24967795e+01 -1.33041130e+01]\n",
      " [-7.23404487e+00 -8.53505766e+00 -9.62925418e+00 -1.06077609e+01\n",
      "  -1.15035006e+01 -1.23428996e+01 -1.31357950e+01]\n",
      " [-7.14216579e+00 -8.42969715e+00 -9.51376277e+00 -1.04787135e+01\n",
      "  -1.13643816e+01 -1.21909169e+01 -1.29729749e+01]\n",
      " [-7.05100501e+00 -8.32754952e+00 -9.40117096e+00 -1.03544690e+01\n",
      "  -1.12292135e+01 -1.20445464e+01 -1.28140330e+01]\n",
      " [-6.96266847e+00 -8.22864340e+00 -9.29000900e+00 -1.02332197e+01\n",
      "  -1.10944260e+01 -1.18984477e+01 -1.26584518e+01]\n",
      " [-6.87556645e+00 -8.13191640e+00 -9.18175402e+00 -1.01128366e+01\n",
      "  -1.09653786e+01 -1.17588877e+01 -1.25064691e+01]\n",
      " [-6.79147253e+00 -8.03660622e+00 -9.07628134e+00 -9.99734522e+00\n",
      "  -1.08371454e+01 -1.16197687e+01 -1.23575104e+01]\n",
      " [-6.70880103e+00 -7.94345364e+00 -8.97279203e+00 -9.88302839e+00\n",
      "  -1.07129008e+01 -1.14849812e+01 -1.22114117e+01]\n",
      " [-6.62848102e+00 -7.85157457e+00 -8.87064440e+00 -9.77043658e+00\n",
      "  -1.05909254e+01 -1.13516259e+01 -1.20685347e+01]\n",
      " [-6.54976425e+00 -7.76323803e+00 -8.77173828e+00 -9.66218159e+00\n",
      "  -1.04705423e+01 -1.12225785e+01 -1.19294158e+01]\n",
      " [-6.47268891e+00 -7.67613601e+00 -8.67493050e+00 -9.55404715e+00\n",
      "  -1.03542423e+01 -1.10948996e+01 -1.17921433e+01]\n",
      " [-6.39584534e+00 -7.58912463e+00 -8.57820350e+00 -9.44857447e+00\n",
      "  -1.02387509e+01 -1.09706551e+01 -1.16573558e+01]\n",
      " [-6.32053641e+00 -7.50503070e+00 -8.48505093e+00 -9.34598788e+00\n",
      "  -1.01261591e+01 -1.08481891e+01 -1.15252646e+01]\n",
      " [-6.24711921e+00 -7.42235921e+00 -8.39317185e+00 -9.24384025e+00\n",
      "  -1.00150296e+01 -1.07278060e+01 -1.13962172e+01]\n",
      " [-6.17492785e+00 -7.34203920e+00 -8.30223492e+00 -9.14493413e+00\n",
      "  -9.90677466e+00 -1.06101439e+01 -1.12689304e+01]\n",
      " [-6.10465044e+00 -7.26199649e+00 -8.21389838e+00 -9.04735380e+00\n",
      "  -9.80037562e+00 -1.04946525e+01 -1.11446859e+01]\n",
      " [-6.03536935e+00 -7.18327972e+00 -8.12679636e+00 -8.95062680e+00\n",
      "  -9.69490294e+00 -1.03814315e+01 -1.10218663e+01]\n",
      " [-5.96762183e+00 -7.10643615e+00 -8.04105874e+00 -8.85747423e+00\n",
      "  -9.59275532e+00 -1.02688397e+01 -1.09014832e+01]\n",
      " [-5.90085613e+00 -7.03112722e+00 -7.95696481e+00 -8.76443420e+00\n",
      "  -9.49070033e+00 -1.01597367e+01 -1.07828277e+01]\n",
      " [-5.83461910e+00 -6.95701925e+00 -7.87429332e+00 -8.67255512e+00\n",
      "  -9.39179421e+00 -1.00514818e+01 -1.06673363e+01]\n",
      " [-5.76920072e+00 -6.88360204e+00 -7.79319248e+00 -8.58365160e+00\n",
      "  -9.29374242e+00 -9.94600908e+00 -1.05525720e+01]\n",
      " [-5.70561803e+00 -6.81141069e+00 -7.71287248e+00 -8.49531505e+00\n",
      "  -9.19701543e+00 -9.84073512e+00 -1.04399802e+01]\n",
      " [-5.64251930e+00 -6.74113328e+00 -7.63415570e+00 -8.40821303e+00\n",
      "  -9.10266461e+00 -9.73858749e+00 -1.03288597e+01]\n",
      " [-5.58125500e+00 -6.67185219e+00 -7.55721576e+00 -8.32309381e+00\n",
      "  -9.00951203e+00 -9.63688284e+00 -1.02206047e+01]\n",
      " [-5.52037570e+00 -6.60285931e+00 -7.48037219e+00 -8.23899988e+00\n",
      "  -8.91763296e+00 -9.53797672e+00 -1.01129039e+01]\n",
      " [-5.46113777e+00 -6.53511179e+00 -7.40506326e+00 -8.15632838e+00\n",
      "  -8.82671384e+00 -9.43960725e+00 -1.00074312e+01]\n",
      " [-5.40224625e+00 -6.46887477e+00 -7.33164606e+00 -8.07468440e+00\n",
      "  -8.73837730e+00 -9.34288025e+00 -9.90294587e+00]\n",
      " [-5.34355396e+00 -6.40345638e+00 -7.25846081e+00 -7.99436439e+00\n",
      "  -8.65064900e+00 -9.24763416e+00 -9.80079824e+00]\n",
      " [-5.28622901e+00 -6.33891786e+00 -7.18626946e+00 -7.91564761e+00\n",
      "  -8.56354698e+00 -9.15448158e+00 -9.69934186e+00]\n",
      " [-5.22963051e+00 -6.27533517e+00 -7.11599204e+00 -7.83720619e+00\n",
      "  -8.47879311e+00 -9.06216660e+00 -9.60043574e+00]\n",
      " [-5.17398247e+00 -6.21223644e+00 -7.04621202e+00 -7.76036261e+00\n",
      "  -8.39469918e+00 -8.97028753e+00 -9.50183767e+00]\n",
      " [-5.11931763e+00 -6.15097214e+00 -6.97693093e+00 -7.68488196e+00\n",
      "  -8.31202768e+00 -8.88072864e+00 -9.40511067e+00]\n",
      " [-5.06537262e+00 -6.09009284e+00 -6.90918341e+00 -7.60957303e+00\n",
      "  -8.23005313e+00 -8.79239210e+00 -9.30921426e+00]\n",
      " [-5.01239874e+00 -6.02946822e+00 -6.84250576e+00 -7.53615583e+00\n",
      "  -8.14973312e+00 -8.70529008e+00 -9.21587540e+00]\n",
      " [-4.95971848e+00 -5.97023029e+00 -6.77626874e+00 -7.46342054e+00\n",
      "  -8.07036137e+00 -8.61832747e+00 -9.12272282e+00]\n",
      " [-4.90749135e+00 -5.91153799e+00 -6.71085035e+00 -7.39122918e+00\n",
      "  -7.99164460e+00 -8.53381484e+00 -9.03084375e+00]\n",
      " [-4.85604642e+00 -5.85421305e+00 -6.64701093e+00 -7.32095177e+00\n",
      "  -7.91471545e+00 -8.44972091e+00 -8.93992954e+00]\n",
      " [-4.80542029e+00 -5.79705464e+00 -6.58342824e+00 -7.25076913e+00\n",
      "  -7.83787188e+00 -8.36704942e+00 -8.85131722e+00]\n",
      " [-4.75545201e+00 -5.74045614e+00 -6.52032951e+00 -7.18148804e+00\n",
      "  -7.76256295e+00 -8.28485249e+00 -8.76298068e+00]\n",
      " [-4.70619574e+00 -5.68480809e+00 -6.45906521e+00 -7.11368494e+00\n",
      "  -7.68793055e+00 -8.20453249e+00 -8.67587866e+00]\n",
      " [-4.65776432e+00 -5.63014325e+00 -6.39783222e+00 -7.04593742e+00\n",
      "  -7.61451334e+00 -8.12452774e+00 -8.58945451e+00]\n",
      " [-4.60982641e+00 -5.57607603e+00 -6.33695292e+00 -6.97970039e+00\n",
      "  -7.54204450e+00 -8.04581097e+00 -8.50511308e+00]\n",
      " [-4.56217132e+00 -5.52213102e+00 -6.27771498e+00 -6.91412075e+00\n",
      "  -7.46985314e+00 -7.96788451e+00 -8.42101915e+00]\n",
      " [-4.51513814e+00 -5.46915714e+00 -6.21888392e+00 -6.84870236e+00\n",
      "  -7.39942595e+00 -7.89104094e+00 -8.33834766e+00]\n",
      " [-4.46847879e+00 -5.41693002e+00 -6.16019162e+00 -6.78511967e+00\n",
      "  -7.32914854e+00 -7.81508751e+00 -8.25599092e+00]\n",
      " [-4.42268565e+00 -5.36548508e+00 -6.10286668e+00 -6.72162228e+00\n",
      "  -7.25986745e+00 -7.73977859e+00 -8.17552761e+00]\n",
      " [-4.37730945e+00 -5.31419179e+00 -6.04625619e+00 -6.65852354e+00\n",
      "  -7.19137001e+00 -7.66570075e+00 -8.09520760e+00]\n",
      " [-4.33264574e+00 -5.26356565e+00 -5.98965769e+00 -6.59698023e+00\n",
      "  -7.12362249e+00 -7.59228355e+00 -8.01649082e+00]\n",
      " [-4.28848125e+00 -5.21359738e+00 -5.93400965e+00 -6.53571593e+00\n",
      "  -7.05695187e+00 -7.51999089e+00 -7.93783583e+00]\n",
      " [-4.24490905e+00 -5.16434111e+00 -5.87934480e+00 -6.47483663e+00\n",
      "  -6.99071485e+00 -7.44779954e+00 -7.86090966e+00]\n",
      " [-4.20140336e+00 -5.11555094e+00 -5.82479333e+00 -6.41513070e+00\n",
      "  -6.92529646e+00 -7.37720804e+00 -7.78406608e+00]\n",
      " [-4.15840739e+00 -5.06711952e+00 -5.77084833e+00 -6.35589277e+00\n",
      "  -6.86035775e+00 -7.30693063e+00 -7.70875716e+00]\n",
      " [-4.11588508e+00 -5.01918161e+00 -5.71787445e+00 -6.29720047e+00\n",
      "  -6.79677506e+00 -7.23764954e+00 -7.63348544e+00]\n",
      " [-4.07390736e+00 -4.97214843e+00 -5.66523747e+00 -6.23922540e+00\n",
      "  -6.73348054e+00 -7.16868099e+00 -7.55979850e+00]\n",
      " [-4.03246622e+00 -4.92548908e+00 -5.61301034e+00 -6.18190046e+00\n",
      "  -6.67038181e+00 -7.10093347e+00 -7.48638130e+00]\n",
      " [-3.99148064e+00 -4.87896906e+00 -5.56156541e+00 -6.12530196e+00\n",
      "  -6.60865028e+00 -7.03351490e+00 -7.41418995e+00]\n",
      " [-3.95106079e+00 -4.83317592e+00 -5.51071308e+00 -6.06896021e+00\n",
      "  -6.54738598e+00 -6.96727787e+00 -7.34202244e+00]\n",
      " [-3.91098914e+00 -4.78779973e+00 -5.46008695e+00 -6.01331216e+00\n",
      "  -6.48650667e+00 -6.90134115e+00 -7.27131297e+00]\n",
      " [-3.87096778e+00 -4.74313602e+00 -5.41011867e+00 -5.95851421e+00\n",
      "  -6.42626280e+00 -6.83592277e+00 -7.20103555e+00]]\n"
     ]
    }
   ],
   "source": [
    "# derive the matrix of optimal value function at T - 2\n",
    "V_minus2_opt_mat = np.max(V_minus2_cub, axis=2)\n",
    "# draw the expected value function (I drop the first three values to make the picture look nice)\n",
    "ax = plt.gca()\n",
    "ax.plot(W_vec[3:], (V_minus2_opt_mat @ Gamma_vec.reshape(-1, 1))[3:])\n",
    "ax.set_xlabel('W')\n",
    "ax.set_ylabel('Expected value function at T - 2')\n",
    "plt.show()\n",
    "# print the matrix of the value function\n",
    "print('The value function for t = T - 2 is: \\n', V_minus2_opt_mat)"
   ]
  },
  {
   "cell_type": "code",
   "execution_count": 39,
   "metadata": {
    "scrolled": false
   },
   "outputs": [
    {
     "data": {
      "image/png": "[encoded data removed]",
      "text/plain": [
       "<Figure size 432x288 with 1 Axes>"
      ]
     },
     "metadata": {
      "needs_background": "light"
     },
     "output_type": "display_data"
    },
    {
     "name": "stdout",
     "output_type": "stream",
     "text": [
      "The policy function for t = T - 2 is: \n",
      " [[0.01 0.01 0.01 0.01 0.01 0.01 0.01]\n",
      " [0.01 0.01 0.01 0.01 0.01 0.01 0.01]\n",
      " [0.02 0.02 0.02 0.02 0.02 0.02 0.02]\n",
      " [0.03 0.03 0.03 0.03 0.03 0.03 0.03]\n",
      " [0.04 0.04 0.04 0.03 0.03 0.03 0.03]\n",
      " [0.05 0.05 0.05 0.04 0.04 0.04 0.03]\n",
      " [0.06 0.06 0.05 0.05 0.05 0.04 0.04]\n",
      " [0.07 0.06 0.06 0.05 0.05 0.05 0.05]\n",
      " [0.08 0.07 0.07 0.06 0.06 0.05 0.05]\n",
      " [0.09 0.08 0.07 0.07 0.06 0.06 0.05]\n",
      " [0.1  0.09 0.08 0.07 0.07 0.06 0.06]\n",
      " [0.11 0.1  0.09 0.08 0.07 0.07 0.06]\n",
      " [0.11 0.1  0.09 0.09 0.08 0.07 0.07]\n",
      " [0.12 0.11 0.1  0.09 0.09 0.08 0.07]\n",
      " [0.13 0.12 0.11 0.1  0.09 0.08 0.08]\n",
      " [0.14 0.13 0.11 0.1  0.1  0.09 0.08]\n",
      " [0.15 0.13 0.12 0.11 0.1  0.1  0.09]\n",
      " [0.16 0.14 0.13 0.12 0.11 0.1  0.09]\n",
      " [0.17 0.15 0.14 0.12 0.11 0.11 0.1 ]\n",
      " [0.18 0.16 0.14 0.13 0.12 0.11 0.1 ]\n",
      " [0.18 0.16 0.15 0.14 0.13 0.12 0.11]\n",
      " [0.19 0.17 0.16 0.14 0.13 0.12 0.11]\n",
      " [0.2  0.18 0.16 0.15 0.14 0.13 0.12]\n",
      " [0.21 0.19 0.17 0.16 0.14 0.13 0.12]\n",
      " [0.22 0.2  0.18 0.16 0.15 0.14 0.13]\n",
      " [0.23 0.2  0.18 0.17 0.15 0.14 0.13]\n",
      " [0.24 0.21 0.19 0.17 0.16 0.15 0.14]\n",
      " [0.25 0.22 0.2  0.18 0.17 0.15 0.14]\n",
      " [0.25 0.23 0.2  0.19 0.17 0.16 0.15]\n",
      " [0.26 0.23 0.21 0.19 0.18 0.16 0.15]\n",
      " [0.27 0.24 0.22 0.2  0.18 0.17 0.16]\n",
      " [0.28 0.25 0.23 0.2  0.19 0.18 0.16]\n",
      " [0.29 0.26 0.23 0.21 0.2  0.18 0.17]\n",
      " [0.3  0.27 0.24 0.22 0.2  0.18 0.17]\n",
      " [0.31 0.27 0.25 0.22 0.21 0.19 0.18]\n",
      " [0.32 0.28 0.25 0.23 0.21 0.2  0.18]\n",
      " [0.32 0.29 0.26 0.24 0.22 0.2  0.19]\n",
      " [0.33 0.3  0.27 0.24 0.22 0.21 0.19]\n",
      " [0.34 0.3  0.27 0.25 0.23 0.21 0.2 ]\n",
      " [0.35 0.31 0.28 0.26 0.24 0.22 0.2 ]\n",
      " [0.36 0.32 0.29 0.26 0.24 0.22 0.21]\n",
      " [0.37 0.33 0.3  0.27 0.25 0.23 0.21]\n",
      " [0.38 0.34 0.3  0.27 0.25 0.23 0.22]\n",
      " [0.39 0.34 0.31 0.28 0.26 0.24 0.22]\n",
      " [0.39 0.35 0.32 0.29 0.26 0.24 0.23]\n",
      " [0.4  0.36 0.32 0.29 0.27 0.25 0.23]\n",
      " [0.41 0.37 0.33 0.3  0.28 0.25 0.24]\n",
      " [0.42 0.37 0.34 0.31 0.28 0.26 0.24]\n",
      " [0.43 0.38 0.34 0.31 0.29 0.27 0.25]\n",
      " [0.44 0.39 0.35 0.32 0.29 0.27 0.25]\n",
      " [0.45 0.4  0.36 0.33 0.3  0.28 0.26]\n",
      " [0.45 0.41 0.36 0.33 0.3  0.28 0.26]\n",
      " [0.46 0.41 0.37 0.34 0.31 0.29 0.27]\n",
      " [0.47 0.42 0.38 0.34 0.32 0.29 0.27]\n",
      " [0.48 0.43 0.39 0.35 0.32 0.3  0.28]\n",
      " [0.49 0.44 0.39 0.36 0.33 0.3  0.28]\n",
      " [0.5  0.44 0.4  0.36 0.33 0.31 0.29]\n",
      " [0.51 0.45 0.41 0.37 0.34 0.31 0.29]\n",
      " [0.52 0.46 0.41 0.38 0.35 0.32 0.3 ]\n",
      " [0.52 0.47 0.42 0.38 0.35 0.32 0.3 ]\n",
      " [0.53 0.47 0.43 0.39 0.36 0.33 0.31]\n",
      " [0.54 0.48 0.43 0.39 0.36 0.34 0.31]\n",
      " [0.55 0.49 0.44 0.4  0.37 0.34 0.32]\n",
      " [0.56 0.5  0.45 0.41 0.37 0.35 0.32]\n",
      " [0.57 0.51 0.45 0.41 0.38 0.35 0.33]\n",
      " [0.58 0.51 0.46 0.42 0.39 0.36 0.33]\n",
      " [0.59 0.52 0.47 0.43 0.39 0.36 0.34]\n",
      " [0.59 0.53 0.48 0.43 0.4  0.37 0.34]\n",
      " [0.6  0.54 0.48 0.44 0.4  0.37 0.35]\n",
      " [0.61 0.54 0.49 0.45 0.41 0.38 0.35]\n",
      " [0.62 0.55 0.5  0.45 0.41 0.38 0.36]\n",
      " [0.63 0.56 0.5  0.46 0.42 0.39 0.36]\n",
      " [0.64 0.57 0.51 0.46 0.43 0.39 0.37]\n",
      " [0.65 0.58 0.52 0.47 0.43 0.4  0.37]\n",
      " [0.66 0.58 0.52 0.48 0.44 0.41 0.37]\n",
      " [0.66 0.59 0.53 0.48 0.44 0.41 0.38]\n",
      " [0.67 0.6  0.54 0.49 0.45 0.41 0.39]\n",
      " [0.68 0.61 0.54 0.5  0.45 0.42 0.39]\n",
      " [0.69 0.61 0.55 0.5  0.46 0.43 0.39]\n",
      " [0.7  0.62 0.56 0.51 0.47 0.43 0.4 ]\n",
      " [0.71 0.63 0.57 0.51 0.47 0.44 0.41]\n",
      " [0.72 0.64 0.57 0.52 0.48 0.44 0.41]\n",
      " [0.73 0.64 0.58 0.53 0.48 0.45 0.41]\n",
      " [0.73 0.65 0.59 0.53 0.49 0.45 0.42]\n",
      " [0.74 0.66 0.59 0.54 0.49 0.46 0.43]\n",
      " [0.75 0.67 0.6  0.55 0.5  0.46 0.43]\n",
      " [0.76 0.68 0.61 0.55 0.51 0.47 0.43]\n",
      " [0.77 0.68 0.61 0.56 0.51 0.47 0.44]\n",
      " [0.78 0.69 0.62 0.56 0.52 0.48 0.45]\n",
      " [0.79 0.7  0.63 0.57 0.52 0.48 0.45]\n",
      " [0.8  0.71 0.64 0.58 0.53 0.49 0.45]\n",
      " [0.8  0.71 0.64 0.58 0.54 0.49 0.46]\n",
      " [0.81 0.72 0.65 0.59 0.54 0.5  0.47]\n",
      " [0.82 0.73 0.66 0.6  0.55 0.51 0.47]\n",
      " [0.83 0.74 0.66 0.6  0.55 0.51 0.47]\n",
      " [0.84 0.75 0.67 0.61 0.56 0.52 0.48]\n",
      " [0.85 0.75 0.68 0.62 0.56 0.52 0.49]\n",
      " [0.86 0.76 0.68 0.62 0.57 0.53 0.49]\n",
      " [0.87 0.77 0.69 0.63 0.58 0.53 0.49]\n",
      " [0.87 0.78 0.7  0.63 0.58 0.54 0.5 ]]\n"
     ]
    }
   ],
   "source": [
    "# derive the matrix of policy function at T - 2\n",
    "index_max_minus2 = np.argmax(V_minus2_cub, axis=2)\n",
    "psi_minus2_opt_mat = np.zeros((N, M), dtype='float')\n",
    "for i in range(M):\n",
    "    psi_minus2_opt_mat[:, i] = W_vec[index_max_minus2[:, i]]\n",
    "# draw the expected policy function \n",
    "ax = plt.gca()\n",
    "ax.plot(W_vec, psi_minus2_opt_mat @ Gamma_vec.reshape(-1, 1))\n",
    "ax.set_xlabel('W')\n",
    "ax.set_ylabel('Expected policy function at T - 2')\n",
    "plt.show()\n",
    "# print the column of the value function\n",
    "print('The policy function for t = T - 2 is: \\n', psi_minus2_opt_mat)"
   ]
  },
  {
   "cell_type": "code",
   "execution_count": 40,
   "metadata": {},
   "outputs": [
    {
     "data": {
      "text/plain": [
       "3.7200870380702984e+20"
      ]
     },
     "execution_count": 40,
     "metadata": {},
     "output_type": "execute_result"
    }
   ],
   "source": [
    "# calculate the distance between V_{T - 2} and V_{T - 1}\n",
    "delta_minus2 = ((V_minus2_opt_mat - V_minus1_opt_mat) ** 2).sum()\n",
    "delta_minus2"
   ]
  },
  {
   "cell_type": "markdown",
   "metadata": {},
   "source": [
    "$\\delta_{T - 2}$ is becoming even smaller."
   ]
  },
  {
   "cell_type": "markdown",
   "metadata": {},
   "source": [
    "### Ex 21"
   ]
  },
  {
   "cell_type": "code",
   "execution_count": 41,
   "metadata": {},
   "outputs": [
    {
     "name": "stdout",
     "output_type": "stream",
     "text": [
      "iteration 1: distance = 5.6700000580251445e+20\n",
      "iteration 2: distance = 4.592700047000368e+20\n",
      "iteration 3: distance = 3.7200870380702984e+20\n",
      "iteration 4: distance = 3.013270500836941e+20\n",
      "iteration 5: distance = 2.4407491056779225e+20\n",
      "iteration 6: distance = 1.977006775599117e+20\n",
      "iteration 7: distance = 1.6013754882352847e+20\n",
      "iteration 8: distance = 1.29711414547058e+20\n",
      "iteration 9: distance = 1.0506624578311702e+20\n",
      "iteration 10: distance = 8.51036590843248e+19\n",
      "iteration 11: distance = 6.8933963858303115e+19\n",
      "iteration 12: distance = 5.583651072522553e+19\n",
      "iteration 13: distance = 4.5227573687432675e+19\n",
      "iteration 14: distance = 3.6634334686820475e+19\n",
      "iteration 15: distance = 2.9673811096324588e+19\n",
      "iteration 16: distance = 2.4035786988022915e+19\n",
      "iteration 17: distance = 1.9468987460298564e+19\n",
      "iteration 18: distance = 1.576987984284184e+19\n",
      "iteration 19: distance = 1.2773602672701886e+19\n",
      "iteration 20: distance = 1.034661816488853e+19\n",
      "iteration 21: distance = 8.380760713559713e+18\n",
      "iteration 22: distance = 6.788416177983365e+18\n",
      "iteration 23: distance = 5.498617104166525e+18\n",
      "iteration 24: distance = 4.4538798543748864e+18\n",
      "iteration 25: distance = 3.6076426820436567e+18\n",
      "iteration 26: distance = 2.922190572455362e+18\n",
      "iteration 27: distance = 2.366974363688844e+18\n",
      "iteration 28: distance = 1.9172492345879634e+18\n",
      "iteration 29: distance = 1.5529718800162504e+18\n",
      "iteration 30: distance = 1.2579072228131628e+18\n",
      "iteration 31: distance = 1.0189048504786616e+18\n",
      "iteration 32: distance = 8.25312928887716e+17\n",
      "iteration 33: distance = 6.685034723990497e+17\n",
      "iteration 34: distance = 5.4148781264323046e+17\n",
      "iteration 35: distance = 4.386051282410167e+17\n",
      "iteration 36: distance = 3.5527015387522355e+17\n",
      "iteration 37: distance = 2.8776882463893117e+17\n",
      "iteration 38: distance = 2.3309274795753424e+17\n",
      "iteration 39: distance = 1.8880512584560278e+17\n",
      "iteration 40: distance = 1.5293215193493827e+17\n",
      "iteration 41: distance = 1.2387504306730006e+17\n",
      "iteration 42: distance = 1.0033878488451306e+17\n",
      "iteration 43: distance = 8.12744157564556e+16\n",
      "iteration 44: distance = 6.583227676272908e+16\n",
      "iteration 45: distance = 5.332414417781057e+16\n",
      "iteration 46: distance = 4.3192556784026584e+16\n",
      "iteration 47: distance = 3.498597099506155e+16\n",
      "iteration 48: distance = 2.833863650599989e+16\n",
      "iteration 49: distance = 2.295429556985994e+16\n",
      "iteration 50: distance = 1.8592979411586576e+16\n",
      "iteration 51: distance = 1.5060313323385154e+16\n",
      "iteration 52: distance = 1.2198853791942e+16\n",
      "iteration 53: distance = 9881071571473046.0\n",
      "iteration 54: distance = 8003667972893192.0\n",
      "iteration 55: distance = 6482971058043506.0\n",
      "iteration 56: distance = 5251206557015263.0\n",
      "iteration 57: distance = 4253477311182384.5\n",
      "iteration 58: distance = 3445316622057755.5\n",
      "iteration 59: distance = 2790706463866804.5\n",
      "iteration 60: distance = 2260472235732134.0\n",
      "iteration 61: distance = 1830982510943050.8\n",
      "iteration 62: distance = 1483095833863893.0\n",
      "iteration 63: distance = 1201307625429775.0\n",
      "iteration 64: distance = 973059176598139.4\n",
      "iteration 65: distance = 788177933044514.2\n",
      "iteration 66: distance = 638424125766077.2\n",
      "iteration 67: distance = 517123541870543.7\n",
      "iteration 68: distance = 418870068915161.06\n",
      "iteration 69: distance = 339284755821301.06\n",
      "iteration 70: distance = 274820652215274.22\n",
      "iteration 71: distance = 222604728294392.16\n",
      "iteration 72: distance = 180309829918477.47\n",
      "iteration 73: distance = 146050962233986.3\n",
      "iteration 74: distance = 118301279409548.27\n",
      "iteration 75: distance = 95824036321753.17\n",
      "iteration 76: distance = 77617469420638.89\n",
      "iteration 77: distance = 62870150230735.98\n",
      "iteration 78: distance = 50924821686914.32\n",
      "iteration 79: distance = 41249105566418.5\n",
      "iteration 80: distance = 33411775508816.523\n",
      "iteration 81: distance = 27063538162158.547\n",
      "iteration 82: distance = 21921465911365.18\n",
      "iteration 83: distance = 17756387388222.133\n",
      "iteration 84: distance = 14382673784475.812\n",
      "iteration 85: distance = 11649965765440.787\n",
      "iteration 86: distance = 9436472270021.875\n",
      "iteration 87: distance = 7643542538731.971\n",
      "iteration 88: distance = 6191269456386.519\n",
      "iteration 89: distance = 5014928259685.982\n",
      "iteration 90: distance = 4062091890357.76\n",
      "iteration 91: distance = 3290294431200.983\n",
      "iteration 92: distance = 2665138489283.05\n",
      "iteration 93: distance = 2158762176328.333\n",
      "iteration 94: distance = 1748597362833.7273\n",
      "iteration 95: distance = 1416363863901.4849\n",
      "iteration 96: distance = 1147254729764.4727\n",
      "iteration 97: distance = 929276331110.9948\n",
      "iteration 98: distance = 752713828198.5693\n",
      "iteration 99: distance = 609698200835.3107\n",
      "iteration 100: distance = 493855542659.8484\n",
      "iteration 101: distance = 0.0\n"
     ]
    }
   ],
   "source": [
    "V_Tplus1_mat = np.zeros((N, M), dtype='float')\n",
    "E_V_Tplus1_vec = (V_Tplus1_mat @ Gamma_vec.reshape(-1, 1)).reshape(1, 1, N)\n",
    "E_V_Tplus1_cub = np.tile(E_V_Tplus1_vec, (N, M ,1))\n",
    "E_V_Tplus1_cub[c_neg] = -1e10\n",
    "s = 0\n",
    "while True:\n",
    "    V_T_cub = u_cub + beta * E_V_Tplus1_cub\n",
    "    V_T_opt_mat = np.max(V_T_cub, axis=2)\n",
    "    if ((V_T_opt_mat - V_Tplus1_mat) ** 2).sum() < 1e-9:\n",
    "        print('iteration {}: distance = {}'.format(s + 1, ((V_T_opt_mat - V_Tplus1_mat) ** 2).sum()))\n",
    "        index_max_T = np.argmax(V_T_cub, axis=2)\n",
    "        psi_T_opt_mat = np.zeros((N, M), dtype='float')\n",
    "        for i in range(M):\n",
    "            psi_T_opt_mat[:, i] = W_vec[index_max_T[:, i]]\n",
    "        break\n",
    "    elif s >= 1e4:\n",
    "        print('iteration {}: distance = {}'.format(s + 1, ((V_T_opt_mat - V_Tplus1_mat) ** 2).sum()))\n",
    "        index_max_T = np.argmax(V_T_cub, axis=2)\n",
    "        psi_T_opt_mat = np.zeros((N, M), dtype='float')\n",
    "        for i in range(M):\n",
    "            psi_T_opt_mat[:, i] = W_vec[index_max_T[:, i]]\n",
    "        print('After 10000 iterations, it still does not converge.' + \n",
    "              'To avoid infinitely iterations, the loop breaks automatically.')\n",
    "        break\n",
    "    else:\n",
    "        print('iteration {}: distance = {}'.format(s + 1, ((V_T_opt_mat - V_Tplus1_mat) ** 2).sum()))\n",
    "        s += 1\n",
    "        V_Tplus1_mat = V_T_opt_mat\n",
    "        E_V_Tplus1_vec = (V_Tplus1_mat @ Gamma_vec.reshape(-1, 1)).reshape(1, 1, N)\n",
    "        E_V_Tplus1_cub = np.tile(E_V_Tplus1_vec, (N, M ,1))\n",
    "        E_V_Tplus1_cub[c_neg] = -1e10"
   ]
  },
  {
   "cell_type": "markdown",
   "metadata": {},
   "source": [
    "Therefore, it takes 101 iterations to get a convergent policy function from the last period $T$."
   ]
  },
  {
   "cell_type": "markdown",
   "metadata": {},
   "source": [
    "### Ex 22"
   ]
  },
  {
   "cell_type": "code",
   "execution_count": 42,
   "metadata": {},
   "outputs": [
    {
     "data": {
      "image/png": "[encoded data removed]",
      "text/plain": [
       "<Figure size 720x720 with 1 Axes>"
      ]
     },
     "metadata": {
      "needs_background": "light"
     },
     "output_type": "display_data"
    }
   ],
   "source": [
    "x, y = np.meshgrid(W_vec, eps_vec)\n",
    "fig = plt.figure(figsize = (10, 10))\n",
    "ax = fig.add_subplot(111, projection='3d')\n",
    "ax.plot_surface(x.T, y.T, psi_T_opt_mat, cmap=cm.spring)\n",
    "ax.set_xlabel('cake today')\n",
    "ax.set_ylabel('shock')\n",
    "ax.set_zlabel('cake tomorrow')\n",
    "ax.set_title('Convergent policy function')\n",
    "ax.view_init(elev = 60, azim = 70)"
   ]
  },
  {
   "cell_type": "code",
   "execution_count": null,
   "metadata": {},
   "outputs": [],
   "source": []
  }
 ],
 "metadata": {
  "kernelspec": {
   "display_name": "Python 3",
   "language": "python",
   "name": "python3"
  },
  "language_info": {
   "codemirror_mode": {
    "name": "ipython",
    "version": 3
   },
   "file_extension": ".py",
   "mimetype": "text/x-python",
   "name": "python",
   "nbconvert_exporter": "python",
   "pygments_lexer": "ipython3",
   "version": "3.7.3"
  }
 },
 "nbformat": 4,
 "nbformat_minor": 2
}
